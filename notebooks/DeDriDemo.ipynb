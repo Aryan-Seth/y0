{
 "cells": [
  {
   "cell_type": "markdown",
   "metadata": {},
   "source": [
    "# TA3 simulation workflow \n",
    "\n",
    "## Jeff Bezanson, Julia Computing team and Patrick Stokes, Algebraic Julia (5-10 minutes)\n",
    "\n",
    "Wiring diagram execution of exploratory scientific workflows on models obtained from TA2 for Scenarios 1, 2 and 3.\n",
    "\n",
    "## Sam Witty, CIEMSS team (15 minutes)\n",
    "\n",
    "* Model selection and probabilistic model calibration from historical data from Scenario 2.\n",
    "* Query exploration of realistic vaccination policy interventions\n",
    "* Risk-aware optimization of vaccination policies that account for heavy-tailed infection distributions such as superspreader events\n",
    "* Discussion of HMI integration of continuous validation tools with TA4\n",
    "\n",
    "## Paul Cohen, University of Pittsburgh  (5-10 minutes)\n",
    "\n",
    "Post-execution exploration of simulation results using the DeDri query language."
   ]
  },
  {
   "cell_type": "code",
   "execution_count": 1,
   "metadata": {},
   "outputs": [
    {
     "name": "stdout",
     "output_type": "stream",
     "text": [
      "set()\n"
     ]
    }
   ],
   "source": [
    "import pyro\n",
    "\n",
    "def my_model():\n",
    "    x = pyro.sample(\"x\", pyro.distributions.Normal(0, 1))\n",
    "    y = pyro.sample(\"y\", pyro.distributions.Normal(x, 1))\n",
    "    z = pyro.sample(\"z\", pyro.distributions.Normal(y, 2))\n",
    "    return x, y, z\n",
    "\n",
    "def query_model_vars(model):\n",
    "    model_vars = set()\n",
    "    for name, value in pyro.get_param_store().items():\n",
    "        if name.split(\".\")[0] in model.__name__:\n",
    "            model_vars.add(name)\n",
    "    return model_vars\n",
    "\n",
    "# query the model for all variables\n",
    "vars = query_model_vars(my_model)\n",
    "print(vars) # {'my_model.x', 'my_model.y', 'my_model.z'}\n"
   ]
  },
  {
   "cell_type": "code",
   "execution_count": 4,
   "metadata": {},
   "outputs": [
    {
     "name": "stdout",
     "output_type": "stream",
     "text": [
      "x\n",
      "{'type': 'sample', 'name': 'x', 'fn': Normal(loc: 0.0, scale: 1.0), 'is_observed': False, 'args': (), 'kwargs': {}, 'value': tensor(-0.0740), 'infer': {}, 'scale': 1.0, 'mask': None, 'cond_indep_stack': (), 'done': True, 'stop': False, 'continuation': None}\n",
      "y\n",
      "{'type': 'sample', 'name': 'y', 'fn': Normal(loc: -0.07404226809740067, scale: 1.0), 'is_observed': False, 'args': (), 'kwargs': {}, 'value': tensor(-0.6132), 'infer': {}, 'scale': 1.0, 'mask': None, 'cond_indep_stack': (), 'done': True, 'stop': False, 'continuation': None}\n",
      "z\n",
      "{'type': 'sample', 'name': 'z', 'fn': Normal(loc: -0.6132466197013855, scale: 2.0), 'is_observed': False, 'args': (), 'kwargs': {}, 'value': tensor(0.5962), 'infer': {}, 'scale': 1.0, 'mask': None, 'cond_indep_stack': (), 'done': True, 'stop': False, 'continuation': None}\n",
      "_RETURN\n",
      "{'name': '_RETURN', 'type': 'return', 'value': (tensor(-0.0740), tensor(-0.6132), tensor(0.5962))}\n"
     ]
    }
   ],
   "source": [
    "import pyro\n",
    "import torch\n",
    "\n",
    "def my_model():\n",
    "    x = pyro.sample(\"x\", pyro.distributions.Normal(0, 1))\n",
    "    y = pyro.sample(\"y\", pyro.distributions.Normal(x, 1))\n",
    "    z = pyro.sample(\"z\", pyro.distributions.Normal(y, 2))\n",
    "    return x, y, z\n",
    "\n",
    "# apply a trace to the model\n",
    "traced_model = pyro.poutine.trace(my_model).get_trace()\n",
    "\n",
    "# access the variables and their values\n",
    "for name, node in traced_model.nodes.items():\n",
    "    if 'value' in node:\n",
    "        print(name)\n",
    "        print(node)\n",
    "\n"
   ]
  },
  {
   "cell_type": "markdown",
   "metadata": {},
   "source": [
    "![thin-thread-w-Julia.png](images/thin-thread-w-Julia.png)"
   ]
  },
  {
   "cell_type": "markdown",
   "metadata": {},
   "source": [
    "# Axes of Query Complexity\n",
    "\n",
    "* **model transformation complexity** ranging from simple queries over Pearl’s causal hierarchy (association and intervention) to complex queries (multiple world counterfactuals)\n",
    "* **simulation complexity**, ranging from unconditional (forward simulation) queries to conditional queries (inverse problem)\n",
    "* **decision complexity**, ranging from simple decisions (compare A vs B) to sophisticated decisions “optimize $f(x, u)$ subject to $g(x, u) = 0, h(x, u) \\leq 0$\n",
    "* **intervention complexity**, In general, interventions that modify Petri nets are guaranteed to generate ODE's that preserve mass balance. Interventions that modify ODEs directly have no such guarantees.  As we explore additional queries in the ASKEM starter kit, we will likely need to represent interventions that directly modify the trajectories of the ODE's, which may result in further assumption violations. \n",
    "* **data complexity**.   Just as \"no plan has survived contact with the enemy\",  it may also be the case that \"no model has survived contact with data\". Unobserved confounding, missing data, and selection bias all threaten the validity of causal effect estimates.  Furthermore, when data come from different populations with different distributions over the same variables, care must be taken to avoid introducing bias.  By specifying queries that acknowledge these threats to validity, we can generate models that take these factors into account and apply formal causal reasoning to recover from the biases these threats may cause.\n",
    "\n",
    "\n",
    "\n",
    "## ASKEM Starter Kit Questions\n",
    "\n",
    "| Question | model complexity | simulation complexity | decision complexity | intervention complexity | query expression |\n",
    "|-----------|--------------|-----------------|---------------------------|-------------------|------------------|\n",
    "| What is the probability of staying under ICU capacity? | simple (no interventions) | intermediate (many forward simulations by sampling from prior distribution of parameters) | simple (no decisions)| simple (no intervention)| $$P(ICU < capacity)$$ |\n",
    "What is the probability of staying under ICU capacity if we do intervention X? | intermediate (intervened model) | intermediate (many forward simulations by sampling from prior distribution of parameters) | simple (only one intervention) |  unspecified | $$P(ICU_{do(X)} < capacity)$$ |\n",
    "| I can only do one, is A or B better? | intermediate (two intervened models) | intermediate (many forward simulations by sampling from prior distribution of parameters) | Simple (comparison of two alternatives) |depends on nature of A and B. | $$E[Y_{do(A)} - Y_{do(B)}] > 0$$ |\n",
    "|Is there an intervention that will keep us under ICU capacity with probability $p$? | intermediate (many interventions) | intermediate (many forward simulations by sampling from prior distribution of parameters| sophisticated (search over decision space to find an intervention that satisfy ICU capacity constraint | unspecified |  $$\\texttt{satisfy}_{x\\in X}  P(ICU_{do(x)}) < capacity) > p$$|\n",
    "| Is intervention $A$ or $B$ more likely to keep me under ICU capacity (simpler version of 3b)  | intermediate (two interventions) |intermediate (many forward simulations by sampling from prior distribution of parameters) | simple (comparison of two alternatives)n|depends on nature of A and B. | $$\\frac{P(ICU_{do(A)} < capacity )}{P(ICU_{do(B)} < capacity )}$$  |\n",
    "|When considering interventions $A,B,\\ldots$ what is the minimum (maximum) “expense” that achieves goal $G$? (is this underspecified? probably:  what is the cost function? Shouldn’t we iterate with the user about this?) Are you specifying an optimization function or constraints – not the same thing.  Many of these questions have implicit conditions that need to become explicit | intermediate (many interventions) |intermediate (many forward simulations by sampling from prior distribution of parameters |sophisticated (optimization over decision space) | depends on nature of $A$, $B$, etc...| $$\\begin{array}{rl}\\texttt{minimize}_{x\\in \\{A,B,\\ldots\\}}& Cost(x) \\\\\n",
    "\\texttt{such that} & G_{do(x)} = 1\\end{array}$$"
   ]
  },
  {
   "cell_type": "markdown",
   "metadata": {},
   "source": [
    "## Decision-driven (DeDri) queries that exercise the axes of complexity."
   ]
  },
  {
   "cell_type": "markdown",
   "metadata": {},
   "source": [
    "| Question | model complexity | simulation complexity | decision complexity | intervention complexity | query expression |\n",
    "|-----------|--------------|-----------------|---------------------------|-------------------|------------------|\n",
    "| What is the probability of staying under ICU capacity? | simple (no interventions) | intermediate (many forward simulations by sampling from prior distribution of parameters) | simple (no decisions)| simple (no intervention)| $$P(ICU < capacity)$$ |\n",
    "What is the probability of staying under ICU capacity if we do intervention X? | intermediate (intervened model) | intermediate (many forward simulations by sampling from prior distribution of parameters) | simple (only one intervention) |  depends on X | $$P(ICU_{do(X)} < capacity)$$ |\n",
    "Given that we exceeded ICU capacity, what is the probability of staying under ICU capacity if we do intervention X? | intermediate (intervened model) | complex (requires soving an inverse problem) | simple (only one intervention) |  depends on X | $$P(ICU_{do(X)} < capacity | ICU)$$ |\n",
    "|Given that we exceeded ICU capacity, is there an intervention that will keep us under ICU capacity with probability $p$? | intermediate (many interventions) | complex (requires solving an inverse problem)| sophisticated (search over decision space to find an intervention that satisfy ICU capacity constraint | unspecified |  $$\\texttt{satisfy}_{x\\in X}  P(ICU_{do(x)}) < capacity| ICU) < p$$|\n",
    "| Given that we exceeded ICU capacity, when should we have intervened? | complex (requires stratification) |complex (requires solving an inverse problem) |  complex (search over many interventions) | complex (intervening on a trajectory) | $$\\texttt{satisfy}_{x(t)\\in X(T)}  P(ICU_{do(x(t))} < capacity| ICU)< p$$\n",
    "| On average, how many fewer infections will there be if we imposed a mask mandate? | intermediate (two intervened models) | intermediate (many forward simulations by sampling from prior distribution of parameters) | Simple (comparison of two alternatives) |depends on how the mask mandate is implemented. | $$E[Infections_{do(mask mandate)} - Infections]$$ |\n",
    "|Is there an intervention that will keep us under ICU capacity with probability $p$? | intermediate (many interventions) | intermediate (many forward simulations by sampling from prior distribution of parameters| sophisticated (search over decision space to find an intervention that satisfy ICU capacity constraint | unspecified |  $$\\texttt{satisfy}_{x\\in X}  P(ICU_{do(x)} < capacity) < p$$|\n",
    "| Is intervention $A$ or $B$ more likely to keep me under ICU capacity (simpler version of 3b)  | intermediate (two interventions) |intermediate (many forward simulations by sampling from prior distribution of parameters) | simple (comparison of two alternatives)n|depends on nature of A and B. | $$\\frac{P(ICU_{do(A)} < capacity )}{P(ICU_{do(B)} < capacity )}$$  |"
   ]
  },
  {
   "cell_type": "markdown",
   "metadata": {},
   "source": [
    "## December Demo queries and variants"
   ]
  },
  {
   "cell_type": "markdown",
   "metadata": {},
   "source": [
    "| Question | model complexity | simulation complexity | decision complexity | intervention complexity | data complexity | query expression |\n",
    "|-----------|--------------|-----------------|---------------------------|-------------------|------------------|------------|\n",
    "|Compare different vaccination priority strategies. Which results in fewer total hospitalizations after a two month span? Does either strategy disproportionately affect specific demographic groups? i.e., would health inequities be amplified by either approach? Strategy 1: Vaccinate by age group, starting with the older population and work younger.  Strategy 2: Vaccinate by type of employment (exposure-based, i.e., essential workers) | intermediate (intervention) | simple (no data, possible priors) | simple (comparison of two interventions) | simple (modification of age and occupation-stratified rate parameters) | sophisticated (real-world data) |To represent Health inequities, we have to generate a counterfactual query comparing the effect on protected demographics with each intervention.  In this case, we need to stratify by these demographics in addition to age and occupation. Relative risk measures how disproportionately each demographic is hospitalized under each intervention compared to their proportion in the population.. $$RelativeRisk_{x \\in Demographics} \\left( \\sum_{t=0}^T hospitalizations(t, x)_{do(strategy_1)})\\right) -  RelativeRisk_{x\\in Demographics}\\left(\\sum_{t=0}^T hospitalizations(t, x)_{do(strategy_2)}\\right)$$ where strategy 1 vaccinates at a rate proportional to the hospitalization rate parameter, $strategy_1 := do(\\nu_{age} \\propto \\delta_{age})$ and strategy 2 vaccinates occupations at a rate proportional to their infection rate parameter. $strategy_2 := do(\\nu_{occupation} \\propto \\beta_{occupation})$|\n",
    "|Question/Ask: Looking back to this time, which interventions could we have implemented to keep below a hospitalization threshold of 3k covid patients, over the winter 2020 season (Dec. 1st 2020 to March 1st 2021)? (Can this be stated probabilistically? How likely would an intervention have enabled us to reach our goal?) .Very limited social distancing and masking policies (say this would only apply to healthcare settings, assume 5% decrease from normal contact/transmission levels) beginning right at the start of the period on Dec 1, 2021, through March 1, 2021. Stronger social distancing and masking policies, wait until after holidays and begin on Jan 1st, 2021 through end of 3 months (until March 1, 2021). What is the severity of intervention required for this option to have been successful? (for CHIME model this intervention maps to % decrease from baseline transmission levels). Modeling constraint/goal: keep covid hospitalizations < threshold over next 0<=t<3 months | sophisticated (counterfactual query) | sophisticated (inverse problem) | sophisticated (search over intervention space) | sophisticated (time-based interventions) | sophisticated (real-world data) | $$\\begin{array}{rl}\\texttt{satisfy}_{x\\in \\left\\{\\beta_{12/01/2020-3/01/2021} = 0.95\\beta,\\beta_{01/01/2021-3/01/2021}=0.75\\beta\\right\\}}& P(Hospitalizations(t)_{do(x)} > 3k) < p \\\\\n",
    " & \\forall t\\in \\left[12/1/2020-3/1/2021\\right] \\end{array}$$ \n",
    "|Question/Ask: Looking back to this time, which interventions could we have implemented to keep below a hospitalization threshold of 3k covid patients, over the winter 2020 season (Dec. 1st 2020 to March 1st 2021)? (Can this be stated probabilistically? How likely would an intervention have enabled us to reach our goal?) Vaccination by age.  Vaccination by occupation. What is the severity of intervention required for this option to have been successful? (for CHIME model this intervention maps to % decrease from baseline transmission levels). Modeling constraint/goal: keep covid hospitalizations < threshold over next 0<=t<3 months | sophisticated (counterfactual query) | sophisticated (inverse problem) | comparison of two alternativs.| sophisticated (time-based interventions) | sophisticated (real-world data) |$$\\begin{array}{rl}\\texttt{satisfy}_{x\\in \\left\\{\\nu_{age}, \\nu_{occupation}\\right\\}} & P(Hospitalization(t)_{do(x)} > 3k) < p \\\\\n",
    " & \\forall t\\in \\left[12/1/2020-3/1/2021\\right] \\end{array}$$ |\n",
    "|What vaccination rate(s) $\\nu$ would these two groups need to have over the next 3 months, in order to lower the observed case rate for those age groups below 10 cases per 100k population?|intermediate (interventions) | intermediate (prior distribution) | sophisticated (2 choices) | simple (parameter change) | sophisticated (real-world data) | $$\\begin{array}{rl}\\texttt{minimize} & \\nu \\\\ \\texttt{such that} & P(Infected(t)_{do(\\nu)} > 0.01\\%) < p \\\\\n",
    " & \\forall t > 4/1/2021 \\end{array}$$ |\n",
    " |What vaccination rate(s) would these two groups need to have over the next 3 months, in order to lower the observed case rate for those age groups below 10 cases per 100k population?|intermediate (interventions) | intermediate (prior distribution) | simple (2 choices) | simple (parameter change) | sophisticated (real-world data) | $$\\begin{array}{rl}\\texttt{satisfy}_{x\\in \\left\\{\\nu_{age}, \\nu_{occupation}\\right\\}} & P(Infected(t)_{do(x)} > 0.01\\%) < p \\\\\n",
    " & \\forall t > 4/1/2021 \\end{array}$$ |\n",
    "|What mask mandate/social distancing strength would these two groups need to have over the next 3 months, in order to lower the observed case rate for those age groups below 10 cases per 100k population | intermediate (interventions) | intermediate (prior distribution) | simple (2 choices) | simple (parameter change) | sophisticated (real-world data) | $$\\begin{array}{rl}\\texttt{satisfy}_{x\\in \\left\\{\\beta_{12/01/2020-3/01/2021} = 0.95\\beta,\\beta_{01/01/2021-3/01/2021}=0.75\\beta\\right\\}}& P(Infected(t)_{do(x)} > 0.01\\%) < p \\\\\n",
    " & \\forall t> 4/1/2021 \\end{array}$$ | \n",
    "Which of these models works better under training conditions? Which one should I trust more under certain conditions? Which one performed better during $t$ time period? | simple (no interventions) | intermediate (fitting/callibration for different scenarios)| intermediate (range of different comparison criteria) 3| simple (parameters and initial conditions) | complex (real-world data) | $$\\texttt{compare}_{x(t)\\in Scenarios}(\\left\\{CHIME(x(t))\\right\\}_{t=0}^T, \\left\\{SIDARTHE(x(t))\\right\\}_{t=0}^T|\\left\\{x(t)\\right\\}_{t=0}^T)$$\n",
    "Which of these models works better under holdout conditions? Which one should I trust more under certain conditions? Which one performed better during $t$ time period? | simple (no interventions) | intermediate (possible callibration for different scenarios)| intermediate (range of different comparison criteria) | simple (parameters and initial conditions) | complex (real-world data) | $$\\texttt{compare}_{x(t)\\in Scenarios}(\\left\\{CHIME(x(t))\\right\\}_{t=T+1}^{T+k}, \\left\\{SIDARTHE(x(t))\\right\\}_{t=T+1}^{T+k}|\\left\\{x(t)\\right\\}_{t=0}^T)$$"
   ]
  },
  {
   "cell_type": "markdown",
   "metadata": {},
   "source": [
    "# December Demo Scenarios\n",
    " \n",
    "These are scenarios that are described in more detail in the google doc [December Demo Example Scenarios](https://docs.google.com/document/d/1Obgelbwv8eceqAVKLaJjozpePFelZqGl/edit)\n",
    "## Scenario 1:  Comparing the effect of early and late mask mandates on hospitalizations\n",
    "\n",
    "Question/Ask: Looking back to this time, which interventions could we have implemented to keep below a hospitalization threshold of 3k covid patients, over the winter 2020 season (Dec. 1st 2020 to March 1st 2021)? \n",
    "* (Can this be stated probabilistically? How likely would an intervention have enabled us to reach our goal?) \n",
    "* Very limited social distancing and masking policies (say this would only apply to healthcare settings, assume 5% decrease from normal contact/transmission levels) beginning right at the start of the period on Dec 1, 2021, through March 1, 2021. \n",
    "* Stronger social distancing and masking policies, wait until after holidays and begin on Jan 1st, 2021 through end of 3 months (until March 1, 2021). \n",
    "* What is the severity of intervention required for this option to have been successful? (for CHIME model this intervention maps to % decrease from baseline transmission levels). \n",
    "* Modeling constraint/goal: keep covid hospitalizations < threshold over next 0<=t<3 months \n",
    "\n",
    " $$\\begin{array}{rl} \\texttt{compare}_{ x(t)\\in \\\\ \\left\\{\\texttt{Intervention}(12/01/2020-3/01/2021) := 0.95\\beta,\\\\ \\ \\texttt{Intervention}(01/01/2021-3/01/2021) := 0.75\\beta\\right\\}}  & \\texttt{Hospitalizations}(t)_{do(x(t))} < 3k, \\\\\n",
    "  & \\forall t\\in \\left[12/1/2020-3/1/2021\\right])\\end{array}$$ "
   ]
  },
  {
   "cell_type": "code",
   "execution_count": null,
   "metadata": {},
   "outputs": [],
   "source": [
    "t = Interval(\"t\", start=Date(12, 1, 2020), end=Date(3, 1, 2021))\n",
    "Hospitalizations = Fluent(t, \"Hospitalizations\", concept=\"cemo:hospitalization_rate\", units=[])\n",
    "\n",
    "Beta = Parameter(\"beta\", concept=\"askemo:0000005\", units=[\"1/Day\"])\n",
    "\n",
    "early_weak_mask_intervention = Decision(\n",
    "    \"early_weak_mask_intervention\",\n",
    "    variable=[Beta],\n",
    "    value=[0.95 * Beta],\n",
    "    interval=Interval(start=Date(12, 1, 2020), end=Date(3, 1, 2021)),\n",
    ")\n",
    "\n",
    "late_strong_mask_intervention = Decision(\n",
    "    \"late_strong_mask_intervention\",\n",
    "    variable=Beta,\n",
    "    value=0.75 * Beta,\n",
    "    interval=Interval(start=Date(1, 1, 2021), end=Date(3, 1, 2021)),\n",
    ")\n",
    "\n",
    "compare(\n",
    "    [\n",
    "        (Hospitalizations[t] @ early_weak_mask_intervention)  <= 3e3,\n",
    "    ],\n",
    "    [\n",
    "        (Hospitalizations[t] @ late_strong_mask_intervention) <= 3e3,\n",
    "    ],\n",
    ")\n",
    "\n"
   ]
  },
  {
   "cell_type": "code",
   "execution_count": null,
   "metadata": {},
   "outputs": [],
   "source": [
    "t = Interval(\"t\", start=Date(12, 1, 2020), end=Date(3, 1, 2021))\n",
    "observed_hospitalizations = pd.read_csv('https://coronavirus.health.ny.gov/daily-hospitalization-summary')\n",
    "t0 = Interval(\"t0\", start=Date(10,8,2020), end=Date(5,21,2021))\n",
    "Hospitalizations = Fluent(t, \"Hospitalizations\", concept=\"cemo:hospitalization_rate\", units=[])\n",
    "\n",
    "Beta = Parameter(\"beta\", concept=\"askemo:0000005\", units=[\"1/Day\"])\n",
    "\n",
    "early_weak_mask_intervention = Decision(\n",
    "    \"early_weak_mask_intervention\",\n",
    "    variable=[Beta],\n",
    "    value=[0.95 * Beta],\n",
    "    interval=Interval(start=Date(12, 1, 2020), end=Date(3, 1, 2021)),\n",
    ")\n",
    "\n",
    "late_strong_mask_intervention = Decision(\n",
    "    \"late_strong_mask_intervention\",\n",
    "    variable=Beta,\n",
    "    value=0.75 * Beta,\n",
    "    interval=Interval(start=Date(1, 1, 2021), end=Date(3, 1, 2021)),\n",
    ")\n",
    "\n",
    "compare(\n",
    "    [\n",
    "        P(Hospitalizations[t] @ early_weak_mask_intervention  >= 3e3 | Hospitalizations[t0]  == observed_hospitalizations[t0]) <= 0.05,\n",
    "    ],\n",
    "    [\n",
    "        P(Hospitalizations[t] @ late_strong_mask_intervention >= 3e3 | Hospitalizations[t0] == observed_hospitalizations[t0]) <= 0.05,\n",
    "    ],\n",
    ")"
   ]
  },
  {
   "cell_type": "markdown",
   "metadata": {},
   "source": [
    "## Finding the minimum vaccination rate to reduce infections below 10 per 100k after April 1.\n",
    "\n",
    "What vaccination rate(s) $\\nu$ would these groups need to have over the next 3 months, in order to lower the observed case rate for those age groups below 10 cases per 100k population?\n",
    "\n",
    " $$\\begin{array}{rl}\\texttt{minimize}_{\\nu(\\tau)\\in [0,1]} & \\sum_{\\tau=1/1/2021}^{3/1/2021}\\nu(\\tau)\\\\ \\texttt{subject to} & P(Infected(t)_{do(\\nu(\\tau))} > 0.01\\% \\ |\\  Infected(1/1/2021)=0.08 ) < 5\\% \\\\\n",
    " & \\forall t > 4/1/2021 \\end{array}$$\n",
    " \n",
    " "
   ]
  },
  {
   "cell_type": "code",
   "execution_count": null,
   "metadata": {},
   "outputs": [],
   "source": [
    "t = Interval(\"t\", start=Date(4, 1, 2021), end=Date(5, 1, 2021))\n",
    "tau = Interval(\"tau\", start=Date(1,1,2021), end=Date(3,1,2021))\n",
    "vaccine_rate = Fluent(\"vaccine_rate\", \n",
    "                                concept=\"askemo:0000012\",\n",
    "                                domain = tau,\n",
    "                                codomain=Interval( \"vaccinations_per_day\",\n",
    "                                              start=0,\n",
    "                                              end = 1)\n",
    "                                )\n",
    "                        \n",
    "\n",
    "Infected = Fluent(\"Infected\", concept=\"ido:0000511\", domain=t, codomain=Interval(\"cases_per_100k\",start=0, end=1))\n",
    "p = 0.05\n",
    "minimize(\n",
    "    objective=Sum[tau](vaccine_rate[tau]),\n",
    "    subject_to=[P((Infected[t] @ vaccine_rate[tau]) >= 0.01 | Infected[Date(1,1,2021)] == 0.08) < p]\n",
    ")"
   ]
  },
  {
   "cell_type": "markdown",
   "metadata": {},
   "source": [
    "## Scenario 3: Comparison of CHIME and SIDARTHE models on a dataset\n",
    "\n",
    "### Which of these models works better under training conditions?\n",
    "* Which one should I trust more under certain conditions?\n",
    "* Which one performed better during $t$ time period? \n",
    "\n",
    "$$\\texttt{compare}_{x(t)\\in Scenarios}(\\left\\{CHIME(x(t))\\right\\}_{t=0}^T, \\left\\{SIDARTHE(x(t))\\right\\}_{t=0}^T|\\left\\{x(t)\\right\\}_{t=0}^T)$$\n",
    "\n",
    "\n"
   ]
  },
  {
   "cell_type": "code",
   "execution_count": null,
   "metadata": {},
   "outputs": [],
   "source": [
    "t = Interval(\"t\", metaid=\"wikidata:Q11471\", units=\"wiki:Q573\")\n",
    "CHIME = Intervention(metaid=\"https://penn-chime.phl.io/\")\n",
    "SIDARTHE = Intervention(t, metaid=\"biomodels:BIOMD0000000955\")\n",
    "Infected = Fluent(t, \"Infected\", metaid=\"ido:0000511\")\n",
    "Context = Fluent(t, metaid=\"\")\n",
    "compare(\n",
    "    [P(Infected[t] @ CHIME[t] | Context[t]), 0 <= t, t <= T],\n",
    "    [P(Infected[t] @ SIDARTHE[t] | Context[t]), 0 <= t, t <= T],\n",
    ")"
   ]
  },
  {
   "cell_type": "markdown",
   "metadata": {},
   "source": [
    "### Which of these models works better under holdout conditions? \n",
    "\n",
    "* Which one should I trust more under certain conditions?\n",
    "* Which one performed better during $t$ time period? \n",
    "\n",
    "$$\\texttt{compare}_{x(t)\\in Scenarios}(\\left\\{CHIME(x(t))\\right\\}_{t=T+1}^{T+k}, \\left\\{SIDARTHE(x(t))\\right\\}_{t=T+1}^{T+k}|\\left\\{x(t)\\right\\}_{t=0}^T)$$"
   ]
  },
  {
   "cell_type": "code",
   "execution_count": null,
   "metadata": {},
   "outputs": [],
   "source": [
    "t = Interval(\"t\", metaid=\"wikidata:Q11471\", units=\"wiki:Q573\")\n",
    "t0 = Interval(\"t\", metaid=\"wikidata:Q11471\", units=\"wiki:Q573\")\n",
    "CHIME = Intervention(t, metaid=\"https://penn-chime.phl.io/\")\n",
    "SIDARTHE = Intervention(t, metaid=\"biomodels:BIOMD0000000955\")\n",
    "Infected = Fluent(t, \"Infected\", metaid=\"ido:0000511\")\n",
    "Scenario = Fluent(t0, metaid=\"\")\n",
    "compare(\n",
    "    [P(Infected[t] @ CHIME[t] | Context[t0]), T + 1 <= t, t <= T + k, 0 <= t0, t0 <= T],\n",
    "    [P(Infected[t] @ SIDARTHE[t] | Context[t0]), T + 1 <= t, t <= T + k, 0 <= t0, t0 <= T],\n",
    ")"
   ]
  },
  {
   "cell_type": "markdown",
   "metadata": {},
   "source": [
    "# DeDri syntax for causal and counterfactual queries"
   ]
  },
  {
   "cell_type": "code",
   "execution_count": null,
   "metadata": {},
   "outputs": [],
   "source": [
    "from y0.dsl import P, Sum, Variable, Product\n",
    "from IPython.display import Latex"
   ]
  },
  {
   "cell_type": "code",
   "execution_count": null,
   "metadata": {},
   "outputs": [],
   "source": [
    "Infected = Variable(\"Infected\")\n",
    "Recovered = Variable(\"Recovered\")\n",
    "Vaccinated = Variable(\"Vaccinated\")\n",
    "Died = Variable(\"Died\")"
   ]
  },
  {
   "cell_type": "markdown",
   "metadata": {},
   "source": [
    "**What is the probability that an infected, vaccinated person recovers?**"
   ]
  },
  {
   "cell_type": "code",
   "execution_count": null,
   "metadata": {},
   "outputs": [],
   "source": [
    "P(Recovered | Infected, Vaccinated)"
   ]
  },
  {
   "cell_type": "markdown",
   "metadata": {},
   "source": [
    "**What is the probability that an  infected, unvaccinated,person does not recover?** "
   ]
  },
  {
   "cell_type": "code",
   "execution_count": null,
   "metadata": {},
   "outputs": [],
   "source": [
    "P(~Recovered | Infected, ~Vaccinated)"
   ]
  },
  {
   "cell_type": "markdown",
   "metadata": {},
   "source": [
    "**What is the probability that an infected person would recover if they were vaccinated, but die if they were not vaccinated?**"
   ]
  },
  {
   "cell_type": "code",
   "execution_count": null,
   "metadata": {},
   "outputs": [],
   "source": [
    "P(Recovered @ Vaccinated, ~Recovered @ ~Vaccinated | Infected)"
   ]
  },
  {
   "cell_type": "code",
   "execution_count": null,
   "metadata": {},
   "outputs": [],
   "source": [
    "import y0\n",
    "\n",
    "y0.dsl.P"
   ]
  },
  {
   "cell_type": "code",
   "execution_count": null,
   "metadata": {},
   "outputs": [],
   "source": []
  },
  {
   "cell_type": "markdown",
   "metadata": {},
   "source": [
    "# Causal Validation of simple epidemiology queries with latent confounders\n",
    "\n",
    "If there is latent confounding, then there exist spurious correlations in the data.  Identification algorithms can be used to determine whether the causal query can be estimated from the dataset."
   ]
  },
  {
   "cell_type": "code",
   "execution_count": null,
   "metadata": {},
   "outputs": [],
   "source": [
    "from y0.examples import id_sir_example, nonid_sir_example\n",
    "from y0.algorithm.identify import Identification, identify, Unidentifiable\n",
    "\n",
    "nonid_sir_example.graph.draw()"
   ]
  },
  {
   "cell_type": "markdown",
   "metadata": {},
   "source": [
    "## Causal effect of infection on death with latent confounder (immunocompromised) is not identifiable."
   ]
  },
  {
   "cell_type": "code",
   "execution_count": null,
   "metadata": {},
   "outputs": [],
   "source": [
    "nonid_sir = Identification.from_expression(\n",
    "    query=P[Infected](Died), estimand=P(Infected, Died), graph=nonid_sir_example.graph\n",
    ")\n",
    "try:\n",
    "    identify(nonid_sir)\n",
    "except Unidentifiable:\n",
    "    display(nonid_sir.query.expression)\n",
    "    display(Latex(\"is not identifiable given the model\"))"
   ]
  },
  {
   "cell_type": "markdown",
   "metadata": {},
   "source": [
    "## Causal effect of infection on death with hospitalization mediator is identifiable"
   ]
  },
  {
   "cell_type": "code",
   "execution_count": null,
   "metadata": {},
   "outputs": [],
   "source": [
    "from y0.algorithm.identify import Identification, identify, Unidentifiable\n",
    "from IPython.display import Latex, Markdown\n",
    "from y0.dsl import P, Variable, Sum, Product\n",
    "\n",
    "Infected, Died, Hospitalized = Variable(\"Infected\"), Variable(\"Died\"), Variable(\"Hospitalized\")\n",
    "\n",
    "id_sir = Identification.from_expression(\n",
    "    query=P[Infected](Died), estimand=P(Infected, Hospitalized, Died), graph=id_sir_example.graph\n",
    ")\n",
    "id_sir.graph.draw()"
   ]
  },
  {
   "cell_type": "code",
   "execution_count": null,
   "metadata": {},
   "outputs": [],
   "source": [
    "estimand = identify(id_sir)\n",
    "display(\n",
    "    Latex(f\"The query \"),\n",
    "    id_sir.query.expression,\n",
    "    Latex(f\"is identifiable and has estimand: \"),\n",
    "    estimand,\n",
    ")"
   ]
  },
  {
   "cell_type": "markdown",
   "metadata": {},
   "source": [
    "$$E[Y_{do(A)} - Y_{do(\\lnot A)}]$$"
   ]
  },
  {
   "cell_type": "markdown",
   "metadata": {},
   "source": [
    "$$\\sum_{y_{do(A)}\\in dom(Y_{do(A)})}y_{do(A)}P(y_{do(A)}) - \\sum_{y_{do(\\lnot A)}\\in dom(Y_{do(\\lnot A)})}y_{do(\\lnot A)}P(y_{do(\\lnot A)})$$ "
   ]
  },
  {
   "cell_type": "markdown",
   "metadata": {},
   "source": [
    "# Data cubes"
   ]
  },
  {
   "cell_type": "code",
   "execution_count": 9,
   "metadata": {
    "tags": []
   },
   "outputs": [
    {
     "name": "stdout",
     "output_type": "stream",
     "text": [
      "experimental conditions 5\n",
      "replicates 500\n",
      "attributes 4\n",
      "timesteps 83\n"
     ]
    }
   ],
   "source": [
    "import xarray as xr\n",
    "import pickle\n",
    "import numpy as np\n",
    "\n",
    "with open('dimensions.pkl', 'rb') as d:\n",
    "    dimensions = pickle.load(d)\n",
    "for d in dimensions:\n",
    "    print(d, len(dimensions[d]))"
   ]
  },
  {
   "cell_type": "code",
   "execution_count": 6,
   "metadata": {},
   "outputs": [
    {
     "data": {
      "text/plain": [
       "(5, 500, 4, 83)"
      ]
     },
     "execution_count": 6,
     "metadata": {},
     "output_type": "execute_result"
    }
   ],
   "source": [
    "datacube = np.load(\"datacube.npy\")\n",
    "datacube.shape"
   ]
  },
  {
   "cell_type": "code",
   "execution_count": 12,
   "metadata": {},
   "outputs": [],
   "source": [
    "da = xr.DataArray(\n",
    "    data=datacube,\n",
    "    dims=[\"experimental conditions\",\n",
    "          \"replicates\",\n",
    "          \"attributes\",\n",
    "          \"timesteps\"],\n",
    "    coords=dimensions)\n",
    "da.to_netcdf(\"ciemss_datacube.nc\")\n",
    "\n",
    "    "
   ]
  },
  {
   "cell_type": "code",
   "execution_count": 13,
   "metadata": {},
   "outputs": [
    {
     "data": {
      "text/html": [
       "<div><svg style=\"position: absolute; width: 0; height: 0; overflow: hidden\">\n",
       "<defs>\n",
       "<symbol id=\"icon-database\" viewBox=\"0 0 32 32\">\n",
       "<path d=\"M16 0c-8.837 0-16 2.239-16 5v4c0 2.761 7.163 5 16 5s16-2.239 16-5v-4c0-2.761-7.163-5-16-5z\"></path>\n",
       "<path d=\"M16 17c-8.837 0-16-2.239-16-5v6c0 2.761 7.163 5 16 5s16-2.239 16-5v-6c0 2.761-7.163 5-16 5z\"></path>\n",
       "<path d=\"M16 26c-8.837 0-16-2.239-16-5v6c0 2.761 7.163 5 16 5s16-2.239 16-5v-6c0 2.761-7.163 5-16 5z\"></path>\n",
       "</symbol>\n",
       "<symbol id=\"icon-file-text2\" viewBox=\"0 0 32 32\">\n",
       "<path d=\"M28.681 7.159c-0.694-0.947-1.662-2.053-2.724-3.116s-2.169-2.030-3.116-2.724c-1.612-1.182-2.393-1.319-2.841-1.319h-15.5c-1.378 0-2.5 1.121-2.5 2.5v27c0 1.378 1.122 2.5 2.5 2.5h23c1.378 0 2.5-1.122 2.5-2.5v-19.5c0-0.448-0.137-1.23-1.319-2.841zM24.543 5.457c0.959 0.959 1.712 1.825 2.268 2.543h-4.811v-4.811c0.718 0.556 1.584 1.309 2.543 2.268zM28 29.5c0 0.271-0.229 0.5-0.5 0.5h-23c-0.271 0-0.5-0.229-0.5-0.5v-27c0-0.271 0.229-0.5 0.5-0.5 0 0 15.499-0 15.5 0v7c0 0.552 0.448 1 1 1h7v19.5z\"></path>\n",
       "<path d=\"M23 26h-14c-0.552 0-1-0.448-1-1s0.448-1 1-1h14c0.552 0 1 0.448 1 1s-0.448 1-1 1z\"></path>\n",
       "<path d=\"M23 22h-14c-0.552 0-1-0.448-1-1s0.448-1 1-1h14c0.552 0 1 0.448 1 1s-0.448 1-1 1z\"></path>\n",
       "<path d=\"M23 18h-14c-0.552 0-1-0.448-1-1s0.448-1 1-1h14c0.552 0 1 0.448 1 1s-0.448 1-1 1z\"></path>\n",
       "</symbol>\n",
       "</defs>\n",
       "</svg>\n",
       "<style>/* CSS stylesheet for displaying xarray objects in jupyterlab.\n",
       " *\n",
       " */\n",
       "\n",
       ":root {\n",
       "  --xr-font-color0: var(--jp-content-font-color0, rgba(0, 0, 0, 1));\n",
       "  --xr-font-color2: var(--jp-content-font-color2, rgba(0, 0, 0, 0.54));\n",
       "  --xr-font-color3: var(--jp-content-font-color3, rgba(0, 0, 0, 0.38));\n",
       "  --xr-border-color: var(--jp-border-color2, #e0e0e0);\n",
       "  --xr-disabled-color: var(--jp-layout-color3, #bdbdbd);\n",
       "  --xr-background-color: var(--jp-layout-color0, white);\n",
       "  --xr-background-color-row-even: var(--jp-layout-color1, white);\n",
       "  --xr-background-color-row-odd: var(--jp-layout-color2, #eeeeee);\n",
       "}\n",
       "\n",
       "html[theme=dark],\n",
       "body.vscode-dark {\n",
       "  --xr-font-color0: rgba(255, 255, 255, 1);\n",
       "  --xr-font-color2: rgba(255, 255, 255, 0.54);\n",
       "  --xr-font-color3: rgba(255, 255, 255, 0.38);\n",
       "  --xr-border-color: #1F1F1F;\n",
       "  --xr-disabled-color: #515151;\n",
       "  --xr-background-color: #111111;\n",
       "  --xr-background-color-row-even: #111111;\n",
       "  --xr-background-color-row-odd: #313131;\n",
       "}\n",
       "\n",
       ".xr-wrap {\n",
       "  display: block;\n",
       "  min-width: 300px;\n",
       "  max-width: 700px;\n",
       "}\n",
       "\n",
       ".xr-text-repr-fallback {\n",
       "  /* fallback to plain text repr when CSS is not injected (untrusted notebook) */\n",
       "  display: none;\n",
       "}\n",
       "\n",
       ".xr-header {\n",
       "  padding-top: 6px;\n",
       "  padding-bottom: 6px;\n",
       "  margin-bottom: 4px;\n",
       "  border-bottom: solid 1px var(--xr-border-color);\n",
       "}\n",
       "\n",
       ".xr-header > div,\n",
       ".xr-header > ul {\n",
       "  display: inline;\n",
       "  margin-top: 0;\n",
       "  margin-bottom: 0;\n",
       "}\n",
       "\n",
       ".xr-obj-type,\n",
       ".xr-array-name {\n",
       "  margin-left: 2px;\n",
       "  margin-right: 10px;\n",
       "}\n",
       "\n",
       ".xr-obj-type {\n",
       "  color: var(--xr-font-color2);\n",
       "}\n",
       "\n",
       ".xr-sections {\n",
       "  padding-left: 0 !important;\n",
       "  display: grid;\n",
       "  grid-template-columns: 150px auto auto 1fr 20px 20px;\n",
       "}\n",
       "\n",
       ".xr-section-item {\n",
       "  display: contents;\n",
       "}\n",
       "\n",
       ".xr-section-item input {\n",
       "  display: none;\n",
       "}\n",
       "\n",
       ".xr-section-item input + label {\n",
       "  color: var(--xr-disabled-color);\n",
       "}\n",
       "\n",
       ".xr-section-item input:enabled + label {\n",
       "  cursor: pointer;\n",
       "  color: var(--xr-font-color2);\n",
       "}\n",
       "\n",
       ".xr-section-item input:enabled + label:hover {\n",
       "  color: var(--xr-font-color0);\n",
       "}\n",
       "\n",
       ".xr-section-summary {\n",
       "  grid-column: 1;\n",
       "  color: var(--xr-font-color2);\n",
       "  font-weight: 500;\n",
       "}\n",
       "\n",
       ".xr-section-summary > span {\n",
       "  display: inline-block;\n",
       "  padding-left: 0.5em;\n",
       "}\n",
       "\n",
       ".xr-section-summary-in:disabled + label {\n",
       "  color: var(--xr-font-color2);\n",
       "}\n",
       "\n",
       ".xr-section-summary-in + label:before {\n",
       "  display: inline-block;\n",
       "  content: '►';\n",
       "  font-size: 11px;\n",
       "  width: 15px;\n",
       "  text-align: center;\n",
       "}\n",
       "\n",
       ".xr-section-summary-in:disabled + label:before {\n",
       "  color: var(--xr-disabled-color);\n",
       "}\n",
       "\n",
       ".xr-section-summary-in:checked + label:before {\n",
       "  content: '▼';\n",
       "}\n",
       "\n",
       ".xr-section-summary-in:checked + label > span {\n",
       "  display: none;\n",
       "}\n",
       "\n",
       ".xr-section-summary,\n",
       ".xr-section-inline-details {\n",
       "  padding-top: 4px;\n",
       "  padding-bottom: 4px;\n",
       "}\n",
       "\n",
       ".xr-section-inline-details {\n",
       "  grid-column: 2 / -1;\n",
       "}\n",
       "\n",
       ".xr-section-details {\n",
       "  display: none;\n",
       "  grid-column: 1 / -1;\n",
       "  margin-bottom: 5px;\n",
       "}\n",
       "\n",
       ".xr-section-summary-in:checked ~ .xr-section-details {\n",
       "  display: contents;\n",
       "}\n",
       "\n",
       ".xr-array-wrap {\n",
       "  grid-column: 1 / -1;\n",
       "  display: grid;\n",
       "  grid-template-columns: 20px auto;\n",
       "}\n",
       "\n",
       ".xr-array-wrap > label {\n",
       "  grid-column: 1;\n",
       "  vertical-align: top;\n",
       "}\n",
       "\n",
       ".xr-preview {\n",
       "  color: var(--xr-font-color3);\n",
       "}\n",
       "\n",
       ".xr-array-preview,\n",
       ".xr-array-data {\n",
       "  padding: 0 5px !important;\n",
       "  grid-column: 2;\n",
       "}\n",
       "\n",
       ".xr-array-data,\n",
       ".xr-array-in:checked ~ .xr-array-preview {\n",
       "  display: none;\n",
       "}\n",
       "\n",
       ".xr-array-in:checked ~ .xr-array-data,\n",
       ".xr-array-preview {\n",
       "  display: inline-block;\n",
       "}\n",
       "\n",
       ".xr-dim-list {\n",
       "  display: inline-block !important;\n",
       "  list-style: none;\n",
       "  padding: 0 !important;\n",
       "  margin: 0;\n",
       "}\n",
       "\n",
       ".xr-dim-list li {\n",
       "  display: inline-block;\n",
       "  padding: 0;\n",
       "  margin: 0;\n",
       "}\n",
       "\n",
       ".xr-dim-list:before {\n",
       "  content: '(';\n",
       "}\n",
       "\n",
       ".xr-dim-list:after {\n",
       "  content: ')';\n",
       "}\n",
       "\n",
       ".xr-dim-list li:not(:last-child):after {\n",
       "  content: ',';\n",
       "  padding-right: 5px;\n",
       "}\n",
       "\n",
       ".xr-has-index {\n",
       "  font-weight: bold;\n",
       "}\n",
       "\n",
       ".xr-var-list,\n",
       ".xr-var-item {\n",
       "  display: contents;\n",
       "}\n",
       "\n",
       ".xr-var-item > div,\n",
       ".xr-var-item label,\n",
       ".xr-var-item > .xr-var-name span {\n",
       "  background-color: var(--xr-background-color-row-even);\n",
       "  margin-bottom: 0;\n",
       "}\n",
       "\n",
       ".xr-var-item > .xr-var-name:hover span {\n",
       "  padding-right: 5px;\n",
       "}\n",
       "\n",
       ".xr-var-list > li:nth-child(odd) > div,\n",
       ".xr-var-list > li:nth-child(odd) > label,\n",
       ".xr-var-list > li:nth-child(odd) > .xr-var-name span {\n",
       "  background-color: var(--xr-background-color-row-odd);\n",
       "}\n",
       "\n",
       ".xr-var-name {\n",
       "  grid-column: 1;\n",
       "}\n",
       "\n",
       ".xr-var-dims {\n",
       "  grid-column: 2;\n",
       "}\n",
       "\n",
       ".xr-var-dtype {\n",
       "  grid-column: 3;\n",
       "  text-align: right;\n",
       "  color: var(--xr-font-color2);\n",
       "}\n",
       "\n",
       ".xr-var-preview {\n",
       "  grid-column: 4;\n",
       "}\n",
       "\n",
       ".xr-var-name,\n",
       ".xr-var-dims,\n",
       ".xr-var-dtype,\n",
       ".xr-preview,\n",
       ".xr-attrs dt {\n",
       "  white-space: nowrap;\n",
       "  overflow: hidden;\n",
       "  text-overflow: ellipsis;\n",
       "  padding-right: 10px;\n",
       "}\n",
       "\n",
       ".xr-var-name:hover,\n",
       ".xr-var-dims:hover,\n",
       ".xr-var-dtype:hover,\n",
       ".xr-attrs dt:hover {\n",
       "  overflow: visible;\n",
       "  width: auto;\n",
       "  z-index: 1;\n",
       "}\n",
       "\n",
       ".xr-var-attrs,\n",
       ".xr-var-data {\n",
       "  display: none;\n",
       "  background-color: var(--xr-background-color) !important;\n",
       "  padding-bottom: 5px !important;\n",
       "}\n",
       "\n",
       ".xr-var-attrs-in:checked ~ .xr-var-attrs,\n",
       ".xr-var-data-in:checked ~ .xr-var-data {\n",
       "  display: block;\n",
       "}\n",
       "\n",
       ".xr-var-data > table {\n",
       "  float: right;\n",
       "}\n",
       "\n",
       ".xr-var-name span,\n",
       ".xr-var-data,\n",
       ".xr-attrs {\n",
       "  padding-left: 25px !important;\n",
       "}\n",
       "\n",
       ".xr-attrs,\n",
       ".xr-var-attrs,\n",
       ".xr-var-data {\n",
       "  grid-column: 1 / -1;\n",
       "}\n",
       "\n",
       "dl.xr-attrs {\n",
       "  padding: 0;\n",
       "  margin: 0;\n",
       "  display: grid;\n",
       "  grid-template-columns: 125px auto;\n",
       "}\n",
       "\n",
       ".xr-attrs dt,\n",
       ".xr-attrs dd {\n",
       "  padding: 0;\n",
       "  margin: 0;\n",
       "  float: left;\n",
       "  padding-right: 10px;\n",
       "  width: auto;\n",
       "}\n",
       "\n",
       ".xr-attrs dt {\n",
       "  font-weight: normal;\n",
       "  grid-column: 1;\n",
       "}\n",
       "\n",
       ".xr-attrs dt:hover span {\n",
       "  display: inline-block;\n",
       "  background: var(--xr-background-color);\n",
       "  padding-right: 10px;\n",
       "}\n",
       "\n",
       ".xr-attrs dd {\n",
       "  grid-column: 2;\n",
       "  white-space: pre-wrap;\n",
       "  word-break: break-all;\n",
       "}\n",
       "\n",
       ".xr-icon-database,\n",
       ".xr-icon-file-text2 {\n",
       "  display: inline-block;\n",
       "  vertical-align: middle;\n",
       "  width: 1em;\n",
       "  height: 1.5em !important;\n",
       "  stroke-width: 0;\n",
       "  stroke: currentColor;\n",
       "  fill: currentColor;\n",
       "}\n",
       "</style><pre class='xr-text-repr-fallback'>&lt;xarray.DataArray (experimental conditions: 5, replicates: 500, attributes: 4, timesteps: 83)&gt;\n",
       "array([[[[ 9.99190000e+04,  9.92934766e+04,  9.86714141e+04, ...,\n",
       "           6.04891289e+04,  6.01187422e+04,  5.97508047e+04],\n",
       "         [ 1.13670740e-06,  6.04903870e+02,  1.20599243e+03, ...,\n",
       "           3.80610742e+04,  3.84266875e+04,  3.87900781e+04],\n",
       "         [ 9.63099976e+01,  9.84532776e+01,  1.00540649e+02, ...,\n",
       "           3.23321457e+01,  3.09133358e+01,  2.95377350e+01],\n",
       "         [-8.39929839e-07,  1.84777794e+01,  3.73667603e+01, ...,\n",
       "           1.43279236e+03,  1.43898816e+03,  1.44491199e+03]],\n",
       "\n",
       "        [[ 9.99190000e+04,  9.93587578e+04,  9.88008516e+04, ...,\n",
       "           6.27369336e+04,  6.23777344e+04,  6.20210586e+04],\n",
       "         [-1.02270072e-07,  5.39672791e+02,  1.07629785e+03, ...,\n",
       "           3.45405000e+04,  3.48772383e+04,  3.52120664e+04],\n",
       "         [ 9.63099976e+01,  1.00084290e+02,  1.03908363e+02, ...,\n",
       "           1.51750381e+02,  1.48229004e+02,  1.44702988e+02],\n",
       "         [ 2.73085959e-07,  1.67976360e+01,  3.42535515e+01, ...,\n",
       "           2.58611353e+03,  2.61209619e+03,  2.63746875e+03]],\n",
       "\n",
       "        [[ 9.99190000e+04,  9.90357188e+04,  9.81595781e+04, ...,\n",
       "           4.91506211e+04,  4.87244492e+04,  4.83020859e+04],\n",
       "...\n",
       "           8.19063599e+02,  8.19241455e+02,  8.19396851e+02]],\n",
       "\n",
       "        [[ 9.99190000e+04,  9.87978750e+04,  9.76831328e+04, ...,\n",
       "           2.92614590e+04,  2.85852324e+04,  2.79130938e+04],\n",
       "         [ 1.76063452e-06,  1.10125757e+03,  2.19574121e+03, ...,\n",
       "           6.98230234e+04,  7.04990625e+04,  7.11710312e+04],\n",
       "         [ 9.63099976e+01,  9.91802444e+01,  1.01934029e+02, ...,\n",
       "           2.43230367e+00,  2.16477609e+00,  1.92361319e+00],\n",
       "         [ 1.31593038e-06,  1.69962215e+01,  3.44989662e+01, ...,\n",
       "           9.28384888e+02,  9.28842163e+02,  9.29249573e+02]],\n",
       "\n",
       "        [[ 9.99190000e+04,  9.91129531e+04,  9.83087031e+04, ...,\n",
       "           4.26029414e+04,  4.19798164e+04,  4.13585938e+04],\n",
       "         [ 1.46840466e-06,  7.85689087e+02,  1.56903564e+03, ...,\n",
       "           5.60052344e+04,  5.66266484e+04,  5.72463086e+04],\n",
       "         [ 9.63099976e+01,  9.95309448e+01,  1.02727890e+02, ...,\n",
       "           1.45701008e+01,  1.34379854e+01,  1.23765421e+01],\n",
       "         [-3.98176866e-07,  1.71355572e+01,  3.48441887e+01, ...,\n",
       "           1.39257166e+03,  1.39541321e+03,  1.39803760e+03]]]],\n",
       "      dtype=float32)\n",
       "Coordinates:\n",
       "  * experimental conditions  (experimental conditions) object &#x27;no_interventio...\n",
       "  * replicates               (replicates) int64 0 1 2 3 4 ... 496 497 498 499\n",
       "  * attributes               (attributes) object &#x27;S&#x27; &#x27;V&#x27; &#x27;I&#x27; &#x27;R&#x27;\n",
       "  * timesteps                (timesteps) float64 7.0 8.0 9.0 ... 87.0 88.0 89.0</pre><div class='xr-wrap' hidden><div class='xr-header'><div class='xr-obj-type'>xarray.DataArray</div><div class='xr-array-name'></div><ul class='xr-dim-list'><li><span class='xr-has-index'>experimental conditions</span>: 5</li><li><span class='xr-has-index'>replicates</span>: 500</li><li><span class='xr-has-index'>attributes</span>: 4</li><li><span class='xr-has-index'>timesteps</span>: 83</li></ul></div><ul class='xr-sections'><li class='xr-section-item'><div class='xr-array-wrap'><input id='section-bdc01647-00b0-4c29-be49-7183eda5156f' class='xr-array-in' type='checkbox' checked><label for='section-bdc01647-00b0-4c29-be49-7183eda5156f' title='Show/hide data repr'><svg class='icon xr-icon-database'><use xlink:href='#icon-database'></use></svg></label><div class='xr-array-preview xr-preview'><span>9.992e+04 9.929e+04 9.867e+04 ... 1.393e+03 1.395e+03 1.398e+03</span></div><div class='xr-array-data'><pre>array([[[[ 9.99190000e+04,  9.92934766e+04,  9.86714141e+04, ...,\n",
       "           6.04891289e+04,  6.01187422e+04,  5.97508047e+04],\n",
       "         [ 1.13670740e-06,  6.04903870e+02,  1.20599243e+03, ...,\n",
       "           3.80610742e+04,  3.84266875e+04,  3.87900781e+04],\n",
       "         [ 9.63099976e+01,  9.84532776e+01,  1.00540649e+02, ...,\n",
       "           3.23321457e+01,  3.09133358e+01,  2.95377350e+01],\n",
       "         [-8.39929839e-07,  1.84777794e+01,  3.73667603e+01, ...,\n",
       "           1.43279236e+03,  1.43898816e+03,  1.44491199e+03]],\n",
       "\n",
       "        [[ 9.99190000e+04,  9.93587578e+04,  9.88008516e+04, ...,\n",
       "           6.27369336e+04,  6.23777344e+04,  6.20210586e+04],\n",
       "         [-1.02270072e-07,  5.39672791e+02,  1.07629785e+03, ...,\n",
       "           3.45405000e+04,  3.48772383e+04,  3.52120664e+04],\n",
       "         [ 9.63099976e+01,  1.00084290e+02,  1.03908363e+02, ...,\n",
       "           1.51750381e+02,  1.48229004e+02,  1.44702988e+02],\n",
       "         [ 2.73085959e-07,  1.67976360e+01,  3.42535515e+01, ...,\n",
       "           2.58611353e+03,  2.61209619e+03,  2.63746875e+03]],\n",
       "\n",
       "        [[ 9.99190000e+04,  9.90357188e+04,  9.81595781e+04, ...,\n",
       "           4.91506211e+04,  4.87244492e+04,  4.83020859e+04],\n",
       "...\n",
       "           8.19063599e+02,  8.19241455e+02,  8.19396851e+02]],\n",
       "\n",
       "        [[ 9.99190000e+04,  9.87978750e+04,  9.76831328e+04, ...,\n",
       "           2.92614590e+04,  2.85852324e+04,  2.79130938e+04],\n",
       "         [ 1.76063452e-06,  1.10125757e+03,  2.19574121e+03, ...,\n",
       "           6.98230234e+04,  7.04990625e+04,  7.11710312e+04],\n",
       "         [ 9.63099976e+01,  9.91802444e+01,  1.01934029e+02, ...,\n",
       "           2.43230367e+00,  2.16477609e+00,  1.92361319e+00],\n",
       "         [ 1.31593038e-06,  1.69962215e+01,  3.44989662e+01, ...,\n",
       "           9.28384888e+02,  9.28842163e+02,  9.29249573e+02]],\n",
       "\n",
       "        [[ 9.99190000e+04,  9.91129531e+04,  9.83087031e+04, ...,\n",
       "           4.26029414e+04,  4.19798164e+04,  4.13585938e+04],\n",
       "         [ 1.46840466e-06,  7.85689087e+02,  1.56903564e+03, ...,\n",
       "           5.60052344e+04,  5.66266484e+04,  5.72463086e+04],\n",
       "         [ 9.63099976e+01,  9.95309448e+01,  1.02727890e+02, ...,\n",
       "           1.45701008e+01,  1.34379854e+01,  1.23765421e+01],\n",
       "         [-3.98176866e-07,  1.71355572e+01,  3.48441887e+01, ...,\n",
       "           1.39257166e+03,  1.39541321e+03,  1.39803760e+03]]]],\n",
       "      dtype=float32)</pre></div></div></li><li class='xr-section-item'><input id='section-ddce9058-948a-41d8-9efe-0d5351f01378' class='xr-section-summary-in' type='checkbox'  checked><label for='section-ddce9058-948a-41d8-9efe-0d5351f01378' class='xr-section-summary' >Coordinates: <span>(4)</span></label><div class='xr-section-inline-details'></div><div class='xr-section-details'><ul class='xr-var-list'><li class='xr-var-item'><div class='xr-var-name'><span class='xr-has-index'>experimental conditions</span></div><div class='xr-var-dims'>(experimental conditions)</div><div class='xr-var-dtype'>object</div><div class='xr-var-preview xr-preview'>&#x27;no_intervention&#x27; ... &#x27;encourage...</div><input id='attrs-fa54d65c-11d4-4bce-8965-f45352ca79dd' class='xr-var-attrs-in' type='checkbox' disabled><label for='attrs-fa54d65c-11d4-4bce-8965-f45352ca79dd' title='Show/Hide attributes'><svg class='icon xr-icon-file-text2'><use xlink:href='#icon-file-text2'></use></svg></label><input id='data-eafc1d16-90b9-440c-a3f0-ad307f585104' class='xr-var-data-in' type='checkbox'><label for='data-eafc1d16-90b9-440c-a3f0-ad307f585104' title='Show/Hide data repr'><svg class='icon xr-icon-database'><use xlink:href='#icon-database'></use></svg></label><div class='xr-var-attrs'><dl class='xr-attrs'></dl></div><div class='xr-var-data'><pre>array([&#x27;no_intervention&#x27;, &#x27;intervened_parameter&#x27;, &#x27;intervened_rate&#x27;,\n",
       "       &#x27;ramping_intervention&#x27;, &#x27;encouragement_interventions&#x27;], dtype=object)</pre></div></li><li class='xr-var-item'><div class='xr-var-name'><span class='xr-has-index'>replicates</span></div><div class='xr-var-dims'>(replicates)</div><div class='xr-var-dtype'>int64</div><div class='xr-var-preview xr-preview'>0 1 2 3 4 5 ... 495 496 497 498 499</div><input id='attrs-bedd6e26-2198-4923-b150-e63b48ad7f46' class='xr-var-attrs-in' type='checkbox' disabled><label for='attrs-bedd6e26-2198-4923-b150-e63b48ad7f46' title='Show/Hide attributes'><svg class='icon xr-icon-file-text2'><use xlink:href='#icon-file-text2'></use></svg></label><input id='data-872f6986-c834-4c1e-bdf6-38d5e96de74b' class='xr-var-data-in' type='checkbox'><label for='data-872f6986-c834-4c1e-bdf6-38d5e96de74b' title='Show/Hide data repr'><svg class='icon xr-icon-database'><use xlink:href='#icon-database'></use></svg></label><div class='xr-var-attrs'><dl class='xr-attrs'></dl></div><div class='xr-var-data'><pre>array([  0,   1,   2, ..., 497, 498, 499])</pre></div></li><li class='xr-var-item'><div class='xr-var-name'><span class='xr-has-index'>attributes</span></div><div class='xr-var-dims'>(attributes)</div><div class='xr-var-dtype'>object</div><div class='xr-var-preview xr-preview'>&#x27;S&#x27; &#x27;V&#x27; &#x27;I&#x27; &#x27;R&#x27;</div><input id='attrs-ec37b24f-f40a-4755-b27c-6105cec41c5c' class='xr-var-attrs-in' type='checkbox' disabled><label for='attrs-ec37b24f-f40a-4755-b27c-6105cec41c5c' title='Show/Hide attributes'><svg class='icon xr-icon-file-text2'><use xlink:href='#icon-file-text2'></use></svg></label><input id='data-841c7a90-e762-450a-81ce-6ab6656dea69' class='xr-var-data-in' type='checkbox'><label for='data-841c7a90-e762-450a-81ce-6ab6656dea69' title='Show/Hide data repr'><svg class='icon xr-icon-database'><use xlink:href='#icon-database'></use></svg></label><div class='xr-var-attrs'><dl class='xr-attrs'></dl></div><div class='xr-var-data'><pre>array([&#x27;S&#x27;, &#x27;V&#x27;, &#x27;I&#x27;, &#x27;R&#x27;], dtype=object)</pre></div></li><li class='xr-var-item'><div class='xr-var-name'><span class='xr-has-index'>timesteps</span></div><div class='xr-var-dims'>(timesteps)</div><div class='xr-var-dtype'>float64</div><div class='xr-var-preview xr-preview'>7.0 8.0 9.0 10.0 ... 87.0 88.0 89.0</div><input id='attrs-8f269e58-b988-404f-bef3-71a77fac8193' class='xr-var-attrs-in' type='checkbox' disabled><label for='attrs-8f269e58-b988-404f-bef3-71a77fac8193' title='Show/Hide attributes'><svg class='icon xr-icon-file-text2'><use xlink:href='#icon-file-text2'></use></svg></label><input id='data-b96d33c0-d122-4f94-80b8-df4c300f5e92' class='xr-var-data-in' type='checkbox'><label for='data-b96d33c0-d122-4f94-80b8-df4c300f5e92' title='Show/Hide data repr'><svg class='icon xr-icon-database'><use xlink:href='#icon-database'></use></svg></label><div class='xr-var-attrs'><dl class='xr-attrs'></dl></div><div class='xr-var-data'><pre>array([ 7.,  8.,  9., 10., 11., 12., 13., 14., 15., 16., 17., 18., 19., 20.,\n",
       "       21., 22., 23., 24., 25., 26., 27., 28., 29., 30., 31., 32., 33., 34.,\n",
       "       35., 36., 37., 38., 39., 40., 41., 42., 43., 44., 45., 46., 47., 48.,\n",
       "       49., 50., 51., 52., 53., 54., 55., 56., 57., 58., 59., 60., 61., 62.,\n",
       "       63., 64., 65., 66., 67., 68., 69., 70., 71., 72., 73., 74., 75., 76.,\n",
       "       77., 78., 79., 80., 81., 82., 83., 84., 85., 86., 87., 88., 89.])</pre></div></li></ul></div></li><li class='xr-section-item'><input id='section-d34a60d2-ee33-44ee-a639-e66a0e02ee3a' class='xr-section-summary-in' type='checkbox' disabled ><label for='section-d34a60d2-ee33-44ee-a639-e66a0e02ee3a' class='xr-section-summary'  title='Expand/collapse section'>Attributes: <span>(0)</span></label><div class='xr-section-inline-details'></div><div class='xr-section-details'><dl class='xr-attrs'></dl></div></li></ul></div></div>"
      ],
      "text/plain": [
       "<xarray.DataArray (experimental conditions: 5, replicates: 500, attributes: 4, timesteps: 83)>\n",
       "array([[[[ 9.99190000e+04,  9.92934766e+04,  9.86714141e+04, ...,\n",
       "           6.04891289e+04,  6.01187422e+04,  5.97508047e+04],\n",
       "         [ 1.13670740e-06,  6.04903870e+02,  1.20599243e+03, ...,\n",
       "           3.80610742e+04,  3.84266875e+04,  3.87900781e+04],\n",
       "         [ 9.63099976e+01,  9.84532776e+01,  1.00540649e+02, ...,\n",
       "           3.23321457e+01,  3.09133358e+01,  2.95377350e+01],\n",
       "         [-8.39929839e-07,  1.84777794e+01,  3.73667603e+01, ...,\n",
       "           1.43279236e+03,  1.43898816e+03,  1.44491199e+03]],\n",
       "\n",
       "        [[ 9.99190000e+04,  9.93587578e+04,  9.88008516e+04, ...,\n",
       "           6.27369336e+04,  6.23777344e+04,  6.20210586e+04],\n",
       "         [-1.02270072e-07,  5.39672791e+02,  1.07629785e+03, ...,\n",
       "           3.45405000e+04,  3.48772383e+04,  3.52120664e+04],\n",
       "         [ 9.63099976e+01,  1.00084290e+02,  1.03908363e+02, ...,\n",
       "           1.51750381e+02,  1.48229004e+02,  1.44702988e+02],\n",
       "         [ 2.73085959e-07,  1.67976360e+01,  3.42535515e+01, ...,\n",
       "           2.58611353e+03,  2.61209619e+03,  2.63746875e+03]],\n",
       "\n",
       "        [[ 9.99190000e+04,  9.90357188e+04,  9.81595781e+04, ...,\n",
       "           4.91506211e+04,  4.87244492e+04,  4.83020859e+04],\n",
       "...\n",
       "           8.19063599e+02,  8.19241455e+02,  8.19396851e+02]],\n",
       "\n",
       "        [[ 9.99190000e+04,  9.87978750e+04,  9.76831328e+04, ...,\n",
       "           2.92614590e+04,  2.85852324e+04,  2.79130938e+04],\n",
       "         [ 1.76063452e-06,  1.10125757e+03,  2.19574121e+03, ...,\n",
       "           6.98230234e+04,  7.04990625e+04,  7.11710312e+04],\n",
       "         [ 9.63099976e+01,  9.91802444e+01,  1.01934029e+02, ...,\n",
       "           2.43230367e+00,  2.16477609e+00,  1.92361319e+00],\n",
       "         [ 1.31593038e-06,  1.69962215e+01,  3.44989662e+01, ...,\n",
       "           9.28384888e+02,  9.28842163e+02,  9.29249573e+02]],\n",
       "\n",
       "        [[ 9.99190000e+04,  9.91129531e+04,  9.83087031e+04, ...,\n",
       "           4.26029414e+04,  4.19798164e+04,  4.13585938e+04],\n",
       "         [ 1.46840466e-06,  7.85689087e+02,  1.56903564e+03, ...,\n",
       "           5.60052344e+04,  5.66266484e+04,  5.72463086e+04],\n",
       "         [ 9.63099976e+01,  9.95309448e+01,  1.02727890e+02, ...,\n",
       "           1.45701008e+01,  1.34379854e+01,  1.23765421e+01],\n",
       "         [-3.98176866e-07,  1.71355572e+01,  3.48441887e+01, ...,\n",
       "           1.39257166e+03,  1.39541321e+03,  1.39803760e+03]]]],\n",
       "      dtype=float32)\n",
       "Coordinates:\n",
       "  * experimental conditions  (experimental conditions) object 'no_interventio...\n",
       "  * replicates               (replicates) int64 0 1 2 3 4 ... 496 497 498 499\n",
       "  * attributes               (attributes) object 'S' 'V' 'I' 'R'\n",
       "  * timesteps                (timesteps) float64 7.0 8.0 9.0 ... 87.0 88.0 89.0"
      ]
     },
     "execution_count": 13,
     "metadata": {},
     "output_type": "execute_result"
    }
   ],
   "source": [
    "da2 = xr.load_dataarray('ciemss_datacube.nc')\n",
    "da2\n"
   ]
  },
  {
   "cell_type": "code",
   "execution_count": 10,
   "metadata": {},
   "outputs": [
    {
     "data": {
      "text/plain": [
       "'/Users/zuck016/.pyenv/versions/anaconda3-2021.11/lib/python3.9/site-packages/xarray/__init__.py'"
      ]
     },
     "execution_count": 10,
     "metadata": {},
     "output_type": "execute_result"
    }
   ],
   "source": [
    "xr.__file__"
   ]
  },
  {
   "cell_type": "markdown",
   "metadata": {},
   "source": [
    "# Hackathon 1"
   ]
  },
  {
   "cell_type": "markdown",
   "metadata": {
    "tags": []
   },
   "source": [
    "## Scenario 1\n",
    "\n",
    "### Scenario Ask: \n",
    "While perusing publications on Covid-19 models, you come across a model from early 2020 that was developed to describe the first Covid wave in Lombardy, Italy. You’re interested in updating this model for 2022, to include vaccinations.\n",
    "\n",
    "\n",
    "1. Before updating the model, you want to make sure you have a good understanding of the original model, can execute it, and reproduce the results in the publication describing the model. The paper doesn’t include code, but you think it’s feasible to create an executable version of the model and reproduce the results based on the model descriptions in the paper alone. The paper DOI is: [10.3389/fpubh.2020.00230](https://www.frontiersin.org/articles/10.3389/fpubh.2020.00230/full). There are three ‘unit tests’ to ensure the model representation that we want to execute, is correct: Reproduce the results in Figs. 2A, 3A, and 3B\n",
    "\n",
    "    1. [Challenge] Ingest model and pass unit tests from publication alone (do not start with any code as input)\n",
    "    2. Ingest model and pass unit tests from publication and corresponding Code Version A \n",
    "    3. Ingest model and pass unit tests from publication and corresponding Code Version B \n",
    "\n",
    "2. Update the model from Question 1, to include vaccination. There are a number of ways to implement vaccination in an epidemiological model, but no matter the modeling approach, it should have an impact on one or more disease outcomes (e.g infections or deaths). Ensure your updated model is not the same as the model referenced in question 3a. Aside from these guidelines, there are no restrictions on modeling choices. If it is not clear how to update the model, do a small literature review/search, to understand how other published models account for vaccination.\n",
    "3. Model Comparison: \n",
    "\tIn addition to your updated model from Question 2 you are aware of the following two specific models that include vaccination\n",
    "\tYou find a publication that adds vaccination to the original model from question 1, at https://biomedres.us/pdfs/BJSTR.MS.ID.007413.pdf. (Please note the formatting error on pg. 4, where the first term in the equation for dS/dt should be μN)\n",
    "\tYou are also aware of the CHIME SVIIvR model (which adds vaccination to the original CHIME model, and was part of the starter kit)\n",
    "\tDo a structural model comparison between the models in questions 2, 3.a.i, and 3.a.ii. The structural comparison should include a summary or diagram describing similarities and differences between the models, with respect to parameters, variables/states, pathways, etc.\n",
    "\tCompare simulation outputs between the three models, for the following two scenarios. Assume initial values and parameter values are consistent (to the extent possible) with Table 1 in https://biomedres.us/pdfs/BJSTR.MS.ID.007413.pdf. For initial values that are not specified, choose reasonable values and ensure they are the same between the three models being compared.\n",
    "\tVaccine efficacy = 75%, population vaccinated = 10%\n",
    "\tVaccine efficacy = 75%, population vaccinated = 80%\n",
    "\tCreate an equally weighted ensemble model using the three models in 3b, and replicate the scenarios in 3.c.i and 3.c.ii. How does the ensemble model output compare to the output from the individual component models?\n",
    "\tFor any of the models in question 3, conduct a sensitivity analysis to determine which intervention parameters should be prioritized in the model, for having the greatest impact on deaths – NPIs, or vaccine-related interventions?\n",
    "\tFor any of the models in question 3, add age stratification to the model and leverage data from the provided contact matrix and following resources. You may ignore vital dynamics. Assume that vaccination status does not have an impact on contact rates between age groups. Assume age-specific vaccination, vaccine effectiveness, hospitalization, and mortality rates, if relevant to the model. For other parameters, you may find reasonable values from the literature (including any of the papers referenced in this scenario) and/or make simplifying assumptions about whether they have different values based on age group.\n",
    "\tFor age-specific vaccine effectiveness parameters – you can utilize data compiled by the US CDC, available here (https://covid.cdc.gov/covid-data-tracker/#vaccine-effectiveness). You can assume that only mRNA vaccines are used and that efficacy data in Italy would be similar to that of the United States. For a search and discovery challenge, you can try to identify vaccine utilization by manufacturer in the target area and align this data with vaccine-specific efficacy data across age groups for the time window in question. This task should not, however, be a limiting factor in making progress on subsequent downstream TA tasks.\n",
    "\tYou may find Italy population distribution data/information, or vaccination rates by age group, from any source, or make a simplifying assumption about similarities with data the United States\n",
    "\tSee provided contact matrix – “Italy_contact_matrix.csv”. Matrix values represent mean number of contacts that an individual from an age group represented by each row, would encounter with age groups represented by each column. There are 16 five-year age groups from 0-80 years, with X1 representing the youngest age group, and X16 representing the oldest age group.\n",
    "\tWith the age-stratified model, simulate the following situations. You may choose initial values that seem reasonable given the location and time, and you can reuse values from any of the publications referenced):\n",
    "\tHigh vaccination rate among older populations 65 years and older (e.g. 80%+), and low vaccination rate among all other age groups (e.g. below 15%)\n",
    "\tHigh vaccination rate among all age groups\n",
    "\tRepeat d.i and d.ii, but now add a social distancing policy at schools, that decreases contact rates by 20% for school-aged children only. \n",
    "\tCompare and summarize simulation outputs for d.i-d.iii\n"
   ]
  },
  {
   "cell_type": "markdown",
   "metadata": {},
   "source": [
    "### 3c\n",
    "Compare simulation outputs between the three models, for the following two scenarios. Assume initial values and parameter values are consistent (to the extent possible) with Table 1 in https://biomedres.us/pdfs/BJSTR.MS.ID.007413.pdf. For initial values that are not specified, choose reasonable values and ensure they are the same between the three models being compared.\n",
    "\n",
    "1. Vaccine efficacy = 75%, population vaccinated = 10%\n",
    "2. Vaccine efficacy = 75%, population vaccinated = 80%\n"
   ]
  },
  {
   "cell_type": "code",
   "execution_count": 1,
   "metadata": {},
   "outputs": [
    {
     "ename": "NameError",
     "evalue": "name 'Compare' is not defined",
     "output_type": "error",
     "traceback": [
      "\u001b[0;31m---------------------------------------------------------------------------\u001b[0m",
      "\u001b[0;31mNameError\u001b[0m                                 Traceback (most recent call last)",
      "\u001b[0;32m/var/folders/z1/nhct2gps3y94tkbwqvvd7y_jw6p1l8/T/ipykernel_99158/2935381512.py\u001b[0m in \u001b[0;36m<module>\u001b[0;34m\u001b[0m\n\u001b[1;32m      2\u001b[0m \u001b[0mM2\u001b[0m \u001b[0;34m=\u001b[0m \u001b[0;34m\"SEIRD+V\"\u001b[0m\u001b[0;34m\u001b[0m\u001b[0;34m\u001b[0m\u001b[0m\n\u001b[1;32m      3\u001b[0m \u001b[0mM3\u001b[0m \u001b[0;34m=\u001b[0m \u001b[0;34m\"SVIIvR (CHIME)\"\u001b[0m\u001b[0;34m\u001b[0m\u001b[0;34m\u001b[0m\u001b[0m\n\u001b[0;32m----> 4\u001b[0;31m Compare([M1, M2, M3], \n\u001b[0m\u001b[1;32m      5\u001b[0m         \u001b[0mconditions\u001b[0m\u001b[0;34m=\u001b[0m\u001b[0;34m{\u001b[0m\u001b[0mbetaV\u001b[0m\u001b[0;34m:\u001b[0m \u001b[0;36m0.75\u001b[0m\u001b[0;34m*\u001b[0m\u001b[0mbeta\u001b[0m\u001b[0;34m,\u001b[0m \u001b[0mdeltaV\u001b[0m\u001b[0;34m:\u001b[0m \u001b[0;36m0.75\u001b[0m\u001b[0;34m*\u001b[0m\u001b[0mdelta\u001b[0m\u001b[0;34m}\u001b[0m\u001b[0;34m,\u001b[0m\u001b[0;34m\u001b[0m\u001b[0;34m\u001b[0m\u001b[0m\n\u001b[1;32m      6\u001b[0m         interventions=[{V:0.8, S:0.2}, {V:0.1, S:0.9}])\n",
      "\u001b[0;31mNameError\u001b[0m: name 'Compare' is not defined"
     ]
    }
   ],
   "source": [
    "M1 = \"SVEIIvR\"\n",
    "M2 = \"SEIRD+V\"\n",
    "M3 = \"SVIIvR (CHIME)\"\n",
    "Compare([M1, M2, M3], \n",
    "        conditions={betaV: 0.75*beta, deltaV: 0.75*delta},\n",
    "        interventions=[{V:0.8, S:0.2}, {V:0.1, S:0.9}])\n"
   ]
  },
  {
   "cell_type": "markdown",
   "metadata": {},
   "source": [
    "### 4.\n",
    "Create an equally weighted ensemble model using the three models in 3b, and replicate the scenarios in 3.c.i and 3.c.ii. How does the ensemble model output compare to the output from the individual component models?\n"
   ]
  },
  {
   "cell_type": "code",
   "execution_count": null,
   "metadata": {},
   "outputs": [],
   "source": [
    "Compare([(M1+M2+M3)/3, M1, M2, M3],\n",
    "        conditions={betaV: 0.75*beta, deltaV: 0.75*delta},\n",
    "        interventions=[{V:0.8, S:0.2}, {V:0.1, S:0.9}]"
   ]
  },
  {
   "cell_type": "markdown",
   "metadata": {},
   "source": [
    "##### 5\n",
    "For any of the models in question 3, conduct a sensitivity analysis to determine which intervention parameters should be prioritized in the model, for having the greatest impact on deaths – NPIs, or vaccine-related interventions?\n",
    "\n"
   ]
  },
  {
   "cell_type": "code",
   "execution_count": null,
   "metadata": {},
   "outputs": [],
   "source": [
    "NPI  = {beta=\"better_than_vaccine\", delta=\"better_than_no_NPI\"}\n",
    "vaccine_intervention = {beta=\"better_than_no_vaccine\", delta=\"better_than_NPI\"}\n",
    "Compare(no_intervention, NPI_only, Vaccine_only, vaccine_plus_intervention)\n",
    "for model in [no_intervention, NPI_only, Vaccine_only, vaccine_plus_intervention]:\n",
    "    local_sensitivity = LocalSensitivityAnalysis(model, intervention_parameters, params, initial_conditions)\n",
    "\n",
    "    global_sensitivity = GlobalSensitivityAnalysis(model, intervention_parameters, param_ranges, initial_condition_ranges)\n"
   ]
  },
  {
   "cell_type": "markdown",
   "metadata": {},
   "source": [
    "### 6d\n",
    "\n",
    "d. With the age-stratified model, simulate the following situations. You may choose initial values that seem reasonable given the location and time, and you can reuse values from any of the publications referenced):\n",
    "i. High vaccination rate among older populations 65 years and older (e.g. 80%+), and low vaccination rate among all other age groups (e.g. below 15%)\n",
    "ii. High vaccination rate among all age groups\n",
    "iii. Repeat d.i and d.ii, but now add a social distancing policy at schools, that decreases contact rates by 20% for school-aged children only. \n",
    "iv. Compare and summarize simulation outputs for d.i-d.iii\n"
   ]
  },
  {
   "cell_type": "code",
   "execution_count": 2,
   "metadata": {},
   "outputs": [
    {
     "ename": "NameError",
     "evalue": "name 'V' is not defined",
     "output_type": "error",
     "traceback": [
      "\u001b[0;31m---------------------------------------------------------------------------\u001b[0m",
      "\u001b[0;31mNameError\u001b[0m                                 Traceback (most recent call last)",
      "\u001b[0;32m/var/folders/z1/nhct2gps3y94tkbwqvvd7y_jw6p1l8/T/ipykernel_99158/2727692138.py\u001b[0m in \u001b[0;36m<module>\u001b[0;34m\u001b[0m\n\u001b[0;32m----> 1\u001b[0;31m Scenario1 = {V[65:]: 0.8,\n\u001b[0m\u001b[1;32m      2\u001b[0m     \u001b[0mS\u001b[0m\u001b[0;34m[\u001b[0m\u001b[0;36m65\u001b[0m\u001b[0;34m:\u001b[0m\u001b[0;34m]\u001b[0m\u001b[0;34m:\u001b[0m \u001b[0;36m1\u001b[0m \u001b[0;34m-\u001b[0m \u001b[0mV\u001b[0m\u001b[0;34m[\u001b[0m\u001b[0;36m65\u001b[0m\u001b[0;34m:\u001b[0m\u001b[0;34m]\u001b[0m\u001b[0;34m,\u001b[0m\u001b[0;34m\u001b[0m\u001b[0;34m\u001b[0m\u001b[0m\n\u001b[1;32m      3\u001b[0m     \u001b[0mV\u001b[0m\u001b[0;34m[\u001b[0m\u001b[0;34m:\u001b[0m\u001b[0;36m65\u001b[0m\u001b[0;34m]\u001b[0m\u001b[0;34m:\u001b[0m \u001b[0;36m0.15\u001b[0m\u001b[0;34m,\u001b[0m\u001b[0;34m\u001b[0m\u001b[0;34m\u001b[0m\u001b[0m\n\u001b[1;32m      4\u001b[0m     S[:65]: 1 - V[:65]}\n\u001b[1;32m      5\u001b[0m \u001b[0;34m\u001b[0m\u001b[0m\n",
      "\u001b[0;31mNameError\u001b[0m: name 'V' is not defined"
     ]
    }
   ],
   "source": [
    "Scenario1 = {V[65:]: 0.8,\n",
    "    S[65:]: 1 - V[65:],\n",
    "    V[:65]: 0.15,\n",
    "    S[:65]: 1 - V[:65]}\n",
    "\n",
    "Scenario2 = {V[:]: 0.8}\n",
    "Scenario3 = Scenario1 + {beta[:18]: 0.2*beta[:18] for model.beta in models}\n",
    "Scenario4 = Scenario2 + {beta[:18]: 0.2*beta[:18] for model.beta in models}\n",
    "\n"
   ]
  },
  {
   "cell_type": "markdown",
   "metadata": {},
   "source": [
    "## Scenario 2\n",
    "\n",
    "### \n",
    "Scenario Background: You are a disease modeler supporting the Los Angeles County Department of Public Health, at the beginning of the original Omicron wave. The LA County Board of Supervisors is concerned about what the next few months will look like, and what level of intervention will be required to manage what is shaping up to be a large winter Covid-19 wave. Vaccines were broadly available during this time period and vaccination should be accounted for in the modeling.\n",
    "\n",
    "### Scenario Setting/Situation:\n",
    "Time = December 28th, 2021 (right around upswing of Omicron wave), Location = LA County\n",
    "\n",
    "### Scenario Asks:\n",
    "\n",
    "1. Find a model capable of forecasting Covid cases and hospitalizations (these don’t need to be broken down by vaccination status, but the model should account for vaccination in some way). Parameterize model either using data from the previous two months (October 28th – December 28th, 2021), or with relevant parameter values from the literature. Forecast Covid cases and hospitalizations over the next 3 months under no interventions."
   ]
  },
  {
   "cell_type": "code",
   "execution_count": null,
   "metadata": {},
   "outputs": [],
   "source": [
    "t = Interval(start=Date(12,29,2021), end=Date(3,1,2022))\n",
    "t0 = Interval(start=Date(10,28, 2021), end= Date(12, 28, 2021)\n",
    "P(theta[t] | S[t0], V[t0], I[t0], Iv[t0], H[t0], Hv[t0], R[t0] )\n",
    "P(theta[t])"
   ]
  },
  {
   "cell_type": "markdown",
   "metadata": {},
   "source": [
    "2. Based on the forecast, do we need interventions to keep total Covid hospitalizations under a threshold of 3000 on any given day? If there is uncertainty in the model parameters, express the answer probabilistically, i.e., what is the likelihood or probability that the number of Covid hospitalizations will stay under this threshold for the next 3 months without interventions?"
   ]
  },
  {
   "cell_type": "code",
   "execution_count": null,
   "metadata": {},
   "outputs": [],
   "source": [
    "P((H[t] + Hv[t]) > 3000) < 0.05\n",
    "Risk_metric = \"SuperQuantile\"\n"
   ]
  },
  {
   "cell_type": "markdown",
   "metadata": {},
   "source": [
    "3. Assume a consistent policy of social distancing/masking will be implemented, resulting in a 50% decrease from baseline transmission. Assume that we want to minimize the time that the policy is in place, and once it has been put in place and then ended, it can't be re-implemented. Looking forward from “today’s” date of Dec. 28, 2021, what are the optimal start and end dates for this policy, to keep projections below the hospitalization threshold over the entire 3-month period? How many fewer hospitalizations and cases does this policy result in?"
   ]
  },
  {
   "cell_type": "code",
   "execution_count": null,
   "metadata": {},
   "outputs": [],
   "source": []
  },
  {
   "cell_type": "markdown",
   "metadata": {},
   "source": [
    "4. Independent from #3, assume there is a protocol to kick in mitigation policies when hospitalizations rise above 80% of the hospitalization threshold (i.e. 80% of 3000). When hospitalizations fall back below 80% of the threshold, these policies expire.\n",
    " \n",
    "    1. When do we expect these policies to first kick in?\n",
    "    2. What is the minimum impact on transmission rate these mitigation policies need to have the first time they kick in, to (1) ensure that we don't reach the hospitalization threshold at any time during the 3-month period, and (2) ensure that the policies only need to be implemented once, and potentially expired later, but never reimplemented? Express this in terms of change in baseline transmission levels (e.g. 10% decrease, 50% decrease, etc.)."
   ]
  },
  {
   "cell_type": "markdown",
   "metadata": {},
   "source": [
    "5. Now assume that instead of NPIs, the Board wants to focus all their resources on an aggressive vaccination campaign to increase the fraction of the total population that is vaccinated. What is the minimum intervention with vaccinations required in order for this intervention to have the same impact on cases and hospitalizations, as your optimal answer from question 3? Depending on the model you use, this may be represented as an increase in total vaccinated population, or increase in daily vaccination rate (% of eligible people vaccinated each day), or some other representation. "
   ]
  },
  {
   "cell_type": "code",
   "execution_count": null,
   "metadata": {},
   "outputs": [],
   "source": []
  }
 ],
 "metadata": {
  "kernelspec": {
   "display_name": "anaconda3-2021.11",
   "language": "python",
   "name": "anaconda3-2021.11"
  },
  "language_info": {
   "codemirror_mode": {
    "name": "ipython",
    "version": 3
   },
   "file_extension": ".py",
   "mimetype": "text/x-python",
   "name": "python",
   "nbconvert_exporter": "python",
   "pygments_lexer": "ipython3",
   "version": "3.9.7"
  },
  "toc": {
   "base_numbering": 1,
   "nav_menu": {},
   "number_sections": true,
   "sideBar": true,
   "skip_h1_title": false,
   "title_cell": "Table of Contents",
   "title_sidebar": "Contents",
   "toc_cell": false,
   "toc_position": {},
   "toc_section_display": true,
   "toc_window_display": false
  },
  "toc-autonumbering": false,
  "toc-showmarkdowntxt": true
 },
 "nbformat": 4,
 "nbformat_minor": 4
}
