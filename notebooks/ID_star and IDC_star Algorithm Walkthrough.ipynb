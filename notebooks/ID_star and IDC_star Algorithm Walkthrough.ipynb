{
 "cells": [
  {
   "cell_type": "markdown",
   "metadata": {
    "toc": true
   },
   "source": [
    "## Table of Contents\n",
    "\n",
    "- [Introduction to ID* Algorithm](#Introduction-to-ID*-Algorithm)\n",
    "- [Example of using ID_star](#Example-of-using-ID_star)\n",
    "- [ID* Algorithm](#ID*-Algorithm)\n",
    "- [Walkthrough of ID* algorithm](#Walkthrough-of-ID*-algorithm)\n",
    "    - [Starting graph (Figure 9a)](#Starting-graph-Figure-9a)\n",
    "    - [ID* line 1](#ID*-line-1)\n",
    "    - [ID* line 2](#ID*-line-2)\n",
    "    - [ID* line 3](#ID*-line-3)\n",
    "    - [ID* line 4](#ID*-line-4)\n",
    "    - [ID* line 5](#ID*-line-5)\n",
    "    - [ID* line 6](#ID*-line-6)\n",
    "        - [Calculate the C-components](#Calculate-the-C-components)\n",
    "        - [Get the markov pillow of each C-component](#ID*-line-6,-get-the-markov-pillow-of-each-C-component)\n",
    "        - [Recursive calls for each C-component](#Recursive-calls-for-each-C-component)\n",
    "        - [Probability Results for each C-component](#Probability-Results-for-each-C-component)\n",
    "    - [Putting it all together after recursion](#Putting-it-all-together-after-recursion,-Back-to-line-6)\n",
    "    - [Final Checkpoint](#Final-Checkpoint)\n",
    "- [IDC* Algorithm](#IDC*-Algorithm)\n",
    "- [Walkthrough of the IDC* Algorithm](#Walkthrough-of-the-IDC*-Algorithm)\n",
    "    - [IDC* line 1](#IDC*-line-1)\n",
    "    - [IDC* line 2](#IDC*-line-2)\n",
    "    - [IDC* line 3](#IDC*-line-3)\n",
    "    - [Prior to IDC* line 4](#Prior-to-IDC*-line-4)\n",
    "    - [IDC* line 4](#IDC*-line-4)\n",
    "    - [IDC* line 4, recursive step](#IDC*-line-4,-recursive-step)\n",
    "        - [IDC* recursive call line 1-3](#IDC*-recursive-call-line-1-3)\n",
    "        - [IDC* recursive call line 4](#IDC*-recursive-call-line-4)\n",
    "    - [Final recursive call](#Final-recursive-call)\n",
    "    - [Final IDC* Checkpoint](#Final-IDC*-Checkpoint)\n",
    "    \n",
    "    "
   ]
  },
  {
   "cell_type": "markdown",
   "metadata": {},
   "source": [
    "# Introduction to ID* Algorithm\n",
    "\n",
    "The **ID*** algorithm was developed by (I. Shpitser, J. Pearl 2007) for identifying counterfactual queries. **ID*** operates by taking a causal diagram $G$ and a conjunction of counterfactual events $\\gamma$ as inputs. It will return an expression for the probability of $\\gamma$, $P(\\gamma)$ or **FAIL**. \n",
    "\n",
    "The **ID*** algorithm utilizes the **make-cg** algorithm also found in (I. Shpitser, J. Pearl 2007) during the implementation. The details **make-cg** algorithm are not explained here, however, its function is to make a counterfactual graph that **ID*** will use for calculating $P(\\gamma)$.\n",
    "\n",
    "It was later shown that the **ID*** algorithm is sound and complete (I. Shpitser, J. Pearl 2008)."
   ]
  },
  {
   "cell_type": "markdown",
   "metadata": {},
   "source": [
    "# Example of using ID_star\n",
    "The walkthrough shows each step of the algorithm, but first here is an example of using id_star with a simple graph and event.\n",
    "\n",
    "The graph we are using is found in figure 9a from (I. Shpitser, J. Pearl 2008)."
   ]
  },
  {
   "cell_type": "code",
   "execution_count": 1,
   "metadata": {},
   "outputs": [
    {
     "data": {
      "image/png": "[encoded data removed]",
      "text/plain": [
       "<Figure size 640x480 with 1 Axes>"
      ]
     },
     "metadata": {},
     "output_type": "display_data"
    }
   ],
   "source": [
    "from y0.algorithm.identify.id_star import id_star\n",
    "from y0.examples import figure_9a\n",
    "from matplotlib import pyplot as plt\n",
    "from y0.dsl import A, B, C, X, D, W, P, Y, Z\n",
    "\n",
    "x, y, z, w, d = -X, -Y, -Z, -W, -D\n",
    "\n",
    "figure_9a.graph.draw()  # This will be our starting graph"
   ]
  },
  {
   "cell_type": "code",
   "execution_count": 2,
   "metadata": {},
   "outputs": [
    {
     "ename": "AttributeError",
     "evalue": "'NxMixedGraph' object has no attribute 'get_markov_pillow'",
     "output_type": "error",
     "traceback": [
      "\u001b[0;31m---------------------------------------------------------------------------\u001b[0m",
      "\u001b[0;31mAttributeError\u001b[0m                            Traceback (most recent call last)",
      "\u001b[0;32m/var/folders/z1/nhct2gps3y94tkbwqvvd7y_jw6p1l8/T/ipykernel_18122/464713080.py\u001b[0m in \u001b[0;36m<module>\u001b[0;34m\u001b[0m\n\u001b[1;32m      1\u001b[0m \u001b[0minput_graph\u001b[0m \u001b[0;34m=\u001b[0m \u001b[0mfigure_9a\u001b[0m\u001b[0;34m.\u001b[0m\u001b[0mgraph\u001b[0m\u001b[0;34m\u001b[0m\u001b[0;34m\u001b[0m\u001b[0m\n\u001b[1;32m      2\u001b[0m \u001b[0minput_event\u001b[0m \u001b[0;34m=\u001b[0m \u001b[0;34m{\u001b[0m\u001b[0mY\u001b[0m \u001b[0;34m@\u001b[0m \u001b[0;34m-\u001b[0m\u001b[0mx\u001b[0m\u001b[0;34m:\u001b[0m \u001b[0;34m-\u001b[0m\u001b[0my\u001b[0m\u001b[0;34m,\u001b[0m \u001b[0mX\u001b[0m\u001b[0;34m:\u001b[0m \u001b[0;34m+\u001b[0m\u001b[0mx\u001b[0m\u001b[0;34m,\u001b[0m \u001b[0mZ\u001b[0m \u001b[0;34m@\u001b[0m \u001b[0;34m-\u001b[0m\u001b[0md\u001b[0m\u001b[0;34m:\u001b[0m \u001b[0;34m-\u001b[0m\u001b[0mz\u001b[0m\u001b[0;34m,\u001b[0m \u001b[0mD\u001b[0m\u001b[0;34m:\u001b[0m \u001b[0;34m-\u001b[0m\u001b[0md\u001b[0m\u001b[0;34m}\u001b[0m\u001b[0;34m\u001b[0m\u001b[0;34m\u001b[0m\u001b[0m\n\u001b[0;32m----> 3\u001b[0;31m \u001b[0moutput_probability\u001b[0m \u001b[0;34m=\u001b[0m \u001b[0mid_star\u001b[0m\u001b[0;34m(\u001b[0m\u001b[0minput_graph\u001b[0m\u001b[0;34m,\u001b[0m \u001b[0minput_event\u001b[0m\u001b[0;34m)\u001b[0m\u001b[0;34m\u001b[0m\u001b[0;34m\u001b[0m\u001b[0m\n\u001b[0m\u001b[1;32m      4\u001b[0m \u001b[0mprint\u001b[0m\u001b[0;34m(\u001b[0m\u001b[0;34mf\"The probability of our query:\\n{output_probability}\"\u001b[0m\u001b[0;34m)\u001b[0m\u001b[0;34m\u001b[0m\u001b[0;34m\u001b[0m\u001b[0m\n",
      "\u001b[0;32m~/Projects/CausalInference/y0-causal-inference/y0/src/y0/algorithm/identify/id_star.py\u001b[0m in \u001b[0;36mid_star\u001b[0;34m(graph, event, _number_recursions)\u001b[0m\n\u001b[1;32m     81\u001b[0m     \u001b[0mcf_subgraph\u001b[0m \u001b[0;34m=\u001b[0m \u001b[0mcf_graph\u001b[0m\u001b[0;34m.\u001b[0m\u001b[0msubgraph\u001b[0m\u001b[0;34m(\u001b[0m\u001b[0mnodes\u001b[0m\u001b[0;34m)\u001b[0m\u001b[0;34m\u001b[0m\u001b[0;34m\u001b[0m\u001b[0m\n\u001b[1;32m     82\u001b[0m     \u001b[0;32mif\u001b[0m \u001b[0;32mnot\u001b[0m \u001b[0mcf_subgraph\u001b[0m\u001b[0;34m.\u001b[0m\u001b[0mis_connected\u001b[0m\u001b[0;34m(\u001b[0m\u001b[0;34m)\u001b[0m\u001b[0;34m:\u001b[0m\u001b[0;34m\u001b[0m\u001b[0;34m\u001b[0m\u001b[0m\n\u001b[0;32m---> 83\u001b[0;31m         \u001b[0msummand\u001b[0m\u001b[0;34m,\u001b[0m \u001b[0mevents_of_each_district\u001b[0m \u001b[0;34m=\u001b[0m \u001b[0mid_star_line_6\u001b[0m\u001b[0;34m(\u001b[0m\u001b[0mcf_graph\u001b[0m\u001b[0;34m,\u001b[0m \u001b[0mnew_event\u001b[0m\u001b[0;34m)\u001b[0m\u001b[0;34m\u001b[0m\u001b[0;34m\u001b[0m\u001b[0m\n\u001b[0m\u001b[1;32m     84\u001b[0m         \u001b[0mlogger\u001b[0m\u001b[0;34m.\u001b[0m\u001b[0mdebug\u001b[0m\u001b[0;34m(\u001b[0m\u001b[0;34m\"[%d] summand: %s\"\u001b[0m\u001b[0;34m,\u001b[0m \u001b[0m_number_recursions\u001b[0m\u001b[0;34m,\u001b[0m \u001b[0msummand\u001b[0m\u001b[0;34m)\u001b[0m\u001b[0;34m\u001b[0m\u001b[0;34m\u001b[0m\u001b[0m\n\u001b[1;32m     85\u001b[0m         \u001b[0;32massert\u001b[0m \u001b[0;36m1\u001b[0m \u001b[0;34m<\u001b[0m \u001b[0mlen\u001b[0m\u001b[0;34m(\u001b[0m\u001b[0mevents_of_each_district\u001b[0m\u001b[0;34m)\u001b[0m\u001b[0;34m\u001b[0m\u001b[0;34m\u001b[0m\u001b[0m\n",
      "\u001b[0;32m~/Projects/CausalInference/y0-causal-inference/y0/src/y0/algorithm/identify/id_star.py\u001b[0m in \u001b[0;36mid_star_line_6\u001b[0;34m(cf_graph, event)\u001b[0m\n\u001b[1;32m    205\u001b[0m     \u001b[0;31m# Then we intervene on the Markov pillow of each district\u001b[0m\u001b[0;34m\u001b[0m\u001b[0;34m\u001b[0m\u001b[0m\n\u001b[1;32m    206\u001b[0m     \u001b[0msummand\u001b[0m \u001b[0;34m=\u001b[0m \u001b[0mget_free_variables\u001b[0m\u001b[0;34m(\u001b[0m\u001b[0mcf_graph\u001b[0m\u001b[0;34m,\u001b[0m \u001b[0mevent\u001b[0m\u001b[0;34m)\u001b[0m\u001b[0;34m\u001b[0m\u001b[0;34m\u001b[0m\u001b[0m\n\u001b[0;32m--> 207\u001b[0;31m     \u001b[0mevents_of_each_district\u001b[0m \u001b[0;34m=\u001b[0m \u001b[0mget_events_of_each_district\u001b[0m\u001b[0;34m(\u001b[0m\u001b[0mcf_graph\u001b[0m\u001b[0;34m,\u001b[0m \u001b[0mevent\u001b[0m\u001b[0;34m)\u001b[0m\u001b[0;34m\u001b[0m\u001b[0;34m\u001b[0m\u001b[0m\n\u001b[0m\u001b[1;32m    208\u001b[0m     \u001b[0;32mreturn\u001b[0m \u001b[0msummand\u001b[0m\u001b[0;34m,\u001b[0m \u001b[0mevents_of_each_district\u001b[0m\u001b[0;34m\u001b[0m\u001b[0;34m\u001b[0m\u001b[0m\n\u001b[1;32m    209\u001b[0m \u001b[0;34m\u001b[0m\u001b[0m\n",
      "\u001b[0;32m~/Projects/CausalInference/y0-causal-inference/y0/src/y0/algorithm/identify/id_star.py\u001b[0m in \u001b[0;36mget_events_of_each_district\u001b[0;34m(graph, event)\u001b[0m\n\u001b[1;32m    220\u001b[0m     \u001b[0mnodes\u001b[0m \u001b[0;34m=\u001b[0m \u001b[0;34m{\u001b[0m\u001b[0mnode\u001b[0m \u001b[0;32mfor\u001b[0m \u001b[0mnode\u001b[0m \u001b[0;32min\u001b[0m \u001b[0mgraph\u001b[0m\u001b[0;34m.\u001b[0m\u001b[0mnodes\u001b[0m\u001b[0;34m(\u001b[0m\u001b[0;34m)\u001b[0m \u001b[0;32mif\u001b[0m \u001b[0mis_not_self_intervened\u001b[0m\u001b[0;34m(\u001b[0m\u001b[0mnode\u001b[0m\u001b[0;34m)\u001b[0m\u001b[0;34m}\u001b[0m\u001b[0;34m\u001b[0m\u001b[0;34m\u001b[0m\u001b[0m\n\u001b[1;32m    221\u001b[0m     \u001b[0msubgraph\u001b[0m \u001b[0;34m=\u001b[0m \u001b[0mgraph\u001b[0m\u001b[0;34m.\u001b[0m\u001b[0msubgraph\u001b[0m\u001b[0;34m(\u001b[0m\u001b[0mnodes\u001b[0m\u001b[0;34m)\u001b[0m\u001b[0;34m\u001b[0m\u001b[0;34m\u001b[0m\u001b[0m\n\u001b[0;32m--> 222\u001b[0;31m     return {\n\u001b[0m\u001b[1;32m    223\u001b[0m         \u001b[0mdistrict\u001b[0m\u001b[0;34m:\u001b[0m \u001b[0mget_events_of_district\u001b[0m\u001b[0;34m(\u001b[0m\u001b[0mgraph\u001b[0m\u001b[0;34m,\u001b[0m \u001b[0mdistrict\u001b[0m\u001b[0;34m,\u001b[0m \u001b[0mevent\u001b[0m\u001b[0;34m)\u001b[0m\u001b[0;34m\u001b[0m\u001b[0;34m\u001b[0m\u001b[0m\n\u001b[1;32m    224\u001b[0m         \u001b[0;32mfor\u001b[0m \u001b[0mdistrict\u001b[0m \u001b[0;32min\u001b[0m \u001b[0msubgraph\u001b[0m\u001b[0;34m.\u001b[0m\u001b[0mget_c_components\u001b[0m\u001b[0;34m(\u001b[0m\u001b[0;34m)\u001b[0m\u001b[0;34m\u001b[0m\u001b[0;34m\u001b[0m\u001b[0m\n",
      "\u001b[0;32m~/Projects/CausalInference/y0-causal-inference/y0/src/y0/algorithm/identify/id_star.py\u001b[0m in \u001b[0;36m<dictcomp>\u001b[0;34m(.0)\u001b[0m\n\u001b[1;32m    221\u001b[0m     \u001b[0msubgraph\u001b[0m \u001b[0;34m=\u001b[0m \u001b[0mgraph\u001b[0m\u001b[0;34m.\u001b[0m\u001b[0msubgraph\u001b[0m\u001b[0;34m(\u001b[0m\u001b[0mnodes\u001b[0m\u001b[0;34m)\u001b[0m\u001b[0;34m\u001b[0m\u001b[0;34m\u001b[0m\u001b[0m\n\u001b[1;32m    222\u001b[0m     return {\n\u001b[0;32m--> 223\u001b[0;31m         \u001b[0mdistrict\u001b[0m\u001b[0;34m:\u001b[0m \u001b[0mget_events_of_district\u001b[0m\u001b[0;34m(\u001b[0m\u001b[0mgraph\u001b[0m\u001b[0;34m,\u001b[0m \u001b[0mdistrict\u001b[0m\u001b[0;34m,\u001b[0m \u001b[0mevent\u001b[0m\u001b[0;34m)\u001b[0m\u001b[0;34m\u001b[0m\u001b[0;34m\u001b[0m\u001b[0m\n\u001b[0m\u001b[1;32m    224\u001b[0m         \u001b[0;32mfor\u001b[0m \u001b[0mdistrict\u001b[0m \u001b[0;32min\u001b[0m \u001b[0msubgraph\u001b[0m\u001b[0;34m.\u001b[0m\u001b[0mget_c_components\u001b[0m\u001b[0;34m(\u001b[0m\u001b[0;34m)\u001b[0m\u001b[0;34m\u001b[0m\u001b[0;34m\u001b[0m\u001b[0m\n\u001b[1;32m    225\u001b[0m     }\n",
      "\u001b[0;32m~/Projects/CausalInference/y0-causal-inference/y0/src/y0/algorithm/identify/id_star.py\u001b[0m in \u001b[0;36mget_events_of_district\u001b[0;34m(graph, district, event)\u001b[0m\n\u001b[1;32m    236\u001b[0m     \u001b[0;34m:\u001b[0m\u001b[0;32mreturn\u001b[0m\u001b[0;34m:\u001b[0m \u001b[0mthe\u001b[0m \u001b[0mevents\u001b[0m \u001b[0mof\u001b[0m \u001b[0mthe\u001b[0m \u001b[0mdistrict\u001b[0m\u001b[0;34m\u001b[0m\u001b[0;34m\u001b[0m\u001b[0m\n\u001b[1;32m    237\u001b[0m     \"\"\"\n\u001b[0;32m--> 238\u001b[0;31m     \u001b[0mmarkov_pillow\u001b[0m \u001b[0;34m=\u001b[0m \u001b[0mgraph\u001b[0m\u001b[0;34m.\u001b[0m\u001b[0mget_markov_pillow\u001b[0m\u001b[0;34m(\u001b[0m\u001b[0mdistrict\u001b[0m\u001b[0;34m)\u001b[0m\u001b[0;34m\u001b[0m\u001b[0;34m\u001b[0m\u001b[0m\n\u001b[0m\u001b[1;32m    239\u001b[0m     \u001b[0;32mif\u001b[0m \u001b[0;32mnot\u001b[0m \u001b[0mmarkov_pillow\u001b[0m\u001b[0;34m:\u001b[0m\u001b[0;34m\u001b[0m\u001b[0;34m\u001b[0m\u001b[0m\n\u001b[1;32m    240\u001b[0m         \u001b[0;32mreturn\u001b[0m \u001b[0;34m{\u001b[0m\u001b[0mnode\u001b[0m\u001b[0;34m.\u001b[0m\u001b[0mget_base\u001b[0m\u001b[0;34m(\u001b[0m\u001b[0;34m)\u001b[0m\u001b[0;34m:\u001b[0m \u001b[0m_get_node_event\u001b[0m\u001b[0;34m(\u001b[0m\u001b[0mnode\u001b[0m\u001b[0;34m,\u001b[0m \u001b[0mevent\u001b[0m\u001b[0;34m)\u001b[0m \u001b[0;32mfor\u001b[0m \u001b[0mnode\u001b[0m \u001b[0;32min\u001b[0m \u001b[0mdistrict\u001b[0m\u001b[0;34m}\u001b[0m\u001b[0;34m\u001b[0m\u001b[0;34m\u001b[0m\u001b[0m\n",
      "\u001b[0;31mAttributeError\u001b[0m: 'NxMixedGraph' object has no attribute 'get_markov_pillow'"
     ]
    }
   ],
   "source": [
    "input_graph = figure_9a.graph\n",
    "input_event = {Y @ -x: -y, X: +x, Z @ -d: -z, D: -d}\n",
    "output_probability = id_star(input_graph, input_event)\n",
    "print(f\"The probability of our query:\\n{output_probability}\")"
   ]
  },
  {
   "cell_type": "code",
   "execution_count": 3,
   "metadata": {},
   "outputs": [],
   "source": [
    "# Imports needed for id_star walkthrough\n",
    "%load_ext autoreload\n",
    "%autoreload 2\n",
    "import itertools as itt\n",
    "\n",
    "from y0.algorithm.identify.id_star import (\n",
    "    id_star,\n",
    "    violates_axiom_of_effectiveness,\n",
    "    remove_event_tautologies,\n",
    "    get_events_of_district,\n",
    "    get_cf_interventions,\n",
    "    get_evidence,\n",
    "    get_free_variables,\n",
    ")\n",
    "from y0.algorithm.identify.cg import make_counterfactual_graph, is_not_self_intervened\n",
    "from y0.examples import figure_9a\n",
    "from y0.dsl import One, Sum, Zero, Product\n",
    "from y0.mutate.canonicalize_expr import canonicalize\n",
    "\n",
    "from matplotlib_inline.backend_inline import set_matplotlib_formats\n",
    "\n",
    "set_matplotlib_formats(\"svg\")\n",
    "\n",
    "x, y, z, w, d = -X, -Y, -Z, -W, -D"
   ]
  },
  {
   "cell_type": "markdown",
   "metadata": {},
   "source": [
    "\n",
    "# ID* Algorithm\n",
    "Here is the **ID*** algorithm as it appears in (I. Shpitser, J. Pearl 2008). Here we will walkthrough an example where each step is described. \n",
    "\n",
    "$\\text{function }\\mathbf{ {ID}^*}\\left(G, \\gamma\\right) \\\\ \\text{INPUT: } \\text{ $G$ a causal diagram, $\\gamma$ a conjunction of counterfactual events}. \\\\  \\text{OUTPUT:  an expression for $P(\\gamma)$ in terms of $P_*$ or $\\mathbf{FAIL}$} $\n",
    "\n",
    "* 1 if $\\gamma=\\varnothing$, return 1 \n",
    "* 2 if ($\\exists x_{x'..} \\in \\gamma$), return 0\n",
    "* 3 if ($\\exists x_{x..} \\in \\gamma$), return $\\mathbf{ ID^*}(G,\\gamma \\backslash \\{x_{x..}\\})$\n",
    "* 4 $(G',\\gamma')=\\mathbf{make-cg}(G,\\gamma)$\n",
    "* 5 if $\\gamma'= \\mathbf{INCONSISTENT}$ return 0\n",
    "* 6 if $C(G')=\\{S^1,...,S^k\\},$ return $\\sum_{\\mathbf{V}(G')\\backslash\\gamma}\\prod_{i}\\mathbf{ID^*}(G,s^i_{\\mathbf{v}(G')\\backslash s^i})$\n",
    "* 7 if $C(G')=\\{S\\}$ then\n",
    "    * 8 if $\\exists \\mathbf{x,x'}$ s.t. $\\mathbf{x} \\neq \\mathbf{x',x} \\in \\mathbf{sub}(S),\\mathbf{x'} \\in \\mathbf{ev}(S),$ throw $\\mathbf{FAIL}$\n",
    "    * 9 else, let $\\mathbf{x} = \\bigcup \\mathbf{sub}(S)$ return $P_\\mathbf{x}(\\mathbf{var}(S))$\n"
   ]
  },
  {
   "cell_type": "markdown",
   "metadata": {},
   "source": [
    "# Walkthrough of ID* algorithm\n",
    "\n",
    "We are going to start with the same graph and event that we started with for the make counterfactual graph walkthrough. "
   ]
  },
  {
   "cell_type": "markdown",
   "metadata": {},
   "source": [
    "## Starting graph (Figure 9a)\n",
    "The starting graph and event for this walkthrough is the example corresponding to Figure 9a from (I. Shpitser, J. Pearl 2008)"
   ]
  },
  {
   "cell_type": "code",
   "execution_count": 4,
   "metadata": {},
   "outputs": [
    {
     "data": {
      "image/svg+xml": [
       "<?xml version=\"1.0\" encoding=\"utf-8\" standalone=\"no\"?>\n",
       "<!DOCTYPE svg PUBLIC \"-//W3C//DTD SVG 1.1//EN\"\n",
       "  \"http://www.w3.org/Graphics/SVG/1.1/DTD/svg11.dtd\">\n",
       "<svg xmlns:xlink=\"http://www.w3.org/1999/xlink\" width=\"371.52pt\" height=\"280.512pt\" viewBox=\"0 0 371.52 280.512\" xmlns=\"http://www.w3.org/2000/svg\" version=\"1.1\">\n",
       " <metadata>\n",
       "  <rdf:RDF xmlns:dc=\"http://purl.org/dc/elements/1.1/\" xmlns:cc=\"http://creativecommons.org/ns#\" xmlns:rdf=\"http://www.w3.org/1999/02/22-rdf-syntax-ns#\">\n",
       "   <cc:Work>\n",
       "    <dc:type rdf:resource=\"http://purl.org/dc/dcmitype/StillImage\"/>\n",
       "    <dc:date>2023-06-28T11:56:53.207139</dc:date>\n",
       "    <dc:format>image/svg+xml</dc:format>\n",
       "    <dc:creator>\n",
       "     <cc:Agent>\n",
       "      <dc:title>Matplotlib v3.7.1, https://matplotlib.org/</dc:title>\n",
       "     </cc:Agent>\n",
       "    </dc:creator>\n",
       "   </cc:Work>\n",
       "  </rdf:RDF>\n",
       " </metadata>\n",
       " <defs>\n",
       "  <style type=\"text/css\">*{stroke-linejoin: round; stroke-linecap: butt}</style>\n",
       " </defs>\n",
       " <g id=\"figure_1\">\n",
       "  <g id=\"patch_1\">\n",
       "   <path d=\"M 0 280.512 \n",
       "L 371.52 280.512 \n",
       "L 371.52 0 \n",
       "L 0 0 \n",
       "z\n",
       "\" style=\"fill: #ffffff\"/>\n",
       "  </g>\n",
       "  <g id=\"axes_1\">\n",
       "   <g id=\"patch_2\">\n",
       "    <path d=\"M 173.299556 197.285919 \n",
       "Q 135.031386 140.254002 98.009123 85.078887 \n",
       "\" clip-path=\"url(#pdef8c95d88)\" style=\"fill: none; stroke: #000000; stroke-width: 2; stroke-linecap: round\"/>\n",
       "    <path d=\"M 99.145064 93.950732 \n",
       "L 98.009123 85.078887 \n",
       "L 105.788164 89.493241 \n",
       "z\n",
       "\" clip-path=\"url(#pdef8c95d88)\" style=\"stroke: #000000; stroke-width: 2; stroke-linecap: round\"/>\n",
       "   </g>\n",
       "   <g id=\"patch_3\">\n",
       "    <path d=\"M 106.668924 64.656 \n",
       "Q 135.031938 64.656 161.158884 64.656 \n",
       "\" clip-path=\"url(#pdef8c95d88)\" style=\"fill: none; stroke: #000000; stroke-width: 2; stroke-linecap: round\"/>\n",
       "    <path d=\"M 153.158884 60.656 \n",
       "L 161.158884 64.656 \n",
       "L 153.158884 68.656 \n",
       "z\n",
       "\" clip-path=\"url(#pdef8c95d88)\" style=\"stroke: #000000; stroke-width: 2; stroke-linecap: round\"/>\n",
       "   </g>\n",
       "   <g id=\"patch_4\">\n",
       "    <path d=\"M 102.235242 202.495417 \n",
       "Q 185.759031 140.256722 267.48981 79.354109 \n",
       "\" clip-path=\"url(#pdef8c95d88)\" style=\"fill: none; stroke: #000000; stroke-width: 2; stroke-linecap: round\"/>\n",
       "    <path d=\"M 258.684887 80.926786 \n",
       "L 267.48981 79.354109 \n",
       "L 263.464998 87.341655 \n",
       "z\n",
       "\" clip-path=\"url(#pdef8c95d88)\" style=\"stroke: #000000; stroke-width: 2; stroke-linecap: round\"/>\n",
       "   </g>\n",
       "   <g id=\"patch_5\">\n",
       "    <path d=\"M 264.851076 64.656 \n",
       "Q 236.488062 64.656 210.361116 64.656 \n",
       "\" clip-path=\"url(#pdef8c95d88)\" style=\"fill: none; stroke: #000000; stroke-width: 2; stroke-linecap: round\"/>\n",
       "    <path d=\"M 218.361116 68.656 \n",
       "L 210.361116 64.656 \n",
       "L 218.361116 60.656 \n",
       "z\n",
       "\" clip-path=\"url(#pdef8c95d88)\" style=\"stroke: #000000; stroke-width: 2; stroke-linecap: round\"/>\n",
       "   </g>\n",
       "   <g id=\"patch_6\">\n",
       "    <path d=\"M 196.097467 196.026227 \n",
       "Q 220.783588 140.253616 196.095357 84.481005 \n",
       "\" clip-path=\"url(#pdef8c95d88)\" style=\"fill: none; stroke-dasharray: 2,3.3; stroke-dashoffset: 0; stroke: #808080; stroke-width: 2; stroke-linecap: round\"/>\n",
       "   </g>\n",
       "   <g id=\"PathCollection_1\">\n",
       "    <defs>\n",
       "     <path id=\"mf260cc15aa\" d=\"M 0 19.364917 \n",
       "C 5.135636 19.364917 10.061621 17.324507 13.693064 13.693064 \n",
       "C 17.324507 10.061621 19.364917 5.135636 19.364917 0 \n",
       "C 19.364917 -5.135636 17.324507 -10.061621 13.693064 -13.693064 \n",
       "C 10.061621 -17.324507 5.135636 -19.364917 0 -19.364917 \n",
       "C -5.135636 -19.364917 -10.061621 -17.324507 -13.693064 -13.693064 \n",
       "C -17.324507 -10.061621 -19.364917 -5.135636 -19.364917 0 \n",
       "C -19.364917 5.135636 -17.324507 10.061621 -13.693064 13.693064 \n",
       "C -10.061621 17.324507 -5.135636 19.364917 0 19.364917 \n",
       "z\n",
       "\" style=\"stroke: #000000; stroke-width: 2\"/>\n",
       "    </defs>\n",
       "    <g clip-path=\"url(#pdef8c95d88)\">\n",
       "     <use xlink:href=\"#mf260cc15aa\" x=\"185.76\" y=\"215.856\" style=\"fill: #ffffff; stroke: #000000; stroke-width: 2\"/>\n",
       "     <use xlink:href=\"#mf260cc15aa\" x=\"84.305455\" y=\"64.656\" style=\"fill: #ffffff; stroke: #000000; stroke-width: 2\"/>\n",
       "     <use xlink:href=\"#mf260cc15aa\" x=\"185.76\" y=\"64.656\" style=\"fill: #ffffff; stroke: #000000; stroke-width: 2\"/>\n",
       "     <use xlink:href=\"#mf260cc15aa\" x=\"84.305455\" y=\"215.856\" style=\"fill: #ffffff; stroke: #000000; stroke-width: 2\"/>\n",
       "     <use xlink:href=\"#mf260cc15aa\" x=\"287.214545\" y=\"64.656\" style=\"fill: #ffffff; stroke: #000000; stroke-width: 2\"/>\n",
       "    </g>\n",
       "   </g>\n",
       "   <g id=\"text_1\">\n",
       "    <g clip-path=\"url(#pdef8c95d88)\">\n",
       "     <!-- $X$ -->\n",
       "     <g transform=\"translate(178.86 221.37475) scale(0.2 -0.2)\">\n",
       "      <defs>\n",
       "       <path id=\"DejaVuSans-Oblique-58\" d=\"M 878 4666 \n",
       "L 1516 4666 \n",
       "L 2316 2981 \n",
       "L 3763 4666 \n",
       "L 4500 4666 \n",
       "L 2578 2438 \n",
       "L 3738 0 \n",
       "L 3103 0 \n",
       "L 2163 1966 \n",
       "L 459 0 \n",
       "L -275 0 \n",
       "L 1906 2509 \n",
       "L 878 4666 \n",
       "z\n",
       "\" transform=\"scale(0.015625)\"/>\n",
       "      </defs>\n",
       "      <use xlink:href=\"#DejaVuSans-Oblique-58\" transform=\"translate(0 0.09375)\"/>\n",
       "     </g>\n",
       "    </g>\n",
       "   </g>\n",
       "   <g id=\"text_2\">\n",
       "    <g clip-path=\"url(#pdef8c95d88)\">\n",
       "     <!-- $W$ -->\n",
       "     <g transform=\"translate(74.405455 70.17475) scale(0.2 -0.2)\">\n",
       "      <defs>\n",
       "       <path id=\"DejaVuSans-Oblique-57\" d=\"M 616 4666 \n",
       "L 1228 4666 \n",
       "L 1453 697 \n",
       "L 3213 4666 \n",
       "L 3916 4666 \n",
       "L 4147 697 \n",
       "L 5888 4666 \n",
       "L 6528 4666 \n",
       "L 4453 0 \n",
       "L 3659 0 \n",
       "L 3444 3891 \n",
       "L 1697 0 \n",
       "L 903 0 \n",
       "L 616 4666 \n",
       "z\n",
       "\" transform=\"scale(0.015625)\"/>\n",
       "      </defs>\n",
       "      <use xlink:href=\"#DejaVuSans-Oblique-57\" transform=\"translate(0 0.09375)\"/>\n",
       "     </g>\n",
       "    </g>\n",
       "   </g>\n",
       "   <g id=\"text_3\">\n",
       "    <g clip-path=\"url(#pdef8c95d88)\">\n",
       "     <!-- $Y$ -->\n",
       "     <g transform=\"translate(179.56 70.17475) scale(0.2 -0.2)\">\n",
       "      <defs>\n",
       "       <path id=\"DejaVuSans-Oblique-59\" d=\"M 403 4666 \n",
       "L 1081 4666 \n",
       "L 1953 2747 \n",
       "L 3616 4666 \n",
       "L 4325 4666 \n",
       "L 2209 2222 \n",
       "L 1778 0 \n",
       "L 1147 0 \n",
       "L 1575 2222 \n",
       "L 403 4666 \n",
       "z\n",
       "\" transform=\"scale(0.015625)\"/>\n",
       "      </defs>\n",
       "      <use xlink:href=\"#DejaVuSans-Oblique-59\" transform=\"translate(0 0.09375)\"/>\n",
       "     </g>\n",
       "    </g>\n",
       "   </g>\n",
       "   <g id=\"text_4\">\n",
       "    <g clip-path=\"url(#pdef8c95d88)\">\n",
       "     <!-- $D$ -->\n",
       "     <g transform=\"translate(76.505455 221.37475) scale(0.2 -0.2)\">\n",
       "      <defs>\n",
       "       <path id=\"DejaVuSans-Oblique-44\" d=\"M 1081 4666 \n",
       "L 2438 4666 \n",
       "Q 3519 4666 4070 4208 \n",
       "Q 4622 3750 4622 2847 \n",
       "Q 4622 2250 4412 1698 \n",
       "Q 4203 1147 3834 769 \n",
       "Q 3463 381 2891 190 \n",
       "Q 2319 0 1538 0 \n",
       "L 172 0 \n",
       "L 1081 4666 \n",
       "z\n",
       "M 1613 4147 \n",
       "L 909 519 \n",
       "L 1734 519 \n",
       "Q 2794 519 3375 1128 \n",
       "Q 3956 1738 3956 2847 \n",
       "Q 3956 3519 3581 3833 \n",
       "Q 3206 4147 2406 4147 \n",
       "L 1613 4147 \n",
       "z\n",
       "\" transform=\"scale(0.015625)\"/>\n",
       "      </defs>\n",
       "      <use xlink:href=\"#DejaVuSans-Oblique-44\" transform=\"translate(0 0.09375)\"/>\n",
       "     </g>\n",
       "    </g>\n",
       "   </g>\n",
       "   <g id=\"text_5\">\n",
       "    <g clip-path=\"url(#pdef8c95d88)\">\n",
       "     <!-- $Z$ -->\n",
       "     <g transform=\"translate(280.314545 70.17475) scale(0.2 -0.2)\">\n",
       "      <defs>\n",
       "       <path id=\"DejaVuSans-Oblique-5a\" d=\"M 838 4666 \n",
       "L 4500 4666 \n",
       "L 4409 4184 \n",
       "L 794 531 \n",
       "L 3769 531 \n",
       "L 3669 0 \n",
       "L -141 0 \n",
       "L -50 481 \n",
       "L 3566 4134 \n",
       "L 738 4134 \n",
       "L 838 4666 \n",
       "z\n",
       "\" transform=\"scale(0.015625)\"/>\n",
       "      </defs>\n",
       "      <use xlink:href=\"#DejaVuSans-Oblique-5a\" transform=\"translate(0 0.09375)\"/>\n",
       "     </g>\n",
       "    </g>\n",
       "   </g>\n",
       "  </g>\n",
       " </g>\n",
       " <defs>\n",
       "  <clipPath id=\"pdef8c95d88\">\n",
       "   <rect x=\"7.2\" y=\"7.2\" width=\"357.12\" height=\"266.112\"/>\n",
       "  </clipPath>\n",
       " </defs>\n",
       "</svg>\n"
      ],
      "text/plain": [
       "<Figure size 640x480 with 1 Axes>"
      ]
     },
     "metadata": {},
     "output_type": "display_data"
    }
   ],
   "source": [
    "input_graph = figure_9a.graph\n",
    "input_event = {Y @ -x: -y, X: +x, Z @ -d: -z, D: -d}\n",
    "input_graph.draw()"
   ]
  },
  {
   "cell_type": "markdown",
   "metadata": {},
   "source": [
    "![Figure9A.PNG](images/factual-world.PNG)\n"
   ]
  },
  {
   "cell_type": "markdown",
   "metadata": {},
   "source": [
    "## ID* line 1\n",
    "On line 1 we check that the event is not empty. If the event is empty, then **ID*** returns a probability of 1."
   ]
  },
  {
   "cell_type": "code",
   "execution_count": 5,
   "metadata": {},
   "outputs": [
    {
     "name": "stdout",
     "output_type": "stream",
     "text": [
      "Passed ID* line 1\n"
     ]
    }
   ],
   "source": [
    "assert input_event is not None, \"ID* line 1 failed, return One()\"\n",
    "print(\"Passed ID* line 1\")"
   ]
  },
  {
   "cell_type": "markdown",
   "metadata": {},
   "source": [
    "## ID* line 2\n",
    "On line 2 we check $\\gamma$ for inconsistencies. If $\\gamma$ contains a counterfactual which violates the Axiom of Effectiveness, then **ID*** returns a probability of 0.\n"
   ]
  },
  {
   "cell_type": "code",
   "execution_count": 6,
   "metadata": {},
   "outputs": [
    {
     "name": "stdout",
     "output_type": "stream",
     "text": [
      "Passed ID* line 2\n"
     ]
    }
   ],
   "source": [
    "# Line 2: This violates the Axiom of Effectiveness\n",
    "assert not violates_axiom_of_effectiveness(input_event), \"ID* line 2 failed, return Zero()\"\n",
    "print(\"Passed ID* line 2\")"
   ]
  },
  {
   "cell_type": "markdown",
   "metadata": {},
   "source": [
    "## ID* line 3\n",
    "On line 3 we check $\\gamma$ for self interventions. If $\\gamma$ contains self interventions then they can be removed from the query without effecting the probability. In this case **ID*** will be run again with the same input graph, but a reduced event that has removed event tautologies.\n"
   ]
  },
  {
   "cell_type": "code",
   "execution_count": 7,
   "metadata": {},
   "outputs": [
    {
     "name": "stdout",
     "output_type": "stream",
     "text": [
      "Passed ID* line 3\n"
     ]
    }
   ],
   "source": [
    "# Line 3: This is a tautological event and can be removed without affecting the probability\n",
    "reduced_event = remove_event_tautologies(input_event)\n",
    "if reduced_event == input_event:\n",
    "    print(\"Passed ID* line 3\")\n",
    "else:\n",
    "    print(\"The event contains a tautology, rerun ID* with reduced event\")"
   ]
  },
  {
   "cell_type": "markdown",
   "metadata": {},
   "source": [
    "## ID* line 4\n",
    "Line 4 uses **make_counterfactual_graph** to construct a counterfactual graph $G'$ and relabeled event $\\gamma'$. \n"
   ]
  },
  {
   "cell_type": "code",
   "execution_count": 8,
   "metadata": {},
   "outputs": [
    {
     "data": {
      "image/svg+xml": [
       "<?xml version=\"1.0\" encoding=\"utf-8\" standalone=\"no\"?>\n",
       "<!DOCTYPE svg PUBLIC \"-//W3C//DTD SVG 1.1//EN\"\n",
       "  \"http://www.w3.org/Graphics/SVG/1.1/DTD/svg11.dtd\">\n",
       "<svg xmlns:xlink=\"http://www.w3.org/1999/xlink\" width=\"371.52pt\" height=\"280.512pt\" viewBox=\"0 0 371.52 280.512\" xmlns=\"http://www.w3.org/2000/svg\" version=\"1.1\">\n",
       " <metadata>\n",
       "  <rdf:RDF xmlns:dc=\"http://purl.org/dc/elements/1.1/\" xmlns:cc=\"http://creativecommons.org/ns#\" xmlns:rdf=\"http://www.w3.org/1999/02/22-rdf-syntax-ns#\">\n",
       "   <cc:Work>\n",
       "    <dc:type rdf:resource=\"http://purl.org/dc/dcmitype/StillImage\"/>\n",
       "    <dc:date>2023-06-28T11:56:53.845365</dc:date>\n",
       "    <dc:format>image/svg+xml</dc:format>\n",
       "    <dc:creator>\n",
       "     <cc:Agent>\n",
       "      <dc:title>Matplotlib v3.7.1, https://matplotlib.org/</dc:title>\n",
       "     </cc:Agent>\n",
       "    </dc:creator>\n",
       "   </cc:Work>\n",
       "  </rdf:RDF>\n",
       " </metadata>\n",
       " <defs>\n",
       "  <style type=\"text/css\">*{stroke-linejoin: round; stroke-linecap: butt}</style>\n",
       " </defs>\n",
       " <g id=\"figure_1\">\n",
       "  <g id=\"patch_1\">\n",
       "   <path d=\"M 0 280.512 \n",
       "L 371.52 280.512 \n",
       "L 371.52 0 \n",
       "L 0 0 \n",
       "z\n",
       "\" style=\"fill: #ffffff\"/>\n",
       "  </g>\n",
       "  <g id=\"axes_1\">\n",
       "   <g id=\"patch_2\">\n",
       "    <path d=\"M 274.843405 197.230548 \n",
       "Q 236.999766 140.254807 200.393299 85.1417 \n",
       "\" clip-path=\"url(#ped4ef353be)\" style=\"fill: none; stroke: #000000; stroke-width: 2; stroke-linecap: round\"/>\n",
       "    <path d=\"M 201.487563 94.018782 \n",
       "L 200.393299 85.1417 \n",
       "L 208.151523 89.592539 \n",
       "z\n",
       "\" clip-path=\"url(#ped4ef353be)\" style=\"stroke: #000000; stroke-width: 2; stroke-linecap: round\"/>\n",
       "   </g>\n",
       "   <g id=\"patch_3\">\n",
       "    <path d=\"M 208.362628 215.856 \n",
       "Q 236.606188 215.856 262.613679 215.856 \n",
       "\" clip-path=\"url(#ped4ef353be)\" style=\"fill: none; stroke: #000000; stroke-width: 2; stroke-linecap: round\"/>\n",
       "    <path d=\"M 254.613679 211.856 \n",
       "L 262.613679 215.856 \n",
       "L 254.613679 219.856 \n",
       "z\n",
       "\" clip-path=\"url(#ped4ef353be)\" style=\"stroke: #000000; stroke-width: 2; stroke-linecap: round\"/>\n",
       "   </g>\n",
       "   <g id=\"patch_4\">\n",
       "    <path d=\"M 264.432585 64.656 \n",
       "Q 185.548633 64.656 108.900748 64.656 \n",
       "\" clip-path=\"url(#ped4ef353be)\" style=\"fill: none; stroke: #000000; stroke-width: 2; stroke-linecap: round\"/>\n",
       "    <path d=\"M 116.900748 68.656 \n",
       "L 108.900748 64.656 \n",
       "L 116.900748 60.656 \n",
       "z\n",
       "\" clip-path=\"url(#ped4ef353be)\" style=\"stroke: #000000; stroke-width: 2; stroke-linecap: round\"/>\n",
       "   </g>\n",
       "   <g id=\"patch_5\">\n",
       "    <path d=\"M 106.663777 64.656 \n",
       "Q 135.543486 64.656 162.187127 64.656 \n",
       "\" clip-path=\"url(#ped4ef353be)\" style=\"fill: none; stroke: #000000; stroke-width: 2; stroke-linecap: round\"/>\n",
       "    <path d=\"M 154.187127 60.656 \n",
       "L 162.187127 64.656 \n",
       "L 154.187127 68.656 \n",
       "z\n",
       "\" clip-path=\"url(#ped4ef353be)\" style=\"stroke: #000000; stroke-width: 2; stroke-linecap: round\"/>\n",
       "   </g>\n",
       "   <g id=\"patch_6\">\n",
       "    <path d=\"M 103.416886 205.524193 \n",
       "Q 171.829566 165.266441 184.390698 86.888074 \n",
       "\" clip-path=\"url(#ped4ef353be)\" style=\"fill: none; stroke-dasharray: 2,3.3; stroke-dashoffset: 0; stroke: #808080; stroke-width: 2; stroke-linecap: round\"/>\n",
       "   </g>\n",
       "   <g id=\"PathCollection_1\">\n",
       "    <defs>\n",
       "     <path id=\"m0e741bb4d3\" d=\"M 0 19.364917 \n",
       "C 5.135636 19.364917 10.061621 17.324507 13.693064 13.693064 \n",
       "C 17.324507 10.061621 19.364917 5.135636 19.364917 0 \n",
       "C 19.364917 -5.135636 17.324507 -10.061621 13.693064 -13.693064 \n",
       "C 10.061621 -17.324507 5.135636 -19.364917 0 -19.364917 \n",
       "C -5.135636 -19.364917 -10.061621 -17.324507 -13.693064 -13.693064 \n",
       "C -17.324507 -10.061621 -19.364917 -5.135636 -19.364917 0 \n",
       "C -19.364917 5.135636 -17.324507 10.061621 -13.693064 13.693064 \n",
       "C -10.061621 17.324507 -5.135636 19.364917 0 19.364917 \n",
       "z\n",
       "\" style=\"stroke: #000000; stroke-width: 2\"/>\n",
       "    </defs>\n",
       "    <g clip-path=\"url(#ped4ef353be)\">\n",
       "     <use xlink:href=\"#m0e741bb4d3\" x=\"287.214545\" y=\"215.856\" style=\"fill: #ffffff; stroke: #000000; stroke-width: 2\"/>\n",
       "     <use xlink:href=\"#m0e741bb4d3\" x=\"83.587337\" y=\"215.856\" style=\"fill: #ffffff; stroke: #000000; stroke-width: 2\"/>\n",
       "     <use xlink:href=\"#m0e741bb4d3\" x=\"186.003389\" y=\"215.856\" style=\"fill: #ffffff; stroke: #000000; stroke-width: 2\"/>\n",
       "     <use xlink:href=\"#m0e741bb4d3\" x=\"286.792832\" y=\"64.656\" style=\"fill: #ffffff; stroke: #000000; stroke-width: 2\"/>\n",
       "     <use xlink:href=\"#m0e741bb4d3\" x=\"186.78657\" y=\"64.656\" style=\"fill: #ffffff; stroke: #000000; stroke-width: 2\"/>\n",
       "     <use xlink:href=\"#m0e741bb4d3\" x=\"84.305455\" y=\"64.656\" style=\"fill: #ffffff; stroke: #000000; stroke-width: 2\"/>\n",
       "    </g>\n",
       "   </g>\n",
       "   <g id=\"text_1\">\n",
       "    <g clip-path=\"url(#ped4ef353be)\">\n",
       "     <!-- $Z$ -->\n",
       "     <g transform=\"translate(280.314545 221.37475) scale(0.2 -0.2)\">\n",
       "      <defs>\n",
       "       <path id=\"DejaVuSans-Oblique-5a\" d=\"M 838 4666 \n",
       "L 4500 4666 \n",
       "L 4409 4184 \n",
       "L 794 531 \n",
       "L 3769 531 \n",
       "L 3669 0 \n",
       "L -141 0 \n",
       "L -50 481 \n",
       "L 3566 4134 \n",
       "L 738 4134 \n",
       "L 838 4666 \n",
       "z\n",
       "\" transform=\"scale(0.015625)\"/>\n",
       "      </defs>\n",
       "      <use xlink:href=\"#DejaVuSans-Oblique-5a\" transform=\"translate(0 0.09375)\"/>\n",
       "     </g>\n",
       "    </g>\n",
       "   </g>\n",
       "   <g id=\"text_2\">\n",
       "    <g clip-path=\"url(#ped4ef353be)\">\n",
       "     <!-- $X$ -->\n",
       "     <g transform=\"translate(76.687337 221.37475) scale(0.2 -0.2)\">\n",
       "      <defs>\n",
       "       <path id=\"DejaVuSans-Oblique-58\" d=\"M 878 4666 \n",
       "L 1516 4666 \n",
       "L 2316 2981 \n",
       "L 3763 4666 \n",
       "L 4500 4666 \n",
       "L 2578 2438 \n",
       "L 3738 0 \n",
       "L 3103 0 \n",
       "L 2163 1966 \n",
       "L 459 0 \n",
       "L -275 0 \n",
       "L 1906 2509 \n",
       "L 878 4666 \n",
       "z\n",
       "\" transform=\"scale(0.015625)\"/>\n",
       "      </defs>\n",
       "      <use xlink:href=\"#DejaVuSans-Oblique-58\" transform=\"translate(0 0.09375)\"/>\n",
       "     </g>\n",
       "    </g>\n",
       "   </g>\n",
       "   <g id=\"text_3\">\n",
       "    <g clip-path=\"url(#ped4ef353be)\">\n",
       "     <!-- $D$ -->\n",
       "     <g transform=\"translate(178.203389 221.37475) scale(0.2 -0.2)\">\n",
       "      <defs>\n",
       "       <path id=\"DejaVuSans-Oblique-44\" d=\"M 1081 4666 \n",
       "L 2438 4666 \n",
       "Q 3519 4666 4070 4208 \n",
       "Q 4622 3750 4622 2847 \n",
       "Q 4622 2250 4412 1698 \n",
       "Q 4203 1147 3834 769 \n",
       "Q 3463 381 2891 190 \n",
       "Q 2319 0 1538 0 \n",
       "L 172 0 \n",
       "L 1081 4666 \n",
       "z\n",
       "M 1613 4147 \n",
       "L 909 519 \n",
       "L 1734 519 \n",
       "Q 2794 519 3375 1128 \n",
       "Q 3956 1738 3956 2847 \n",
       "Q 3956 3519 3581 3833 \n",
       "Q 3206 4147 2406 4147 \n",
       "L 1613 4147 \n",
       "z\n",
       "\" transform=\"scale(0.015625)\"/>\n",
       "      </defs>\n",
       "      <use xlink:href=\"#DejaVuSans-Oblique-44\" transform=\"translate(0 0.09375)\"/>\n",
       "     </g>\n",
       "    </g>\n",
       "   </g>\n",
       "   <g id=\"text_4\">\n",
       "    <g clip-path=\"url(#ped4ef353be)\">\n",
       "     <!-- ${X}_{X}$ -->\n",
       "     <g transform=\"translate(274.792832 70.17475) scale(0.2 -0.2)\">\n",
       "      <use xlink:href=\"#DejaVuSans-Oblique-58\" transform=\"translate(0 0.09375)\"/>\n",
       "      <use xlink:href=\"#DejaVuSans-Oblique-58\" transform=\"translate(68.505859 -16.3125) scale(0.7)\"/>\n",
       "     </g>\n",
       "    </g>\n",
       "   </g>\n",
       "   <g id=\"text_5\">\n",
       "    <g clip-path=\"url(#ped4ef353be)\">\n",
       "     <!-- ${Y}_{X}$ -->\n",
       "     <g transform=\"translate(175.58657 70.17475) scale(0.2 -0.2)\">\n",
       "      <defs>\n",
       "       <path id=\"DejaVuSans-Oblique-59\" d=\"M 403 4666 \n",
       "L 1081 4666 \n",
       "L 1953 2747 \n",
       "L 3616 4666 \n",
       "L 4325 4666 \n",
       "L 2209 2222 \n",
       "L 1778 0 \n",
       "L 1147 0 \n",
       "L 1575 2222 \n",
       "L 403 4666 \n",
       "z\n",
       "\" transform=\"scale(0.015625)\"/>\n",
       "      </defs>\n",
       "      <use xlink:href=\"#DejaVuSans-Oblique-59\" transform=\"translate(0 0.09375)\"/>\n",
       "      <use xlink:href=\"#DejaVuSans-Oblique-58\" transform=\"translate(61.083984 -16.3125) scale(0.7)\"/>\n",
       "     </g>\n",
       "    </g>\n",
       "   </g>\n",
       "   <g id=\"text_6\">\n",
       "    <g clip-path=\"url(#ped4ef353be)\">\n",
       "     <!-- ${W}_{X}$ -->\n",
       "     <g transform=\"translate(69.305455 70.17475) scale(0.2 -0.2)\">\n",
       "      <defs>\n",
       "       <path id=\"DejaVuSans-Oblique-57\" d=\"M 616 4666 \n",
       "L 1228 4666 \n",
       "L 1453 697 \n",
       "L 3213 4666 \n",
       "L 3916 4666 \n",
       "L 4147 697 \n",
       "L 5888 4666 \n",
       "L 6528 4666 \n",
       "L 4453 0 \n",
       "L 3659 0 \n",
       "L 3444 3891 \n",
       "L 1697 0 \n",
       "L 903 0 \n",
       "L 616 4666 \n",
       "z\n",
       "\" transform=\"scale(0.015625)\"/>\n",
       "      </defs>\n",
       "      <use xlink:href=\"#DejaVuSans-Oblique-57\" transform=\"translate(0 0.09375)\"/>\n",
       "      <use xlink:href=\"#DejaVuSans-Oblique-58\" transform=\"translate(98.876953 -16.3125) scale(0.7)\"/>\n",
       "     </g>\n",
       "    </g>\n",
       "   </g>\n",
       "  </g>\n",
       " </g>\n",
       " <defs>\n",
       "  <clipPath id=\"ped4ef353be\">\n",
       "   <rect x=\"7.2\" y=\"7.2\" width=\"357.12\" height=\"266.112\"/>\n",
       "  </clipPath>\n",
       " </defs>\n",
       "</svg>\n"
      ],
      "text/plain": [
       "<Figure size 640x480 with 1 Axes>"
      ]
     },
     "metadata": {},
     "output_type": "display_data"
    }
   ],
   "source": [
    "cf_graph, new_event = make_counterfactual_graph(input_graph, input_event)\n",
    "cf_graph.draw()"
   ]
  },
  {
   "cell_type": "markdown",
   "metadata": {},
   "source": [
    "![Figure9C.PNG](images/counterfactual-graph.png)"
   ]
  },
  {
   "cell_type": "markdown",
   "metadata": {},
   "source": [
    "## ID* line 5\n",
    "For line 5 we check for any inconsistencies which may have been found during the construction of **make_counterfactual_graph**. If $\\gamma'$ is **None** then there was an inconsistency during the algorithm and **ID*** returns 0.\n"
   ]
  },
  {
   "cell_type": "code",
   "execution_count": 9,
   "metadata": {},
   "outputs": [
    {
     "name": "stdout",
     "output_type": "stream",
     "text": [
      "Passed ID* line 5\n"
     ]
    }
   ],
   "source": [
    "# We check that the new event $\\gamma '$ is not inconsistent\n",
    "assert new_event is not None, \"ID* line 5 failed, return Zero()\"\n",
    "print(\"Passed ID* line 5\")"
   ]
  },
  {
   "cell_type": "markdown",
   "metadata": {},
   "source": [
    "## ID* line 6\n",
    "Line 6 is the key line in the **ID*** algorithm. First we calculate the C-components of $G'$. If there is more than one C-component, line 6 will return a sum and a product that includes recursive calls to the **ID*** algorithm.\n",
    "\n",
    "The outermost sum will sum over all vertices which are in the counterfactual graph but not in the event.\n",
    "\n",
    "The product is the product of **ID*** for each C-component. Each call will have the original input $G$ (not the counterfactual graph $G'$) and a new event. The event of each call will be the variables in the C-component intervened on the markov pillow of the C-component, or the parents of all nodes in the C-component which are not themselves in the C-component."
   ]
  },
  {
   "cell_type": "markdown",
   "metadata": {},
   "source": [
    "### Calculate the C-components\n",
    "We note here that self intervened variables such as $X_X$ are excluded from being in a C-component to prevent circular feedback loops. "
   ]
  },
  {
   "cell_type": "code",
   "execution_count": 10,
   "metadata": {},
   "outputs": [
    {
     "name": "stdout",
     "output_type": "stream",
     "text": [
      "C-Component:frozenset({Z})\n",
      "C-Component:frozenset({X, Y @ -X})\n",
      "C-Component:frozenset({D})\n",
      "C-Component:frozenset({W @ -X})\n"
     ]
    },
    {
     "data": {
      "image/svg+xml": [
       "<?xml version=\"1.0\" encoding=\"utf-8\" standalone=\"no\"?>\n",
       "<!DOCTYPE svg PUBLIC \"-//W3C//DTD SVG 1.1//EN\"\n",
       "  \"http://www.w3.org/Graphics/SVG/1.1/DTD/svg11.dtd\">\n",
       "<svg xmlns:xlink=\"http://www.w3.org/1999/xlink\" width=\"371.52pt\" height=\"280.512pt\" viewBox=\"0 0 371.52 280.512\" xmlns=\"http://www.w3.org/2000/svg\" version=\"1.1\">\n",
       " <metadata>\n",
       "  <rdf:RDF xmlns:dc=\"http://purl.org/dc/elements/1.1/\" xmlns:cc=\"http://creativecommons.org/ns#\" xmlns:rdf=\"http://www.w3.org/1999/02/22-rdf-syntax-ns#\">\n",
       "   <cc:Work>\n",
       "    <dc:type rdf:resource=\"http://purl.org/dc/dcmitype/StillImage\"/>\n",
       "    <dc:date>2023-06-28T11:56:54.263933</dc:date>\n",
       "    <dc:format>image/svg+xml</dc:format>\n",
       "    <dc:creator>\n",
       "     <cc:Agent>\n",
       "      <dc:title>Matplotlib v3.7.1, https://matplotlib.org/</dc:title>\n",
       "     </cc:Agent>\n",
       "    </dc:creator>\n",
       "   </cc:Work>\n",
       "  </rdf:RDF>\n",
       " </metadata>\n",
       " <defs>\n",
       "  <style type=\"text/css\">*{stroke-linejoin: round; stroke-linecap: butt}</style>\n",
       " </defs>\n",
       " <g id=\"figure_1\">\n",
       "  <g id=\"patch_1\">\n",
       "   <path d=\"M 0 280.512 \n",
       "L 371.52 280.512 \n",
       "L 371.52 0 \n",
       "L 0 0 \n",
       "z\n",
       "\" style=\"fill: #ffffff\"/>\n",
       "  </g>\n",
       "  <g id=\"axes_1\">\n",
       "   <g id=\"patch_2\">\n",
       "    <path d=\"M 274.843405 197.230548 \n",
       "Q 236.999766 140.254807 200.393299 85.1417 \n",
       "\" clip-path=\"url(#p4125d1fd37)\" style=\"fill: none; stroke: #000000; stroke-width: 2; stroke-linecap: round\"/>\n",
       "    <path d=\"M 201.487563 94.018782 \n",
       "L 200.393299 85.1417 \n",
       "L 208.151523 89.592539 \n",
       "z\n",
       "\" clip-path=\"url(#p4125d1fd37)\" style=\"stroke: #000000; stroke-width: 2; stroke-linecap: round\"/>\n",
       "   </g>\n",
       "   <g id=\"patch_3\">\n",
       "    <path d=\"M 208.362628 215.856 \n",
       "Q 236.606188 215.856 262.613679 215.856 \n",
       "\" clip-path=\"url(#p4125d1fd37)\" style=\"fill: none; stroke: #000000; stroke-width: 2; stroke-linecap: round\"/>\n",
       "    <path d=\"M 254.613679 211.856 \n",
       "L 262.613679 215.856 \n",
       "L 254.613679 219.856 \n",
       "z\n",
       "\" clip-path=\"url(#p4125d1fd37)\" style=\"stroke: #000000; stroke-width: 2; stroke-linecap: round\"/>\n",
       "   </g>\n",
       "   <g id=\"patch_4\">\n",
       "    <path d=\"M 264.432585 64.656 \n",
       "Q 185.548633 64.656 108.900748 64.656 \n",
       "\" clip-path=\"url(#p4125d1fd37)\" style=\"fill: none; stroke: #000000; stroke-width: 2; stroke-linecap: round\"/>\n",
       "    <path d=\"M 116.900748 68.656 \n",
       "L 108.900748 64.656 \n",
       "L 116.900748 60.656 \n",
       "z\n",
       "\" clip-path=\"url(#p4125d1fd37)\" style=\"stroke: #000000; stroke-width: 2; stroke-linecap: round\"/>\n",
       "   </g>\n",
       "   <g id=\"patch_5\">\n",
       "    <path d=\"M 106.663777 64.656 \n",
       "Q 135.543486 64.656 162.187127 64.656 \n",
       "\" clip-path=\"url(#p4125d1fd37)\" style=\"fill: none; stroke: #000000; stroke-width: 2; stroke-linecap: round\"/>\n",
       "    <path d=\"M 154.187127 60.656 \n",
       "L 162.187127 64.656 \n",
       "L 154.187127 68.656 \n",
       "z\n",
       "\" clip-path=\"url(#p4125d1fd37)\" style=\"stroke: #000000; stroke-width: 2; stroke-linecap: round\"/>\n",
       "   </g>\n",
       "   <g id=\"patch_6\">\n",
       "    <path d=\"M 103.416886 205.524193 \n",
       "Q 171.829566 165.266441 184.390698 86.888074 \n",
       "\" clip-path=\"url(#p4125d1fd37)\" style=\"fill: none; stroke-dasharray: 2,3.3; stroke-dashoffset: 0; stroke: #808080; stroke-width: 2; stroke-linecap: round\"/>\n",
       "   </g>\n",
       "   <g id=\"PathCollection_1\">\n",
       "    <defs>\n",
       "     <path id=\"mcca76a02b5\" d=\"M 0 19.364917 \n",
       "C 5.135636 19.364917 10.061621 17.324507 13.693064 13.693064 \n",
       "C 17.324507 10.061621 19.364917 5.135636 19.364917 0 \n",
       "C 19.364917 -5.135636 17.324507 -10.061621 13.693064 -13.693064 \n",
       "C 10.061621 -17.324507 5.135636 -19.364917 0 -19.364917 \n",
       "C -5.135636 -19.364917 -10.061621 -17.324507 -13.693064 -13.693064 \n",
       "C -17.324507 -10.061621 -19.364917 -5.135636 -19.364917 0 \n",
       "C -19.364917 5.135636 -17.324507 10.061621 -13.693064 13.693064 \n",
       "C -10.061621 17.324507 -5.135636 19.364917 0 19.364917 \n",
       "z\n",
       "\" style=\"stroke: #000000; stroke-width: 2\"/>\n",
       "    </defs>\n",
       "    <g clip-path=\"url(#p4125d1fd37)\">\n",
       "     <use xlink:href=\"#mcca76a02b5\" x=\"287.214545\" y=\"215.856\" style=\"fill: #ffffff; stroke: #000000; stroke-width: 2\"/>\n",
       "     <use xlink:href=\"#mcca76a02b5\" x=\"83.587337\" y=\"215.856\" style=\"fill: #ffffff; stroke: #000000; stroke-width: 2\"/>\n",
       "     <use xlink:href=\"#mcca76a02b5\" x=\"186.003389\" y=\"215.856\" style=\"fill: #ffffff; stroke: #000000; stroke-width: 2\"/>\n",
       "     <use xlink:href=\"#mcca76a02b5\" x=\"286.792832\" y=\"64.656\" style=\"fill: #ffffff; stroke: #000000; stroke-width: 2\"/>\n",
       "     <use xlink:href=\"#mcca76a02b5\" x=\"186.78657\" y=\"64.656\" style=\"fill: #ffffff; stroke: #000000; stroke-width: 2\"/>\n",
       "     <use xlink:href=\"#mcca76a02b5\" x=\"84.305455\" y=\"64.656\" style=\"fill: #ffffff; stroke: #000000; stroke-width: 2\"/>\n",
       "    </g>\n",
       "   </g>\n",
       "   <g id=\"text_1\">\n",
       "    <g clip-path=\"url(#p4125d1fd37)\">\n",
       "     <!-- $Z$ -->\n",
       "     <g transform=\"translate(280.314545 221.37475) scale(0.2 -0.2)\">\n",
       "      <defs>\n",
       "       <path id=\"DejaVuSans-Oblique-5a\" d=\"M 838 4666 \n",
       "L 4500 4666 \n",
       "L 4409 4184 \n",
       "L 794 531 \n",
       "L 3769 531 \n",
       "L 3669 0 \n",
       "L -141 0 \n",
       "L -50 481 \n",
       "L 3566 4134 \n",
       "L 738 4134 \n",
       "L 838 4666 \n",
       "z\n",
       "\" transform=\"scale(0.015625)\"/>\n",
       "      </defs>\n",
       "      <use xlink:href=\"#DejaVuSans-Oblique-5a\" transform=\"translate(0 0.09375)\"/>\n",
       "     </g>\n",
       "    </g>\n",
       "   </g>\n",
       "   <g id=\"text_2\">\n",
       "    <g clip-path=\"url(#p4125d1fd37)\">\n",
       "     <!-- $X$ -->\n",
       "     <g transform=\"translate(76.687337 221.37475) scale(0.2 -0.2)\">\n",
       "      <defs>\n",
       "       <path id=\"DejaVuSans-Oblique-58\" d=\"M 878 4666 \n",
       "L 1516 4666 \n",
       "L 2316 2981 \n",
       "L 3763 4666 \n",
       "L 4500 4666 \n",
       "L 2578 2438 \n",
       "L 3738 0 \n",
       "L 3103 0 \n",
       "L 2163 1966 \n",
       "L 459 0 \n",
       "L -275 0 \n",
       "L 1906 2509 \n",
       "L 878 4666 \n",
       "z\n",
       "\" transform=\"scale(0.015625)\"/>\n",
       "      </defs>\n",
       "      <use xlink:href=\"#DejaVuSans-Oblique-58\" transform=\"translate(0 0.09375)\"/>\n",
       "     </g>\n",
       "    </g>\n",
       "   </g>\n",
       "   <g id=\"text_3\">\n",
       "    <g clip-path=\"url(#p4125d1fd37)\">\n",
       "     <!-- $D$ -->\n",
       "     <g transform=\"translate(178.203389 221.37475) scale(0.2 -0.2)\">\n",
       "      <defs>\n",
       "       <path id=\"DejaVuSans-Oblique-44\" d=\"M 1081 4666 \n",
       "L 2438 4666 \n",
       "Q 3519 4666 4070 4208 \n",
       "Q 4622 3750 4622 2847 \n",
       "Q 4622 2250 4412 1698 \n",
       "Q 4203 1147 3834 769 \n",
       "Q 3463 381 2891 190 \n",
       "Q 2319 0 1538 0 \n",
       "L 172 0 \n",
       "L 1081 4666 \n",
       "z\n",
       "M 1613 4147 \n",
       "L 909 519 \n",
       "L 1734 519 \n",
       "Q 2794 519 3375 1128 \n",
       "Q 3956 1738 3956 2847 \n",
       "Q 3956 3519 3581 3833 \n",
       "Q 3206 4147 2406 4147 \n",
       "L 1613 4147 \n",
       "z\n",
       "\" transform=\"scale(0.015625)\"/>\n",
       "      </defs>\n",
       "      <use xlink:href=\"#DejaVuSans-Oblique-44\" transform=\"translate(0 0.09375)\"/>\n",
       "     </g>\n",
       "    </g>\n",
       "   </g>\n",
       "   <g id=\"text_4\">\n",
       "    <g clip-path=\"url(#p4125d1fd37)\">\n",
       "     <!-- ${X}_{X}$ -->\n",
       "     <g transform=\"translate(274.792832 70.17475) scale(0.2 -0.2)\">\n",
       "      <use xlink:href=\"#DejaVuSans-Oblique-58\" transform=\"translate(0 0.09375)\"/>\n",
       "      <use xlink:href=\"#DejaVuSans-Oblique-58\" transform=\"translate(68.505859 -16.3125) scale(0.7)\"/>\n",
       "     </g>\n",
       "    </g>\n",
       "   </g>\n",
       "   <g id=\"text_5\">\n",
       "    <g clip-path=\"url(#p4125d1fd37)\">\n",
       "     <!-- ${Y}_{X}$ -->\n",
       "     <g transform=\"translate(175.58657 70.17475) scale(0.2 -0.2)\">\n",
       "      <defs>\n",
       "       <path id=\"DejaVuSans-Oblique-59\" d=\"M 403 4666 \n",
       "L 1081 4666 \n",
       "L 1953 2747 \n",
       "L 3616 4666 \n",
       "L 4325 4666 \n",
       "L 2209 2222 \n",
       "L 1778 0 \n",
       "L 1147 0 \n",
       "L 1575 2222 \n",
       "L 403 4666 \n",
       "z\n",
       "\" transform=\"scale(0.015625)\"/>\n",
       "      </defs>\n",
       "      <use xlink:href=\"#DejaVuSans-Oblique-59\" transform=\"translate(0 0.09375)\"/>\n",
       "      <use xlink:href=\"#DejaVuSans-Oblique-58\" transform=\"translate(61.083984 -16.3125) scale(0.7)\"/>\n",
       "     </g>\n",
       "    </g>\n",
       "   </g>\n",
       "   <g id=\"text_6\">\n",
       "    <g clip-path=\"url(#p4125d1fd37)\">\n",
       "     <!-- ${W}_{X}$ -->\n",
       "     <g transform=\"translate(69.305455 70.17475) scale(0.2 -0.2)\">\n",
       "      <defs>\n",
       "       <path id=\"DejaVuSans-Oblique-57\" d=\"M 616 4666 \n",
       "L 1228 4666 \n",
       "L 1453 697 \n",
       "L 3213 4666 \n",
       "L 3916 4666 \n",
       "L 4147 697 \n",
       "L 5888 4666 \n",
       "L 6528 4666 \n",
       "L 4453 0 \n",
       "L 3659 0 \n",
       "L 3444 3891 \n",
       "L 1697 0 \n",
       "L 903 0 \n",
       "L 616 4666 \n",
       "z\n",
       "\" transform=\"scale(0.015625)\"/>\n",
       "      </defs>\n",
       "      <use xlink:href=\"#DejaVuSans-Oblique-57\" transform=\"translate(0 0.09375)\"/>\n",
       "      <use xlink:href=\"#DejaVuSans-Oblique-58\" transform=\"translate(98.876953 -16.3125) scale(0.7)\"/>\n",
       "     </g>\n",
       "    </g>\n",
       "   </g>\n",
       "  </g>\n",
       " </g>\n",
       " <defs>\n",
       "  <clipPath id=\"p4125d1fd37\">\n",
       "   <rect x=\"7.2\" y=\"7.2\" width=\"357.12\" height=\"266.112\"/>\n",
       "  </clipPath>\n",
       " </defs>\n",
       "</svg>\n"
      ],
      "text/plain": [
       "<Figure size 640x480 with 1 Axes>"
      ]
     },
     "metadata": {},
     "output_type": "display_data"
    }
   ],
   "source": [
    "cf_graph.draw()\n",
    "nodes = set(node for node in cf_graph.nodes() if is_not_self_intervened(node))\n",
    "C_components = cf_graph.subgraph(nodes).get_c_components()\n",
    "for c_component in C_components:\n",
    "    print(f\"C-Component:{c_component}\")"
   ]
  },
  {
   "cell_type": "markdown",
   "metadata": {},
   "source": [
    "### ID* line 6, get the markov pillow of each C-component\n",
    "$\\text{For each C-component we will intervene on the nodes that are needed to infer the value of the C-componenet (Markov Pillow)} \\\\\n",
    "$"
   ]
  },
  {
   "cell_type": "code",
   "execution_count": 11,
   "metadata": {},
   "outputs": [
    {
     "name": "stdout",
     "output_type": "stream",
     "text": [
      "C-Component:frozenset({Z})          Markov Pillow: {D}         MP Event: {Z @ -D: -Z}\n",
      "C-Component:frozenset({X, Y @ -X})  Markov Pillow: {Z, W @ -X} MP Event: {X @ (-W, -Z): +X, Y @ (-W, -Z): -Y}\n",
      "C-Component:frozenset({D})          Markov Pillow: set()       MP Event: {D: -D}\n",
      "C-Component:frozenset({W @ -X})     Markov Pillow: {X @ -X}    MP Event: {W @ -X: -W}\n"
     ]
    }
   ],
   "source": [
    "for c_component in C_components:\n",
    "    print(\n",
    "        f\"C-Component:{str(c_component):{23}} Markov Pillow: {str(cf_graph.get_markov_pillow(c_component)):{11}} MP Event: {get_events_of_district(cf_graph,c_component,new_event)}\"\n",
    "    )"
   ]
  },
  {
   "cell_type": "markdown",
   "metadata": {},
   "source": [
    "### Recursive calls for each C-component\n",
    "At this point in the **ID*** algorithm there will be a recursive call to each of the four C-components where the input_graph is the same input to our initial call and the event consists of the nodes in the C-component intervened on the Markov Pillow of the C-component.  \n",
    "\n",
    "Rather than show all four C-components in this walkthrough, we will only show the most complex C-Component {Y @ -X, X}. The other three C-components will be reletively straighforward by similarity. "
   ]
  },
  {
   "cell_type": "markdown",
   "metadata": {},
   "source": [
    "### Recursive call for C-component: {Y @ -X, X}\n",
    "For the C-component {Y @ -X, X} we have the markov pillow {Z, W @ -X}, so we will call **ID*** on our input_graph $G$ and the event {Y @ (-W, -Z): -Y, X @ (-W, -Z): +X}.\n"
   ]
  },
  {
   "cell_type": "code",
   "execution_count": 12,
   "metadata": {},
   "outputs": [],
   "source": [
    "# find location of frozenset({Y @ -X, X})\n",
    "component_index = C_components.index(frozenset({Y @ -X, X}))\n",
    "# get the new_event. This is done by finding the markov pillow of the desired C component, frozenset({Y @ -X, X})\n",
    "markov_pillow_event = get_events_of_district(cf_graph, C_components[component_index], new_event)"
   ]
  },
  {
   "cell_type": "markdown",
   "metadata": {},
   "source": [
    "### C-component {Y @ -X, X}, Lines 1-3\n",
    "As we go through the new call, **ID***$(G,{Y @ (-W, -Z): -Y, X @ (-W, -Z): +X})$ ,we repeat lines that we've seen before, but this time with a new event.\n",
    "Since the event is not empty, does not violate the axiom of effectiveness, and contains no tautology, lines 1-3 will have not changes to the graph or event"
   ]
  },
  {
   "cell_type": "code",
   "execution_count": 13,
   "metadata": {},
   "outputs": [
    {
     "name": "stdout",
     "output_type": "stream",
     "text": [
      "Passed ID* line 1\n",
      "Passed ID* line 2\n",
      "Passed ID* line 3\n"
     ]
    }
   ],
   "source": [
    "assert markov_pillow_event is not None, \"ID* line 1 failed, return One()\"\n",
    "print(\"Passed ID* line 1\")\n",
    "\n",
    "# Line 2: This violates the Axiom of Effectiveness\n",
    "assert not violates_axiom_of_effectiveness(markov_pillow_event), \"ID* line 2 failed, return Zero()\"\n",
    "print(\"Passed ID* line 2\")\n",
    "\n",
    "# Line 3: This is a tautological event and can be removed without affecting the probability\n",
    "reduced_event = remove_event_tautologies(markov_pillow_event)\n",
    "if reduced_event == markov_pillow_event:\n",
    "    print(\"Passed ID* line 3\")\n",
    "else:\n",
    "    print(\"Reduction occurs on ID* line 3\")"
   ]
  },
  {
   "cell_type": "markdown",
   "metadata": {},
   "source": [
    "### C-component {Y @ -X, X}, Lines 4-5\n",
    "Lines 4 and 5 are pertain to the creation of the counterfactual graph and verifying that **make_counterfactual_graph** did not return **INCONSISTENT**. It is important to acknowledge that the outcomes produced by **make_counterfactual_graph** differ from our initial traversal of **ID*** because the counterfactual graph is dependent on the event."
   ]
  },
  {
   "cell_type": "code",
   "execution_count": 14,
   "metadata": {},
   "outputs": [
    {
     "name": "stdout",
     "output_type": "stream",
     "text": [
      "Passed ID* line 5\n"
     ]
    },
    {
     "data": {
      "image/svg+xml": [
       "<?xml version=\"1.0\" encoding=\"utf-8\" standalone=\"no\"?>\n",
       "<!DOCTYPE svg PUBLIC \"-//W3C//DTD SVG 1.1//EN\"\n",
       "  \"http://www.w3.org/Graphics/SVG/1.1/DTD/svg11.dtd\">\n",
       "<svg xmlns:xlink=\"http://www.w3.org/1999/xlink\" width=\"371.52pt\" height=\"280.512pt\" viewBox=\"0 0 371.52 280.512\" xmlns=\"http://www.w3.org/2000/svg\" version=\"1.1\">\n",
       " <metadata>\n",
       "  <rdf:RDF xmlns:dc=\"http://purl.org/dc/elements/1.1/\" xmlns:cc=\"http://creativecommons.org/ns#\" xmlns:rdf=\"http://www.w3.org/1999/02/22-rdf-syntax-ns#\">\n",
       "   <cc:Work>\n",
       "    <dc:type rdf:resource=\"http://purl.org/dc/dcmitype/StillImage\"/>\n",
       "    <dc:date>2023-06-28T11:56:54.964502</dc:date>\n",
       "    <dc:format>image/svg+xml</dc:format>\n",
       "    <dc:creator>\n",
       "     <cc:Agent>\n",
       "      <dc:title>Matplotlib v3.7.1, https://matplotlib.org/</dc:title>\n",
       "     </cc:Agent>\n",
       "    </dc:creator>\n",
       "   </cc:Work>\n",
       "  </rdf:RDF>\n",
       " </metadata>\n",
       " <defs>\n",
       "  <style type=\"text/css\">*{stroke-linejoin: round; stroke-linecap: butt}</style>\n",
       " </defs>\n",
       " <g id=\"figure_1\">\n",
       "  <g id=\"patch_1\">\n",
       "   <path d=\"M 0 280.512 \n",
       "L 371.52 280.512 \n",
       "L 371.52 0 \n",
       "L 0 0 \n",
       "z\n",
       "\" style=\"fill: #ffffff\"/>\n",
       "  </g>\n",
       "  <g id=\"axes_1\">\n",
       "   <g id=\"patch_2\">\n",
       "    <path d=\"M 102.235242 202.495417 \n",
       "Q 185.759031 140.256722 267.48981 79.354109 \n",
       "\" clip-path=\"url(#p807f76e311)\" style=\"fill: none; stroke: #000000; stroke-width: 2; stroke-linecap: round\"/>\n",
       "    <path d=\"M 258.684887 80.926786 \n",
       "L 267.48981 79.354109 \n",
       "L 263.464998 87.341655 \n",
       "z\n",
       "\" clip-path=\"url(#p807f76e311)\" style=\"stroke: #000000; stroke-width: 2; stroke-linecap: round\"/>\n",
       "   </g>\n",
       "   <g id=\"patch_3\">\n",
       "    <path d=\"M 107.635861 64.656 \n",
       "Q 186.244008 64.656 262.616087 64.656 \n",
       "\" clip-path=\"url(#p807f76e311)\" style=\"fill: none; stroke: #000000; stroke-width: 2; stroke-linecap: round\"/>\n",
       "    <path d=\"M 254.616087 60.656 \n",
       "L 262.616087 64.656 \n",
       "L 254.616087 68.656 \n",
       "z\n",
       "\" clip-path=\"url(#p807f76e311)\" style=\"stroke: #000000; stroke-width: 2; stroke-linecap: round\"/>\n",
       "   </g>\n",
       "   <g id=\"patch_4\">\n",
       "    <path d=\"M 276.921556 84.50896 \n",
       "Q 252.360532 140.336941 277.173859 196.054177 \n",
       "\" clip-path=\"url(#p807f76e311)\" style=\"fill: none; stroke-dasharray: 2,3.3; stroke-dashoffset: 0; stroke: #808080; stroke-width: 2; stroke-linecap: round\"/>\n",
       "   </g>\n",
       "   <g id=\"PathCollection_1\">\n",
       "    <defs>\n",
       "     <path id=\"mf3aa5abe17\" d=\"M 0 19.364917 \n",
       "C 5.135636 19.364917 10.061621 17.324507 13.693064 13.693064 \n",
       "C 17.324507 10.061621 19.364917 5.135636 19.364917 0 \n",
       "C 19.364917 -5.135636 17.324507 -10.061621 13.693064 -13.693064 \n",
       "C 10.061621 -17.324507 5.135636 -19.364917 0 -19.364917 \n",
       "C -5.135636 -19.364917 -10.061621 -17.324507 -13.693064 -13.693064 \n",
       "C -17.324507 -10.061621 -19.364917 -5.135636 -19.364917 0 \n",
       "C -19.364917 5.135636 -17.324507 10.061621 -13.693064 13.693064 \n",
       "C -10.061621 17.324507 -5.135636 19.364917 0 19.364917 \n",
       "z\n",
       "\" style=\"stroke: #000000; stroke-width: 2\"/>\n",
       "    </defs>\n",
       "    <g clip-path=\"url(#p807f76e311)\">\n",
       "     <use xlink:href=\"#mf3aa5abe17\" x=\"84.305455\" y=\"215.856\" style=\"fill: #ffffff; stroke: #000000; stroke-width: 2\"/>\n",
       "     <use xlink:href=\"#mf3aa5abe17\" x=\"287.214545\" y=\"64.656\" style=\"fill: #ffffff; stroke: #000000; stroke-width: 2\"/>\n",
       "     <use xlink:href=\"#mf3aa5abe17\" x=\"287.553683\" y=\"215.856\" style=\"fill: #ffffff; stroke: #000000; stroke-width: 2\"/>\n",
       "     <use xlink:href=\"#mf3aa5abe17\" x=\"85.274418\" y=\"64.656\" style=\"fill: #ffffff; stroke: #000000; stroke-width: 2\"/>\n",
       "    </g>\n",
       "   </g>\n",
       "   <g id=\"text_1\">\n",
       "    <g clip-path=\"url(#p807f76e311)\">\n",
       "     <!-- ${Z}_{W, Z}$ -->\n",
       "     <g transform=\"translate(61.805455 220.656) scale(0.2 -0.2)\">\n",
       "      <defs>\n",
       "       <path id=\"DejaVuSans-Oblique-5a\" d=\"M 838 4666 \n",
       "L 4500 4666 \n",
       "L 4409 4184 \n",
       "L 794 531 \n",
       "L 3769 531 \n",
       "L 3669 0 \n",
       "L -141 0 \n",
       "L -50 481 \n",
       "L 3566 4134 \n",
       "L 738 4134 \n",
       "L 838 4666 \n",
       "z\n",
       "\" transform=\"scale(0.015625)\"/>\n",
       "       <path id=\"DejaVuSans-Oblique-57\" d=\"M 616 4666 \n",
       "L 1228 4666 \n",
       "L 1453 697 \n",
       "L 3213 4666 \n",
       "L 3916 4666 \n",
       "L 4147 697 \n",
       "L 5888 4666 \n",
       "L 6528 4666 \n",
       "L 4453 0 \n",
       "L 3659 0 \n",
       "L 3444 3891 \n",
       "L 1697 0 \n",
       "L 903 0 \n",
       "L 616 4666 \n",
       "z\n",
       "\" transform=\"scale(0.015625)\"/>\n",
       "       <path id=\"DejaVuSans-2c\" d=\"M 750 794 \n",
       "L 1409 794 \n",
       "L 1409 256 \n",
       "L 897 -744 \n",
       "L 494 -744 \n",
       "L 750 256 \n",
       "L 750 794 \n",
       "z\n",
       "\" transform=\"scale(0.015625)\"/>\n",
       "      </defs>\n",
       "      <use xlink:href=\"#DejaVuSans-Oblique-5a\" transform=\"translate(0 0.09375)\"/>\n",
       "      <use xlink:href=\"#DejaVuSans-Oblique-57\" transform=\"translate(68.505859 -16.3125) scale(0.7)\"/>\n",
       "      <use xlink:href=\"#DejaVuSans-2c\" transform=\"translate(137.719727 -16.3125) scale(0.7)\"/>\n",
       "      <use xlink:href=\"#DejaVuSans-Oblique-5a\" transform=\"translate(173.608398 -16.3125) scale(0.7)\"/>\n",
       "     </g>\n",
       "    </g>\n",
       "   </g>\n",
       "   <g id=\"text_2\">\n",
       "    <g clip-path=\"url(#p807f76e311)\">\n",
       "     <!-- ${Y}_{W, Z}$ -->\n",
       "     <g transform=\"translate(265.514545 69.456) scale(0.2 -0.2)\">\n",
       "      <defs>\n",
       "       <path id=\"DejaVuSans-Oblique-59\" d=\"M 403 4666 \n",
       "L 1081 4666 \n",
       "L 1953 2747 \n",
       "L 3616 4666 \n",
       "L 4325 4666 \n",
       "L 2209 2222 \n",
       "L 1778 0 \n",
       "L 1147 0 \n",
       "L 1575 2222 \n",
       "L 403 4666 \n",
       "z\n",
       "\" transform=\"scale(0.015625)\"/>\n",
       "      </defs>\n",
       "      <use xlink:href=\"#DejaVuSans-Oblique-59\" transform=\"translate(0 0.09375)\"/>\n",
       "      <use xlink:href=\"#DejaVuSans-Oblique-57\" transform=\"translate(61.083984 -16.3125) scale(0.7)\"/>\n",
       "      <use xlink:href=\"#DejaVuSans-2c\" transform=\"translate(130.297852 -16.3125) scale(0.7)\"/>\n",
       "      <use xlink:href=\"#DejaVuSans-Oblique-5a\" transform=\"translate(166.186523 -16.3125) scale(0.7)\"/>\n",
       "     </g>\n",
       "    </g>\n",
       "   </g>\n",
       "   <g id=\"text_3\">\n",
       "    <g clip-path=\"url(#p807f76e311)\">\n",
       "     <!-- $X$ -->\n",
       "     <g transform=\"translate(280.653683 221.37475) scale(0.2 -0.2)\">\n",
       "      <defs>\n",
       "       <path id=\"DejaVuSans-Oblique-58\" d=\"M 878 4666 \n",
       "L 1516 4666 \n",
       "L 2316 2981 \n",
       "L 3763 4666 \n",
       "L 4500 4666 \n",
       "L 2578 2438 \n",
       "L 3738 0 \n",
       "L 3103 0 \n",
       "L 2163 1966 \n",
       "L 459 0 \n",
       "L -275 0 \n",
       "L 1906 2509 \n",
       "L 878 4666 \n",
       "z\n",
       "\" transform=\"scale(0.015625)\"/>\n",
       "      </defs>\n",
       "      <use xlink:href=\"#DejaVuSans-Oblique-58\" transform=\"translate(0 0.09375)\"/>\n",
       "     </g>\n",
       "    </g>\n",
       "   </g>\n",
       "   <g id=\"text_4\">\n",
       "    <g clip-path=\"url(#p807f76e311)\">\n",
       "     <!-- ${W}_{W, Z}$ -->\n",
       "     <g transform=\"translate(59.774418 69.456) scale(0.2 -0.2)\">\n",
       "      <use xlink:href=\"#DejaVuSans-Oblique-57\" transform=\"translate(0 0.09375)\"/>\n",
       "      <use xlink:href=\"#DejaVuSans-Oblique-57\" transform=\"translate(98.876953 -16.3125) scale(0.7)\"/>\n",
       "      <use xlink:href=\"#DejaVuSans-2c\" transform=\"translate(168.09082 -16.3125) scale(0.7)\"/>\n",
       "      <use xlink:href=\"#DejaVuSans-Oblique-5a\" transform=\"translate(203.979492 -16.3125) scale(0.7)\"/>\n",
       "     </g>\n",
       "    </g>\n",
       "   </g>\n",
       "  </g>\n",
       " </g>\n",
       " <defs>\n",
       "  <clipPath id=\"p807f76e311\">\n",
       "   <rect x=\"7.2\" y=\"7.2\" width=\"357.12\" height=\"266.112\"/>\n",
       "  </clipPath>\n",
       " </defs>\n",
       "</svg>\n"
      ],
      "text/plain": [
       "<Figure size 640x480 with 1 Axes>"
      ]
     },
     "metadata": {},
     "output_type": "display_data"
    }
   ],
   "source": [
    "# Creation of a counterfactual graph\n",
    "recursive_cf_graph, recursive_new_event = make_counterfactual_graph(\n",
    "    figure_9a.graph, markov_pillow_event\n",
    ")\n",
    "\n",
    "assert recursive_new_event is not None, \"ID* line 5 failed, return Zero()\"\n",
    "print(\"Passed ID* line 5\")\n",
    "\n",
    "recursive_cf_graph.draw()"
   ]
  },
  {
   "cell_type": "markdown",
   "metadata": {},
   "source": [
    "### C-component {Y @ -X, X}, line 6\n",
    "When we calculate the C-components for the recursive_cf_graph we omit the nodes W @ {W,Z} and Z @ {W,Z} for being self-intervened nodes. This leaves only one C-component, so line is not triggered and we move to line 7."
   ]
  },
  {
   "cell_type": "code",
   "execution_count": 15,
   "metadata": {},
   "outputs": [
    {
     "name": "stdout",
     "output_type": "stream",
     "text": [
      "Only 1 c-component, move past line 6\n"
     ]
    }
   ],
   "source": [
    "nodes = set(node for node in recursive_cf_graph.nodes() if is_not_self_intervened(node))\n",
    "if recursive_cf_graph.subgraph(nodes).is_connected():\n",
    "    print(\"Only 1 c-component, move past line 6\")"
   ]
  },
  {
   "cell_type": "markdown",
   "metadata": {},
   "source": [
    "### C-component {Y @ -X, X}, line 8\n",
    "When there is only one C-component we first check for another kind of inconsistency in the event. "
   ]
  },
  {
   "cell_type": "code",
   "execution_count": 16,
   "metadata": {},
   "outputs": [
    {
     "name": "stdout",
     "output_type": "stream",
     "text": [
      "Passed ID* line 8\n"
     ]
    }
   ],
   "source": [
    "# Here is line 8.  We check for inconsistencies in the subscripts\n",
    "interventions = get_cf_interventions(recursive_cf_graph.nodes())\n",
    "evidence = get_evidence(recursive_new_event)\n",
    "conflicts = [\n",
    "    (intervention, ev)\n",
    "    for intervention, ev in itt.product(interventions, evidence)\n",
    "    if intervention.name == ev.name and intervention.star != ev.star\n",
    "]\n",
    "assert len(conflicts) == 0, \"ID* line 8 found inconsistencies, return Unidentifiable\"\n",
    "print(\"Passed ID* line 8\")"
   ]
  },
  {
   "cell_type": "markdown",
   "metadata": {},
   "source": [
    "### C-component {Y @ -X, X}, line 9\n",
    "If there is no inconsistency on line 8 we return the probability for this C-component on line 9."
   ]
  },
  {
   "cell_type": "code",
   "execution_count": 17,
   "metadata": {},
   "outputs": [
    {
     "name": "stdout",
     "output_type": "stream",
     "text": [
      "Probability returned:  P(X @ (-W, -Z), Y @ (-W, -Z))\n"
     ]
    }
   ],
   "source": [
    "# We have reached line 9, return the probability.\n",
    "print(\n",
    "    \"Probability returned: \",\n",
    "    P[get_cf_interventions(recursive_cf_graph.subgraph(nodes))](node.get_base() for node in nodes),\n",
    ")"
   ]
  },
  {
   "cell_type": "markdown",
   "metadata": {},
   "source": [
    "## Probability Results for each C-component\n",
    "Here are the probabilities for each C-component. Although we only showed the steps for one C-component the others are straightforward to follow in a similar manner"
   ]
  },
  {
   "cell_type": "code",
   "execution_count": 18,
   "metadata": {},
   "outputs": [
    {
     "name": "stdout",
     "output_type": "stream",
     "text": [
      "Probability returned for ID* frozenset({Z})         :  P(W @ -X)\n",
      "Probability returned for ID* frozenset({X, Y @ -X}) :  P(X @ (-W, -Z), Y @ (-W, -Z))\n",
      "Probability returned for ID* frozenset({D})         :  P(D)\n",
      "Probability returned for ID* frozenset({W @ -X})    :  P(Z @ -D)\n"
     ]
    }
   ],
   "source": [
    "# Previous computed probabilities retunred for each C_component\n",
    "probabilities = [P(W @ -X), P(X @ (-W, -Z), Y @ (-W, -Z)), P(D), P(Z @ -D)]\n",
    "for i, c_component in enumerate(C_components):\n",
    "    print(f\"Probability returned for ID* {str(c_component):{23}}: \", probabilities[i])"
   ]
  },
  {
   "cell_type": "markdown",
   "metadata": {},
   "source": [
    "## Putting it all together after recursion, Back to line 6\n",
    "Having finished the four recursive calls to **ID*** performed on line 6, we return to line 6 to perform the final operations.\n",
    "\n",
    "First we need the summand, we will sum over all the variables which are in the graph but not in the event. Our event on line 6 is {Y @ -X: -Y, X: +X, Z @ -D: -Z, D: -D}, which leaves W as the only variable in the summand.\n",
    "\n",
    "Second we need the product of the probabilities returned from our recursive **ID*** calls.\n"
   ]
  },
  {
   "cell_type": "code",
   "execution_count": 19,
   "metadata": {},
   "outputs": [],
   "source": [
    "summand = get_free_variables(cf_graph, input_event)\n",
    "# Combine the summand with the product of the probabilities\n",
    "walkthrough_result = Sum.safe(Product.safe(probabilities), summand)\n",
    "walkthrough_result = canonicalize(walkthrough_result)"
   ]
  },
  {
   "cell_type": "markdown",
   "metadata": {},
   "source": [
    "## Final Checkpoint\n",
    "We will perform a check to make sure our id_star implementation is equal to the expected result in (I. Shpitser, J. Pearl 2008)"
   ]
  },
  {
   "cell_type": "code",
   "execution_count": 20,
   "metadata": {},
   "outputs": [
    {
     "name": "stdout",
     "output_type": "stream",
     "text": [
      "id_star implementation is equal to the result from (I. Shpitser, J. Pearl 2008)\n"
     ]
    }
   ],
   "source": [
    "# standardize the walkthrough result\n",
    "walkthrough_result = canonicalize(walkthrough_result)\n",
    "# get the result from actually running id_star on the example\n",
    "algorithm_result = canonicalize(id_star(figure_9a.graph, input_event))\n",
    "\n",
    "# get the result from (I. Shpitser, J. Pearl 2008)\n",
    "expected = Sum[W](P(Y @ (-z, -w), X @ (-z, -w)) * P(Z @ -d) * P(W @ -x) * P(D))\n",
    "expected = canonicalize(expected)\n",
    "\n",
    "\n",
    "assert (\n",
    "    expected == algorithm_result == walkthrough_result\n",
    "), \"expected was not equal to the result in (I. Shpitser, J. Pearl 2008)\"\n",
    "print(\"id_star implementation is equal to the result from (I. Shpitser, J. Pearl 2008)\")"
   ]
  },
  {
   "cell_type": "markdown",
   "metadata": {},
   "source": [
    "# IDC* Algorithm\n",
    "\n",
    "The **IDC*** algorithm, like its counterpart **IDC**, is shorter because it leverages the **ID*** algorithm. \n",
    "\n",
    "\n",
    "The first line fails if $\\gamma$ is inconsistent. **IDC** did not have an equivalent line, since we can assume $P(\\mathbf{v})$ is positive. The problem with counterfactual distributions is there is no simple way to prevent non-positive distributions spanning multiple worlds from arising, even if the original P(v) was positive—hence the explicit check. \n",
    "\n",
    "1. if $\\mathbf{{ID}^*}(G,\\delta)=0$, return **UNDEFINED**\n",
    "\n",
    "The second line constructs the counterfactual graph, except since make-cg can only take conjunctions, we provide it with a joint counterfactual γ ^ δ. \n",
    "\n",
    "2. $(G',\\gamma'\\wedge\\delta')=\\mathbf{make-cg}(G,\\gamma\\wedge\\delta)$\n",
    "\n",
    "Line 3 returns 0 if an inconsistency was detected. \n",
    "\n",
    "3. if $\\gamma'\\wedge\\delta' =$  **INCONSISTENT**, return $0$\n",
    "\n",
    "\n",
    "Line 4 of **IDC*** is the central line of the algorithm and is analogous to line 1 of **IDC**. In **IDC**, we moved value assignment $Z = z$ from being observed to being fixed if there were no back-door paths from $Z$ to the outcome variables $\\mathbf{Y}$ given the context of the effect of $do(\\mathbf{x})$. Here in **IDC***, we move a counterfactual value assignment $Y_\\mathbf{x} = y$ from being observed (that is being a part of $\\delta$), to being fixed (that is appearing in every subscript of $\\gamma'$) if there are no back-door paths from $Y_\\mathbf{x}$ to the counterfactual of interest $\\gamma'$.\n",
    "\n",
    "$$\\newcommand\\ci{\\perp\\!\\!\\!\\perp}$$\n",
    "$$\\newcommand{\\ubar}[1]{\\underset{\\bar{}}{#1}}\n",
    "\\newcommand{\\obar}[1]{\\overset{\\bar{}}{#1}}$$\n",
    "\n",
    "4. if $(\\exists y_\\mathbf{x}\\in\\delta')$ s.t. $(Y_\\mathbf{x} \\ci \\gamma')_{G'_{\\ubar{y_\\mathbf{x}}}}$, return $\\mathbf{IDC^*}(G, \\gamma'_{y_\\mathbf{X}},\\delta'\\backslash\\{y_{\\mathbf{X}}\\})$\n",
    "\n",
    "Finally, line 5 of **IDC*** is the analogue of line 2 of **IDC**, we attempt to identify a joint counterfactual probability, and then obtain a conditional counterfactual probability from the result.\n",
    "\n",
    "5. else, let $P'=\\mathbf{ID^*}(G,\\gamma'\\wedge\\delta')$. return $\\frac{P'}{P'(\\delta)}$"
   ]
  },
  {
   "cell_type": "code",
   "execution_count": 21,
   "metadata": {},
   "outputs": [],
   "source": [
    "# Imports needed for idc_star walkthrough\n",
    "from y0.algorithm.identify.idc_star import (\n",
    "    idc_star,\n",
    "    get_remaining_and_missing_events,\n",
    "    get_new_outcomes_and_conditions,\n",
    "    cf_rule_2_of_do_calculus_applies,\n",
    ")\n",
    "from y0.examples import tikka_figure_2\n",
    "from y0.algorithm.identify.utils import Unidentifiable\n",
    "from y0.algorithm.identify.cg import make_counterfactual_graph"
   ]
  },
  {
   "cell_type": "markdown",
   "metadata": {},
   "source": [
    "# Walkthrough of the IDC* Algorithm\n",
    "Now we will do a walkthrough an example using the **IDC*** algorithm. We will use a different graph than we did for **ID*** , here following an example from (S. Tikka 2022). "
   ]
  },
  {
   "cell_type": "code",
   "execution_count": 22,
   "metadata": {},
   "outputs": [
    {
     "data": {
      "image/svg+xml": [
       "<?xml version=\"1.0\" encoding=\"utf-8\" standalone=\"no\"?>\n",
       "<!DOCTYPE svg PUBLIC \"-//W3C//DTD SVG 1.1//EN\"\n",
       "  \"http://www.w3.org/Graphics/SVG/1.1/DTD/svg11.dtd\">\n",
       "<svg xmlns:xlink=\"http://www.w3.org/1999/xlink\" width=\"371.52pt\" height=\"280.512pt\" viewBox=\"0 0 371.52 280.512\" xmlns=\"http://www.w3.org/2000/svg\" version=\"1.1\">\n",
       " <metadata>\n",
       "  <rdf:RDF xmlns:dc=\"http://purl.org/dc/elements/1.1/\" xmlns:cc=\"http://creativecommons.org/ns#\" xmlns:rdf=\"http://www.w3.org/1999/02/22-rdf-syntax-ns#\">\n",
       "   <cc:Work>\n",
       "    <dc:type rdf:resource=\"http://purl.org/dc/dcmitype/StillImage\"/>\n",
       "    <dc:date>2023-06-28T11:56:55.916790</dc:date>\n",
       "    <dc:format>image/svg+xml</dc:format>\n",
       "    <dc:creator>\n",
       "     <cc:Agent>\n",
       "      <dc:title>Matplotlib v3.7.1, https://matplotlib.org/</dc:title>\n",
       "     </cc:Agent>\n",
       "    </dc:creator>\n",
       "   </cc:Work>\n",
       "  </rdf:RDF>\n",
       " </metadata>\n",
       " <defs>\n",
       "  <style type=\"text/css\">*{stroke-linejoin: round; stroke-linecap: butt}</style>\n",
       " </defs>\n",
       " <g id=\"figure_1\">\n",
       "  <g id=\"patch_1\">\n",
       "   <path d=\"M 0 280.512 \n",
       "L 371.52 280.512 \n",
       "L 371.52 0 \n",
       "L 0 0 \n",
       "z\n",
       "\" style=\"fill: #ffffff\"/>\n",
       "  </g>\n",
       "  <g id=\"axes_1\">\n",
       "   <g id=\"patch_2\">\n",
       "    <path d=\"M 84.305455 193.499921 \n",
       "Q 84.305455 140.258615 84.305455 89.253377 \n",
       "\" clip-path=\"url(#p80316cc4b6)\" style=\"fill: none; stroke: #000000; stroke-width: 2; stroke-linecap: round\"/>\n",
       "    <path d=\"M 80.305455 97.253377 \n",
       "L 84.305455 89.253377 \n",
       "L 88.305455 97.253377 \n",
       "z\n",
       "\" clip-path=\"url(#p80316cc4b6)\" style=\"stroke: #000000; stroke-width: 2; stroke-linecap: round\"/>\n",
       "   </g>\n",
       "   <g id=\"patch_3\">\n",
       "    <path d=\"M 102.235242 202.495417 \n",
       "Q 185.759031 140.256722 267.48981 79.354109 \n",
       "\" clip-path=\"url(#p80316cc4b6)\" style=\"fill: none; stroke: #000000; stroke-width: 2; stroke-linecap: round\"/>\n",
       "    <path d=\"M 258.684887 80.926786 \n",
       "L 267.48981 79.354109 \n",
       "L 263.464998 87.341655 \n",
       "z\n",
       "\" clip-path=\"url(#p80316cc4b6)\" style=\"stroke: #000000; stroke-width: 2; stroke-linecap: round\"/>\n",
       "   </g>\n",
       "   <g id=\"patch_4\">\n",
       "    <path d=\"M 106.668924 64.656 \n",
       "Q 185.760943 64.656 262.616893 64.656 \n",
       "\" clip-path=\"url(#p80316cc4b6)\" style=\"fill: none; stroke: #000000; stroke-width: 2; stroke-linecap: round\"/>\n",
       "    <path d=\"M 254.616893 60.656 \n",
       "L 262.616893 64.656 \n",
       "L 254.616893 68.656 \n",
       "z\n",
       "\" clip-path=\"url(#p80316cc4b6)\" style=\"stroke: #000000; stroke-width: 2; stroke-linecap: round\"/>\n",
       "   </g>\n",
       "   <g id=\"patch_5\">\n",
       "    <path d=\"M 94.642922 196.026227 \n",
       "Q 119.329042 140.253616 94.640812 84.481005 \n",
       "\" clip-path=\"url(#p80316cc4b6)\" style=\"fill: none; stroke-dasharray: 2,3.3; stroke-dashoffset: 0; stroke: #808080; stroke-width: 2; stroke-linecap: round\"/>\n",
       "   </g>\n",
       "   <g id=\"PathCollection_1\">\n",
       "    <defs>\n",
       "     <path id=\"md2f88867aa\" d=\"M 0 19.364917 \n",
       "C 5.135636 19.364917 10.061621 17.324507 13.693064 13.693064 \n",
       "C 17.324507 10.061621 19.364917 5.135636 19.364917 0 \n",
       "C 19.364917 -5.135636 17.324507 -10.061621 13.693064 -13.693064 \n",
       "C 10.061621 -17.324507 5.135636 -19.364917 0 -19.364917 \n",
       "C -5.135636 -19.364917 -10.061621 -17.324507 -13.693064 -13.693064 \n",
       "C -17.324507 -10.061621 -19.364917 -5.135636 -19.364917 0 \n",
       "C -19.364917 5.135636 -17.324507 10.061621 -13.693064 13.693064 \n",
       "C -10.061621 17.324507 -5.135636 19.364917 0 19.364917 \n",
       "z\n",
       "\" style=\"stroke: #000000; stroke-width: 2\"/>\n",
       "    </defs>\n",
       "    <g clip-path=\"url(#p80316cc4b6)\">\n",
       "     <use xlink:href=\"#md2f88867aa\" x=\"84.305455\" y=\"215.856\" style=\"fill: #ffffff; stroke: #000000; stroke-width: 2\"/>\n",
       "     <use xlink:href=\"#md2f88867aa\" x=\"84.305455\" y=\"64.656\" style=\"fill: #ffffff; stroke: #000000; stroke-width: 2\"/>\n",
       "     <use xlink:href=\"#md2f88867aa\" x=\"287.214545\" y=\"64.656\" style=\"fill: #ffffff; stroke: #000000; stroke-width: 2\"/>\n",
       "    </g>\n",
       "   </g>\n",
       "   <g id=\"text_1\">\n",
       "    <g clip-path=\"url(#p80316cc4b6)\">\n",
       "     <!-- $X$ -->\n",
       "     <g transform=\"translate(77.405455 221.37475) scale(0.2 -0.2)\">\n",
       "      <defs>\n",
       "       <path id=\"DejaVuSans-Oblique-58\" d=\"M 878 4666 \n",
       "L 1516 4666 \n",
       "L 2316 2981 \n",
       "L 3763 4666 \n",
       "L 4500 4666 \n",
       "L 2578 2438 \n",
       "L 3738 0 \n",
       "L 3103 0 \n",
       "L 2163 1966 \n",
       "L 459 0 \n",
       "L -275 0 \n",
       "L 1906 2509 \n",
       "L 878 4666 \n",
       "z\n",
       "\" transform=\"scale(0.015625)\"/>\n",
       "      </defs>\n",
       "      <use xlink:href=\"#DejaVuSans-Oblique-58\" transform=\"translate(0 0.09375)\"/>\n",
       "     </g>\n",
       "    </g>\n",
       "   </g>\n",
       "   <g id=\"text_2\">\n",
       "    <g clip-path=\"url(#p80316cc4b6)\">\n",
       "     <!-- $Z$ -->\n",
       "     <g transform=\"translate(77.405455 70.17475) scale(0.2 -0.2)\">\n",
       "      <defs>\n",
       "       <path id=\"DejaVuSans-Oblique-5a\" d=\"M 838 4666 \n",
       "L 4500 4666 \n",
       "L 4409 4184 \n",
       "L 794 531 \n",
       "L 3769 531 \n",
       "L 3669 0 \n",
       "L -141 0 \n",
       "L -50 481 \n",
       "L 3566 4134 \n",
       "L 738 4134 \n",
       "L 838 4666 \n",
       "z\n",
       "\" transform=\"scale(0.015625)\"/>\n",
       "      </defs>\n",
       "      <use xlink:href=\"#DejaVuSans-Oblique-5a\" transform=\"translate(0 0.09375)\"/>\n",
       "     </g>\n",
       "    </g>\n",
       "   </g>\n",
       "   <g id=\"text_3\">\n",
       "    <g clip-path=\"url(#p80316cc4b6)\">\n",
       "     <!-- $Y$ -->\n",
       "     <g transform=\"translate(281.014545 70.17475) scale(0.2 -0.2)\">\n",
       "      <defs>\n",
       "       <path id=\"DejaVuSans-Oblique-59\" d=\"M 403 4666 \n",
       "L 1081 4666 \n",
       "L 1953 2747 \n",
       "L 3616 4666 \n",
       "L 4325 4666 \n",
       "L 2209 2222 \n",
       "L 1778 0 \n",
       "L 1147 0 \n",
       "L 1575 2222 \n",
       "L 403 4666 \n",
       "z\n",
       "\" transform=\"scale(0.015625)\"/>\n",
       "      </defs>\n",
       "      <use xlink:href=\"#DejaVuSans-Oblique-59\" transform=\"translate(0 0.09375)\"/>\n",
       "     </g>\n",
       "    </g>\n",
       "   </g>\n",
       "  </g>\n",
       " </g>\n",
       " <defs>\n",
       "  <clipPath id=\"p80316cc4b6\">\n",
       "   <rect x=\"7.2\" y=\"7.2\" width=\"357.12\" height=\"266.112\"/>\n",
       "  </clipPath>\n",
       " </defs>\n",
       "</svg>\n"
      ],
      "text/plain": [
       "<Figure size 640x480 with 1 Axes>"
      ]
     },
     "metadata": {},
     "output_type": "display_data"
    }
   ],
   "source": [
    "input_graph = tikka_figure_2.graph\n",
    "input_graph.draw()"
   ]
  },
  {
   "cell_type": "code",
   "execution_count": 23,
   "metadata": {},
   "outputs": [],
   "source": [
    "input_outcome = {Y @ -x: -y}\n",
    "input_condition = {X: +x, Z @ -x: -z}"
   ]
  },
  {
   "cell_type": "markdown",
   "metadata": {},
   "source": [
    "# IDC* line 1\n",
    "The first line of **IDC*** checks that the **ID*** algorithm with the input graph and input condition will not return 0. It is ok if **ID*** is unidentifiable as long as it does not return 0 for being inconsistent on line 2 or line 5.\n"
   ]
  },
  {
   "cell_type": "code",
   "execution_count": 24,
   "metadata": {},
   "outputs": [
    {
     "name": "stdout",
     "output_type": "stream",
     "text": [
      "line 1 IDC* algorithm: ID* algorithm is not identifiable, but is also not inconsistent.\n"
     ]
    }
   ],
   "source": [
    "try:\n",
    "    if isinstance(id_star(input_graph, input_condition), Zero):\n",
    "        raise ValueError(\"The ID* algorithm returned 0, so IDC* cannot be applied.\")\n",
    "    else:\n",
    "        print(\"line 1 IDC* algorithm: ID* algorithm is not inconsistent.\")\n",
    "\n",
    "except Unidentifiable:\n",
    "    print(\"line 1 IDC* algorithm: ID* algorithm is not identifiable, but is also not inconsistent.\")"
   ]
  },
  {
   "cell_type": "markdown",
   "metadata": {},
   "source": [
    "# IDC* line 2\n",
    "The second line of IDC* creates a counterfactual graph. Because **make_counterfactual_graph** doesn't consider outcome separate from condition, these are combined for the creation of the counterfactual graph. The new event from **make_counterfactual_graph** is written $\\gamma'\\wedge\\delta'$ for **IDC*** . We note that this differs from the graph presented in (S. Tikka 2022) as they displayed the parallel worlds graph for the query and not the counterfactual which removes nodes that are not ancestors of the event."
   ]
  },
  {
   "cell_type": "code",
   "execution_count": 25,
   "metadata": {},
   "outputs": [
    {
     "data": {
      "image/svg+xml": [
       "<?xml version=\"1.0\" encoding=\"utf-8\" standalone=\"no\"?>\n",
       "<!DOCTYPE svg PUBLIC \"-//W3C//DTD SVG 1.1//EN\"\n",
       "  \"http://www.w3.org/Graphics/SVG/1.1/DTD/svg11.dtd\">\n",
       "<svg xmlns:xlink=\"http://www.w3.org/1999/xlink\" width=\"371.52pt\" height=\"280.512pt\" viewBox=\"0 0 371.52 280.512\" xmlns=\"http://www.w3.org/2000/svg\" version=\"1.1\">\n",
       " <metadata>\n",
       "  <rdf:RDF xmlns:dc=\"http://purl.org/dc/elements/1.1/\" xmlns:cc=\"http://creativecommons.org/ns#\" xmlns:rdf=\"http://www.w3.org/1999/02/22-rdf-syntax-ns#\">\n",
       "   <cc:Work>\n",
       "    <dc:type rdf:resource=\"http://purl.org/dc/dcmitype/StillImage\"/>\n",
       "    <dc:date>2023-06-28T11:56:56.384294</dc:date>\n",
       "    <dc:format>image/svg+xml</dc:format>\n",
       "    <dc:creator>\n",
       "     <cc:Agent>\n",
       "      <dc:title>Matplotlib v3.7.1, https://matplotlib.org/</dc:title>\n",
       "     </cc:Agent>\n",
       "    </dc:creator>\n",
       "   </cc:Work>\n",
       "  </rdf:RDF>\n",
       " </metadata>\n",
       " <defs>\n",
       "  <style type=\"text/css\">*{stroke-linejoin: round; stroke-linecap: butt}</style>\n",
       " </defs>\n",
       " <g id=\"figure_1\">\n",
       "  <g id=\"patch_1\">\n",
       "   <path d=\"M 0 280.512 \n",
       "L 371.52 280.512 \n",
       "L 371.52 0 \n",
       "L 0 0 \n",
       "z\n",
       "\" style=\"fill: #ffffff\"/>\n",
       "  </g>\n",
       "  <g id=\"axes_1\">\n",
       "   <g id=\"patch_2\">\n",
       "    <path d=\"M 268.516914 76.013738 \n",
       "Q 185.758645 130.293616 104.87015 183.347139 \n",
       "\" clip-path=\"url(#p1847158858)\" style=\"fill: none; stroke: #000000; stroke-width: 2; stroke-linecap: round\"/>\n",
       "    <path d=\"M 113.753426 182.304348 \n",
       "L 104.87015 183.347139 \n",
       "L 109.365882 175.614844 \n",
       "z\n",
       "\" clip-path=\"url(#p1847158858)\" style=\"stroke: #000000; stroke-width: 2; stroke-linecap: round\"/>\n",
       "   </g>\n",
       "   <g id=\"patch_3\">\n",
       "    <path d=\"M 264.851134 63.750248 \n",
       "Q 186.12204 63.750248 109.629014 63.750248 \n",
       "\" clip-path=\"url(#p1847158858)\" style=\"fill: none; stroke: #000000; stroke-width: 2; stroke-linecap: round\"/>\n",
       "    <path d=\"M 117.629014 67.750248 \n",
       "L 109.629014 63.750248 \n",
       "L 117.629014 59.750248 \n",
       "z\n",
       "\" clip-path=\"url(#p1847158858)\" style=\"stroke: #000000; stroke-width: 2; stroke-linecap: round\"/>\n",
       "   </g>\n",
       "   <g id=\"patch_4\">\n",
       "    <path d=\"M 84.427809 174.477032 \n",
       "Q 84.669602 130.293436 84.899159 88.345875 \n",
       "\" clip-path=\"url(#p1847158858)\" style=\"fill: none; stroke: #000000; stroke-width: 2; stroke-linecap: round\"/>\n",
       "    <path d=\"M 80.85544 96.323866 \n",
       "L 84.899159 88.345875 \n",
       "L 88.85532 96.367645 \n",
       "z\n",
       "\" clip-path=\"url(#p1847158858)\" style=\"stroke: #000000; stroke-width: 2; stroke-linecap: round\"/>\n",
       "   </g>\n",
       "   <g id=\"patch_5\">\n",
       "    <path d=\"M 103.969252 207.48113 \n",
       "Q 184.969571 246.587613 265.96989 207.479967 \n",
       "\" clip-path=\"url(#p1847158858)\" style=\"fill: none; stroke-dasharray: 2,3.3; stroke-dashoffset: 0; stroke: #808080; stroke-width: 2; stroke-linecap: round\"/>\n",
       "   </g>\n",
       "   <g id=\"PathCollection_1\">\n",
       "    <defs>\n",
       "     <path id=\"m1e0d417cf8\" d=\"M 0 19.364917 \n",
       "C 5.135636 19.364917 10.061621 17.324507 13.693064 13.693064 \n",
       "C 17.324507 10.061621 19.364917 5.135636 19.364917 0 \n",
       "C 19.364917 -5.135636 17.324507 -10.061621 13.693064 -13.693064 \n",
       "C 10.061621 -17.324507 5.135636 -19.364917 0 -19.364917 \n",
       "C -5.135636 -19.364917 -10.061621 -17.324507 -13.693064 -13.693064 \n",
       "C -17.324507 -10.061621 -19.364917 -5.135636 -19.364917 0 \n",
       "C -19.364917 5.135636 -17.324507 10.061621 -13.693064 13.693064 \n",
       "C -10.061621 17.324507 -5.135636 19.364917 0 19.364917 \n",
       "z\n",
       "\" style=\"stroke: #000000; stroke-width: 2\"/>\n",
       "    </defs>\n",
       "    <g clip-path=\"url(#p1847158858)\">\n",
       "     <use xlink:href=\"#m1e0d417cf8\" x=\"287.214545\" y=\"63.750248\" style=\"fill: #ffffff; stroke: #000000; stroke-width: 2\"/>\n",
       "     <use xlink:href=\"#m1e0d417cf8\" x=\"84.305455\" y=\"196.835207\" style=\"fill: #ffffff; stroke: #000000; stroke-width: 2\"/>\n",
       "     <use xlink:href=\"#m1e0d417cf8\" x=\"85.033757\" y=\"63.750248\" style=\"fill: #ffffff; stroke: #000000; stroke-width: 2\"/>\n",
       "     <use xlink:href=\"#m1e0d417cf8\" x=\"285.631278\" y=\"196.835207\" style=\"fill: #ffffff; stroke: #000000; stroke-width: 2\"/>\n",
       "    </g>\n",
       "   </g>\n",
       "   <g id=\"text_1\">\n",
       "    <g clip-path=\"url(#p1847158858)\">\n",
       "     <!-- ${X}_{X}$ -->\n",
       "     <g transform=\"translate(275.214545 69.268998) scale(0.2 -0.2)\">\n",
       "      <defs>\n",
       "       <path id=\"DejaVuSans-Oblique-58\" d=\"M 878 4666 \n",
       "L 1516 4666 \n",
       "L 2316 2981 \n",
       "L 3763 4666 \n",
       "L 4500 4666 \n",
       "L 2578 2438 \n",
       "L 3738 0 \n",
       "L 3103 0 \n",
       "L 2163 1966 \n",
       "L 459 0 \n",
       "L -275 0 \n",
       "L 1906 2509 \n",
       "L 878 4666 \n",
       "z\n",
       "\" transform=\"scale(0.015625)\"/>\n",
       "      </defs>\n",
       "      <use xlink:href=\"#DejaVuSans-Oblique-58\" transform=\"translate(0 0.09375)\"/>\n",
       "      <use xlink:href=\"#DejaVuSans-Oblique-58\" transform=\"translate(68.505859 -16.3125) scale(0.7)\"/>\n",
       "     </g>\n",
       "    </g>\n",
       "   </g>\n",
       "   <g id=\"text_2\">\n",
       "    <g clip-path=\"url(#p1847158858)\">\n",
       "     <!-- ${Z}_{X}$ -->\n",
       "     <g transform=\"translate(72.305455 202.353957) scale(0.2 -0.2)\">\n",
       "      <defs>\n",
       "       <path id=\"DejaVuSans-Oblique-5a\" d=\"M 838 4666 \n",
       "L 4500 4666 \n",
       "L 4409 4184 \n",
       "L 794 531 \n",
       "L 3769 531 \n",
       "L 3669 0 \n",
       "L -141 0 \n",
       "L -50 481 \n",
       "L 3566 4134 \n",
       "L 738 4134 \n",
       "L 838 4666 \n",
       "z\n",
       "\" transform=\"scale(0.015625)\"/>\n",
       "      </defs>\n",
       "      <use xlink:href=\"#DejaVuSans-Oblique-5a\" transform=\"translate(0 0.09375)\"/>\n",
       "      <use xlink:href=\"#DejaVuSans-Oblique-58\" transform=\"translate(68.505859 -16.3125) scale(0.7)\"/>\n",
       "     </g>\n",
       "    </g>\n",
       "   </g>\n",
       "   <g id=\"text_3\">\n",
       "    <g clip-path=\"url(#p1847158858)\">\n",
       "     <!-- ${Y}_{X}$ -->\n",
       "     <g transform=\"translate(73.833757 69.268998) scale(0.2 -0.2)\">\n",
       "      <defs>\n",
       "       <path id=\"DejaVuSans-Oblique-59\" d=\"M 403 4666 \n",
       "L 1081 4666 \n",
       "L 1953 2747 \n",
       "L 3616 4666 \n",
       "L 4325 4666 \n",
       "L 2209 2222 \n",
       "L 1778 0 \n",
       "L 1147 0 \n",
       "L 1575 2222 \n",
       "L 403 4666 \n",
       "z\n",
       "\" transform=\"scale(0.015625)\"/>\n",
       "      </defs>\n",
       "      <use xlink:href=\"#DejaVuSans-Oblique-59\" transform=\"translate(0 0.09375)\"/>\n",
       "      <use xlink:href=\"#DejaVuSans-Oblique-58\" transform=\"translate(61.083984 -16.3125) scale(0.7)\"/>\n",
       "     </g>\n",
       "    </g>\n",
       "   </g>\n",
       "   <g id=\"text_4\">\n",
       "    <g clip-path=\"url(#p1847158858)\">\n",
       "     <!-- $X$ -->\n",
       "     <g transform=\"translate(278.731278 202.353957) scale(0.2 -0.2)\">\n",
       "      <use xlink:href=\"#DejaVuSans-Oblique-58\" transform=\"translate(0 0.09375)\"/>\n",
       "     </g>\n",
       "    </g>\n",
       "   </g>\n",
       "  </g>\n",
       " </g>\n",
       " <defs>\n",
       "  <clipPath id=\"p1847158858\">\n",
       "   <rect x=\"7.2\" y=\"7.2\" width=\"357.12\" height=\"266.112\"/>\n",
       "  </clipPath>\n",
       " </defs>\n",
       "</svg>\n"
      ],
      "text/plain": [
       "<Figure size 640x480 with 1 Axes>"
      ]
     },
     "metadata": {},
     "output_type": "display_data"
    }
   ],
   "source": [
    "idc_cf_graph, new_idc_events = make_counterfactual_graph(\n",
    "    input_graph, input_outcome | input_condition\n",
    ")\n",
    "idc_cf_graph.draw()"
   ]
  },
  {
   "cell_type": "markdown",
   "metadata": {},
   "source": [
    "# IDC* line 3\n",
    "The third line of IDC* checks that the counterfactual graph did not return **INCONSISTENT**.  We check that $\\gamma'\\wedge\\delta'$ is not None."
   ]
  },
  {
   "cell_type": "code",
   "execution_count": 26,
   "metadata": {},
   "outputs": [
    {
     "name": "stdout",
     "output_type": "stream",
     "text": [
      "Passed IDC* line 3\n"
     ]
    }
   ],
   "source": [
    "# We check that the new event $\\gamma'\\wedge\\delta'$ is not inconsistent\n",
    "assert new_idc_events is not None, \"IDC* line 3 failed, return Zero()\"\n",
    "print(\"Passed IDC* line 3\")"
   ]
  },
  {
   "cell_type": "markdown",
   "metadata": {},
   "source": [
    "# Prior to IDC* line 4\n",
    "Although not explicitly outlined in the algorithm, an supplementary step is incorporated here to partition $\\gamma'\\wedge\\delta'$ into $\\gamma'$ and $\\delta'$ for line 4. In the case of this simple example, no nodes were merged during the process of **make_counterfactual_graph** so we have $\\gamma=\\gamma'$ and $\\delta=\\delta'$."
   ]
  },
  {
   "cell_type": "code",
   "execution_count": 27,
   "metadata": {},
   "outputs": [
    {
     "name": "stdout",
     "output_type": "stream",
     "text": [
      "The new outcomes are {Y @ -X: -Y}\n",
      "The new conditions are {X: +X, Z @ -X: -Z}\n"
     ]
    }
   ],
   "source": [
    "idc_new_outcomes, idc_new_conditions = get_new_outcomes_and_conditions(\n",
    "    new_idc_events, input_outcome, input_condition\n",
    ")\n",
    "print(f\"The new outcomes are {idc_new_outcomes}\")\n",
    "print(f\"The new conditions are {idc_new_conditions}\")"
   ]
  },
  {
   "cell_type": "markdown",
   "metadata": {},
   "source": [
    "# IDC* line 4\n",
    "This is the key line in the **IDC*** algorithm. First we will check if any of the conditions {X: +x, Z @ -x: -z} are d-separted from the outcome {Y @ -x: -y}. IF there exist a condition d-separated from the outcome we call **IDC*** with that condition added removed from the conditions, and if the removed condition is an ancestor of the outcomes we add it to the subscripts of the outcome variables. \n",
    "\n",
    "Here we find that `Z @ -x: -z` is d-separated from `Y @ -x: -y` so we will add `Z` to the subscripts of the outcome variables and remove `Z` from the conditions."
   ]
  },
  {
   "cell_type": "code",
   "execution_count": 28,
   "metadata": {},
   "outputs": [
    {
     "name": "stdout",
     "output_type": "stream",
     "text": [
      "The new outcomes are {Y @ (-X, -Z): -Y}\n",
      "The new conditions are {X: +X}\n"
     ]
    }
   ],
   "source": [
    "# Check each condition\n",
    "for condition in idc_new_conditions:\n",
    "    # Does rule 2 apply, i.e. is the condition d-separated from the outcomes\n",
    "    if cf_rule_2_of_do_calculus_applies(idc_cf_graph, idc_new_outcomes, condition):\n",
    "        idc_new_outcomes = {\n",
    "            outcome.intervene(condition)\n",
    "            if condition in idc_cf_graph.ancestors_inclusive(outcome)\n",
    "            else outcome: value\n",
    "            for outcome, value in idc_new_outcomes.items()\n",
    "        }\n",
    "        idc_new_conditions = {k: v for k, v in idc_new_conditions.items() if k != condition}\n",
    "\n",
    "print(f\"The new outcomes are {idc_new_outcomes}\")\n",
    "print(f\"The new conditions are {idc_new_conditions}\")"
   ]
  },
  {
   "cell_type": "markdown",
   "metadata": {},
   "source": [
    "# IDC* line 4, recursive step\n",
    "After adding interventions to $\\gamma'$ and removing conditions from $\\delta'$ we call **IDC*** with the input_graph and the updated conditions and interventions.\n",
    "In this case we now have **IDC*** (input_graph, {Y @ (-X, -Z): -Y},{X: +X})"
   ]
  },
  {
   "cell_type": "markdown",
   "metadata": {},
   "source": [
    "## IDC* recursive call line 1-3\n",
    "Again on line 1 we find that id_star is not inconsistent, and when we create the counterfactual graph it returns a valid event.\n"
   ]
  },
  {
   "cell_type": "code",
   "execution_count": 29,
   "metadata": {},
   "outputs": [
    {
     "name": "stdout",
     "output_type": "stream",
     "text": [
      "line 1 IDC* algorithm: ID* algorithm is not inconsistent.\n",
      "Passed IDC* line 3\n"
     ]
    },
    {
     "data": {
      "image/svg+xml": [
       "<?xml version=\"1.0\" encoding=\"utf-8\" standalone=\"no\"?>\n",
       "<!DOCTYPE svg PUBLIC \"-//W3C//DTD SVG 1.1//EN\"\n",
       "  \"http://www.w3.org/Graphics/SVG/1.1/DTD/svg11.dtd\">\n",
       "<svg xmlns:xlink=\"http://www.w3.org/1999/xlink\" width=\"371.52pt\" height=\"280.512pt\" viewBox=\"0 0 371.52 280.512\" xmlns=\"http://www.w3.org/2000/svg\" version=\"1.1\">\n",
       " <metadata>\n",
       "  <rdf:RDF xmlns:dc=\"http://purl.org/dc/elements/1.1/\" xmlns:cc=\"http://creativecommons.org/ns#\" xmlns:rdf=\"http://www.w3.org/1999/02/22-rdf-syntax-ns#\">\n",
       "   <cc:Work>\n",
       "    <dc:type rdf:resource=\"http://purl.org/dc/dcmitype/StillImage\"/>\n",
       "    <dc:date>2023-06-28T11:56:56.981588</dc:date>\n",
       "    <dc:format>image/svg+xml</dc:format>\n",
       "    <dc:creator>\n",
       "     <cc:Agent>\n",
       "      <dc:title>Matplotlib v3.7.1, https://matplotlib.org/</dc:title>\n",
       "     </cc:Agent>\n",
       "    </dc:creator>\n",
       "   </cc:Work>\n",
       "  </rdf:RDF>\n",
       " </metadata>\n",
       " <defs>\n",
       "  <style type=\"text/css\">*{stroke-linejoin: round; stroke-linecap: butt}</style>\n",
       " </defs>\n",
       " <g id=\"figure_1\">\n",
       "  <g id=\"patch_1\">\n",
       "   <path d=\"M 0 280.512 \n",
       "L 371.52 280.512 \n",
       "L 371.52 0 \n",
       "L 0 0 \n",
       "z\n",
       "\" style=\"fill: #ffffff\"/>\n",
       "  </g>\n",
       "  <g id=\"axes_1\">\n",
       "   <g id=\"patch_2\">\n",
       "    <path d=\"M 107.758671 64.656 \n",
       "Q 186.307583 64.656 262.620427 64.656 \n",
       "\" clip-path=\"url(#pb2899ca343)\" style=\"fill: none; stroke: #000000; stroke-width: 2; stroke-linecap: round\"/>\n",
       "    <path d=\"M 254.620427 60.656 \n",
       "L 262.620427 64.656 \n",
       "L 254.620427 68.656 \n",
       "z\n",
       "\" clip-path=\"url(#pb2899ca343)\" style=\"stroke: #000000; stroke-width: 2; stroke-linecap: round\"/>\n",
       "   </g>\n",
       "   <g id=\"patch_3\">\n",
       "    <path d=\"M 102.235242 202.495417 \n",
       "Q 185.759031 140.256722 267.48981 79.354109 \n",
       "\" clip-path=\"url(#pb2899ca343)\" style=\"fill: none; stroke: #000000; stroke-width: 2; stroke-linecap: round\"/>\n",
       "    <path d=\"M 258.684887 80.926786 \n",
       "L 267.48981 79.354109 \n",
       "L 263.464998 87.341655 \n",
       "z\n",
       "\" clip-path=\"url(#pb2899ca343)\" style=\"stroke: #000000; stroke-width: 2; stroke-linecap: round\"/>\n",
       "   </g>\n",
       "   <g id=\"PathCollection_1\">\n",
       "    <defs>\n",
       "     <path id=\"ma428aff60a\" d=\"M 0 19.364917 \n",
       "C 5.135636 19.364917 10.061621 17.324507 13.693064 13.693064 \n",
       "C 17.324507 10.061621 19.364917 5.135636 19.364917 0 \n",
       "C 19.364917 -5.135636 17.324507 -10.061621 13.693064 -13.693064 \n",
       "C 10.061621 -17.324507 5.135636 -19.364917 0 -19.364917 \n",
       "C -5.135636 -19.364917 -10.061621 -17.324507 -13.693064 -13.693064 \n",
       "C -17.324507 -10.061621 -19.364917 -5.135636 -19.364917 0 \n",
       "C -19.364917 5.135636 -17.324507 10.061621 -13.693064 13.693064 \n",
       "C -10.061621 17.324507 -5.135636 19.364917 0 19.364917 \n",
       "z\n",
       "\" style=\"stroke: #000000; stroke-width: 2\"/>\n",
       "    </defs>\n",
       "    <g clip-path=\"url(#pb2899ca343)\">\n",
       "     <use xlink:href=\"#ma428aff60a\" x=\"288.072299\" y=\"215.856\" style=\"fill: #ffffff; stroke: #000000; stroke-width: 2\"/>\n",
       "     <use xlink:href=\"#ma428aff60a\" x=\"85.398669\" y=\"64.656\" style=\"fill: #ffffff; stroke: #000000; stroke-width: 2\"/>\n",
       "     <use xlink:href=\"#ma428aff60a\" x=\"84.305455\" y=\"215.856\" style=\"fill: #ffffff; stroke: #000000; stroke-width: 2\"/>\n",
       "     <use xlink:href=\"#ma428aff60a\" x=\"287.214545\" y=\"64.656\" style=\"fill: #ffffff; stroke: #000000; stroke-width: 2\"/>\n",
       "    </g>\n",
       "   </g>\n",
       "   <g id=\"text_1\">\n",
       "    <g clip-path=\"url(#pb2899ca343)\">\n",
       "     <!-- $X$ -->\n",
       "     <g transform=\"translate(281.172299 221.37475) scale(0.2 -0.2)\">\n",
       "      <defs>\n",
       "       <path id=\"DejaVuSans-Oblique-58\" d=\"M 878 4666 \n",
       "L 1516 4666 \n",
       "L 2316 2981 \n",
       "L 3763 4666 \n",
       "L 4500 4666 \n",
       "L 2578 2438 \n",
       "L 3738 0 \n",
       "L 3103 0 \n",
       "L 2163 1966 \n",
       "L 459 0 \n",
       "L -275 0 \n",
       "L 1906 2509 \n",
       "L 878 4666 \n",
       "z\n",
       "\" transform=\"scale(0.015625)\"/>\n",
       "      </defs>\n",
       "      <use xlink:href=\"#DejaVuSans-Oblique-58\" transform=\"translate(0 0.09375)\"/>\n",
       "     </g>\n",
       "    </g>\n",
       "   </g>\n",
       "   <g id=\"text_2\">\n",
       "    <g clip-path=\"url(#pb2899ca343)\">\n",
       "     <!-- ${X}_{X, Z}$ -->\n",
       "     <g transform=\"translate(64.998669 69.456) scale(0.2 -0.2)\">\n",
       "      <defs>\n",
       "       <path id=\"DejaVuSans-2c\" d=\"M 750 794 \n",
       "L 1409 794 \n",
       "L 1409 256 \n",
       "L 897 -744 \n",
       "L 494 -744 \n",
       "L 750 256 \n",
       "L 750 794 \n",
       "z\n",
       "\" transform=\"scale(0.015625)\"/>\n",
       "       <path id=\"DejaVuSans-Oblique-5a\" d=\"M 838 4666 \n",
       "L 4500 4666 \n",
       "L 4409 4184 \n",
       "L 794 531 \n",
       "L 3769 531 \n",
       "L 3669 0 \n",
       "L -141 0 \n",
       "L -50 481 \n",
       "L 3566 4134 \n",
       "L 738 4134 \n",
       "L 838 4666 \n",
       "z\n",
       "\" transform=\"scale(0.015625)\"/>\n",
       "      </defs>\n",
       "      <use xlink:href=\"#DejaVuSans-Oblique-58\" transform=\"translate(0 0.09375)\"/>\n",
       "      <use xlink:href=\"#DejaVuSans-Oblique-58\" transform=\"translate(68.505859 -16.3125) scale(0.7)\"/>\n",
       "      <use xlink:href=\"#DejaVuSans-2c\" transform=\"translate(116.459961 -16.3125) scale(0.7)\"/>\n",
       "      <use xlink:href=\"#DejaVuSans-Oblique-5a\" transform=\"translate(152.348633 -16.3125) scale(0.7)\"/>\n",
       "     </g>\n",
       "    </g>\n",
       "   </g>\n",
       "   <g id=\"text_3\">\n",
       "    <g clip-path=\"url(#pb2899ca343)\">\n",
       "     <!-- ${Z}_{X, Z}$ -->\n",
       "     <g transform=\"translate(63.905455 220.656) scale(0.2 -0.2)\">\n",
       "      <use xlink:href=\"#DejaVuSans-Oblique-5a\" transform=\"translate(0 0.09375)\"/>\n",
       "      <use xlink:href=\"#DejaVuSans-Oblique-58\" transform=\"translate(68.505859 -16.3125) scale(0.7)\"/>\n",
       "      <use xlink:href=\"#DejaVuSans-2c\" transform=\"translate(116.459961 -16.3125) scale(0.7)\"/>\n",
       "      <use xlink:href=\"#DejaVuSans-Oblique-5a\" transform=\"translate(152.348633 -16.3125) scale(0.7)\"/>\n",
       "     </g>\n",
       "    </g>\n",
       "   </g>\n",
       "   <g id=\"text_4\">\n",
       "    <g clip-path=\"url(#pb2899ca343)\">\n",
       "     <!-- ${Y}_{X, Z}$ -->\n",
       "     <g transform=\"translate(267.614545 69.456) scale(0.2 -0.2)\">\n",
       "      <defs>\n",
       "       <path id=\"DejaVuSans-Oblique-59\" d=\"M 403 4666 \n",
       "L 1081 4666 \n",
       "L 1953 2747 \n",
       "L 3616 4666 \n",
       "L 4325 4666 \n",
       "L 2209 2222 \n",
       "L 1778 0 \n",
       "L 1147 0 \n",
       "L 1575 2222 \n",
       "L 403 4666 \n",
       "z\n",
       "\" transform=\"scale(0.015625)\"/>\n",
       "      </defs>\n",
       "      <use xlink:href=\"#DejaVuSans-Oblique-59\" transform=\"translate(0 0.09375)\"/>\n",
       "      <use xlink:href=\"#DejaVuSans-Oblique-58\" transform=\"translate(61.083984 -16.3125) scale(0.7)\"/>\n",
       "      <use xlink:href=\"#DejaVuSans-2c\" transform=\"translate(109.038086 -16.3125) scale(0.7)\"/>\n",
       "      <use xlink:href=\"#DejaVuSans-Oblique-5a\" transform=\"translate(144.926758 -16.3125) scale(0.7)\"/>\n",
       "     </g>\n",
       "    </g>\n",
       "   </g>\n",
       "  </g>\n",
       " </g>\n",
       " <defs>\n",
       "  <clipPath id=\"pb2899ca343\">\n",
       "   <rect x=\"7.2\" y=\"7.2\" width=\"357.12\" height=\"266.112\"/>\n",
       "  </clipPath>\n",
       " </defs>\n",
       "</svg>\n"
      ],
      "text/plain": [
       "<Figure size 640x480 with 1 Axes>"
      ]
     },
     "metadata": {},
     "output_type": "display_data"
    }
   ],
   "source": [
    "# Check if ID* algorithm is not inconsistent\n",
    "try:\n",
    "    if isinstance(id_star(input_graph, idc_new_conditions), Zero):\n",
    "        raise ValueError(\"The ID* algorithm returned 0, so IDC* cannot be applied.\")\n",
    "    else:\n",
    "        print(\"line 1 IDC* algorithm: ID* algorithm is not inconsistent.\")\n",
    "except Unidentifiable:\n",
    "    print(\"line 1 IDC* algorithm: ID* algorithm is not identifiable, but is also not inconsistent.\")\n",
    "\n",
    "# create the counterfactual graph\n",
    "recursive_idc_cf_graph, recursive_new_idc_events = make_counterfactual_graph(\n",
    "    input_graph, idc_new_outcomes | idc_new_conditions\n",
    ")\n",
    "recursive_idc_cf_graph.draw()\n",
    "\n",
    "# We check that the new event $\\gamma'\\wedge\\delta'$ is not inconsistent\n",
    "assert recursive_new_idc_events is not None, \"IDC* line 3 failed, return Zero()\"\n",
    "print(\"Passed IDC* line 3\")"
   ]
  },
  {
   "cell_type": "markdown",
   "metadata": {},
   "source": [
    "## IDC* recursive call line 4\n",
    "When we reach **IDC*** line 4 again we find that `X` is d-separated from `Y @ {X,Z}` so it is removed from the conditions. We also find that `Y @ {X,Z}` is not an descendant of `X` and so no new intervention is added to `Y @ {X,Z}`. This causes a call to **IDC*** with an empty $\\delta$"
   ]
  },
  {
   "cell_type": "code",
   "execution_count": 30,
   "metadata": {},
   "outputs": [
    {
     "name": "stdout",
     "output_type": "stream",
     "text": [
      "The outcomes after recursion are {Y @ (-X, -Z): -Y}\n",
      "The conditions after recursion are {}\n"
     ]
    }
   ],
   "source": [
    "# recover the outcomes and conditions from the event returned from make_counterfactual_graph\n",
    "recursive_idc_new_outcomes, recursive_idc_new_conditions = get_new_outcomes_and_conditions(\n",
    "    recursive_new_idc_events, idc_new_outcomes, idc_new_conditions\n",
    ")\n",
    "\n",
    "# Check each condition\n",
    "for condition in recursive_idc_new_conditions:\n",
    "    # Does rule 2 apply, i.e. is the condition d-separated from the outcomes\n",
    "    if cf_rule_2_of_do_calculus_applies(\n",
    "        recursive_idc_cf_graph, recursive_idc_new_outcomes, condition\n",
    "    ):\n",
    "        recursive_idc_new_outcomes = {\n",
    "            outcome.intervene(condition)\n",
    "            if condition in recursive_idc_cf_graph.ancestors_inclusive(outcome)\n",
    "            else outcome: value\n",
    "            for outcome, value in recursive_idc_new_outcomes.items()\n",
    "        }\n",
    "        recursive_idc_new_conditions = {\n",
    "            k: v for k, v in recursive_idc_new_conditions.items() if k != condition\n",
    "        }\n",
    "\n",
    "print(f\"The outcomes after recursion are {recursive_idc_new_outcomes}\")\n",
    "print(f\"The conditions after recursion are {recursive_idc_new_conditions}\")"
   ]
  },
  {
   "cell_type": "markdown",
   "metadata": {},
   "source": [
    "# Final recursive call\n",
    "There is a final recursive call with an empty $\\delta$ , however, with no conditions we can instead call **ID*** directly."
   ]
  },
  {
   "cell_type": "code",
   "execution_count": 31,
   "metadata": {},
   "outputs": [],
   "source": [
    "walkthrough_result_idc = id_star(input_graph, recursive_idc_new_outcomes)"
   ]
  },
  {
   "cell_type": "markdown",
   "metadata": {},
   "source": [
    "# Final IDC* Checkpoint\n",
    "We will perform a check to make sure our idc_star implementation is equal to the expected result in (S. Tikka 2022)"
   ]
  },
  {
   "cell_type": "code",
   "execution_count": 32,
   "metadata": {},
   "outputs": [
    {
     "name": "stdout",
     "output_type": "stream",
     "text": [
      "idc_star implementation is equal to the result from (S. Tikka 2022)\n"
     ]
    }
   ],
   "source": [
    "# standardize the walkthrough result\n",
    "walkthrough_result_idc = canonicalize(walkthrough_result_idc)\n",
    "# get the result from actually running idc_star on the example\n",
    "algorithm_result_idc = idc_star(input_graph, input_outcome, input_condition)\n",
    "\n",
    "# get the result from (S. Tikka 2022)\n",
    "expected_idc = P(Y @ (-x, -z))\n",
    "expected_idc = canonicalize(expected_idc)\n",
    "\n",
    "\n",
    "assert (\n",
    "    expected_idc == algorithm_result_idc == walkthrough_result_idc\n",
    "), \"expected was not equal to the result in (S. Tikka 2022)\"\n",
    "print(\"idc_star implementation is equal to the result from (S. Tikka 2022)\")"
   ]
  },
  {
   "cell_type": "code",
   "execution_count": null,
   "metadata": {},
   "outputs": [],
   "source": []
  },
  {
   "cell_type": "code",
   "execution_count": null,
   "metadata": {},
   "outputs": [],
   "source": []
  },
  {
   "cell_type": "code",
   "execution_count": 34,
   "metadata": {},
   "outputs": [
    {
     "data": {
      "text/plain": [
       "({Y @ -Z: +Y}, {Y @ -X: -Y})"
      ]
     },
     "execution_count": 34,
     "metadata": {},
     "output_type": "execute_result"
    }
   ],
   "source": [
    "old_condition = {Y @ -x: -y, Y @ -z: +y}\n",
    "new_condition = {Y: -y, Y @ -z: +y}\n",
    "old_outcome = {Y @ -w: -y}\n",
    "new_outcome = {Y: -y}\n",
    "# P(Y: +y | +y)\n",
    "new_outcome = {Y: -y}\n",
    "remain_condition, missing_condition = get_remaining_and_missing_events(new_condition, old_condition)\n",
    "remain_condition, missing_condition"
   ]
  },
  {
   "cell_type": "code",
   "execution_count": 35,
   "metadata": {},
   "outputs": [],
   "source": [
    "expected_new_outcomes_and_conditions = {Y: -y}, {Y: -y, Y @ -z: +y}"
   ]
  },
  {
   "cell_type": "code",
   "execution_count": 36,
   "metadata": {},
   "outputs": [
    {
     "data": {
      "text/plain": [
       "({Y: -Y}, {Y @ -Z: +Y, Y: -Y})"
      ]
     },
     "execution_count": 36,
     "metadata": {},
     "output_type": "execute_result"
    }
   ],
   "source": [
    "get_new_outcomes_and_conditions(\n",
    "    new_event=new_outcome | new_condition, outcomes=old_outcome, conditions=old_condition\n",
    ")"
   ]
  },
  {
   "cell_type": "code",
   "execution_count": 37,
   "metadata": {},
   "outputs": [
    {
     "data": {
      "image/svg+xml": [
       "<?xml version=\"1.0\" encoding=\"utf-8\" standalone=\"no\"?>\n",
       "<!DOCTYPE svg PUBLIC \"-//W3C//DTD SVG 1.1//EN\"\n",
       "  \"http://www.w3.org/Graphics/SVG/1.1/DTD/svg11.dtd\">\n",
       "<svg xmlns:xlink=\"http://www.w3.org/1999/xlink\" width=\"371.52pt\" height=\"280.512pt\" viewBox=\"0 0 371.52 280.512\" xmlns=\"http://www.w3.org/2000/svg\" version=\"1.1\">\n",
       " <metadata>\n",
       "  <rdf:RDF xmlns:dc=\"http://purl.org/dc/elements/1.1/\" xmlns:cc=\"http://creativecommons.org/ns#\" xmlns:rdf=\"http://www.w3.org/1999/02/22-rdf-syntax-ns#\">\n",
       "   <cc:Work>\n",
       "    <dc:type rdf:resource=\"http://purl.org/dc/dcmitype/StillImage\"/>\n",
       "    <dc:date>2023-06-28T11:56:57.946298</dc:date>\n",
       "    <dc:format>image/svg+xml</dc:format>\n",
       "    <dc:creator>\n",
       "     <cc:Agent>\n",
       "      <dc:title>Matplotlib v3.7.1, https://matplotlib.org/</dc:title>\n",
       "     </cc:Agent>\n",
       "    </dc:creator>\n",
       "   </cc:Work>\n",
       "  </rdf:RDF>\n",
       " </metadata>\n",
       " <defs>\n",
       "  <style type=\"text/css\">*{stroke-linejoin: round; stroke-linecap: butt}</style>\n",
       " </defs>\n",
       " <g id=\"figure_1\">\n",
       "  <g id=\"patch_1\">\n",
       "   <path d=\"M 0 280.512 \n",
       "L 371.52 280.512 \n",
       "L 371.52 0 \n",
       "L 0 0 \n",
       "z\n",
       "\" style=\"fill: #ffffff\"/>\n",
       "  </g>\n",
       "  <g id=\"axes_1\">\n",
       "   <g id=\"patch_2\">\n",
       "    <path d=\"M 84.305455 193.499921 \n",
       "Q 84.305455 140.258615 84.305455 89.253377 \n",
       "\" clip-path=\"url(#p6c13dd77ea)\" style=\"fill: none; stroke: #000000; stroke-width: 2; stroke-linecap: round\"/>\n",
       "    <path d=\"M 80.305455 97.253377 \n",
       "L 84.305455 89.253377 \n",
       "L 88.305455 97.253377 \n",
       "z\n",
       "\" clip-path=\"url(#p6c13dd77ea)\" style=\"stroke: #000000; stroke-width: 2; stroke-linecap: round\"/>\n",
       "   </g>\n",
       "   <g id=\"patch_3\">\n",
       "    <path d=\"M 102.235242 202.495417 \n",
       "Q 185.759031 140.256722 267.48981 79.354109 \n",
       "\" clip-path=\"url(#p6c13dd77ea)\" style=\"fill: none; stroke: #000000; stroke-width: 2; stroke-linecap: round\"/>\n",
       "    <path d=\"M 258.684887 80.926786 \n",
       "L 267.48981 79.354109 \n",
       "L 263.464998 87.341655 \n",
       "z\n",
       "\" clip-path=\"url(#p6c13dd77ea)\" style=\"stroke: #000000; stroke-width: 2; stroke-linecap: round\"/>\n",
       "   </g>\n",
       "   <g id=\"patch_4\">\n",
       "    <path d=\"M 106.668924 64.656 \n",
       "Q 185.760943 64.656 262.616893 64.656 \n",
       "\" clip-path=\"url(#p6c13dd77ea)\" style=\"fill: none; stroke: #000000; stroke-width: 2; stroke-linecap: round\"/>\n",
       "    <path d=\"M 254.616893 60.656 \n",
       "L 262.616893 64.656 \n",
       "L 254.616893 68.656 \n",
       "z\n",
       "\" clip-path=\"url(#p6c13dd77ea)\" style=\"stroke: #000000; stroke-width: 2; stroke-linecap: round\"/>\n",
       "   </g>\n",
       "   <g id=\"patch_5\">\n",
       "    <path d=\"M 94.642922 196.026227 \n",
       "Q 119.329042 140.253616 94.640812 84.481005 \n",
       "\" clip-path=\"url(#p6c13dd77ea)\" style=\"fill: none; stroke-dasharray: 2,3.3; stroke-dashoffset: 0; stroke: #808080; stroke-width: 2; stroke-linecap: round\"/>\n",
       "   </g>\n",
       "   <g id=\"PathCollection_1\">\n",
       "    <defs>\n",
       "     <path id=\"m61ae9926f2\" d=\"M 0 19.364917 \n",
       "C 5.135636 19.364917 10.061621 17.324507 13.693064 13.693064 \n",
       "C 17.324507 10.061621 19.364917 5.135636 19.364917 0 \n",
       "C 19.364917 -5.135636 17.324507 -10.061621 13.693064 -13.693064 \n",
       "C 10.061621 -17.324507 5.135636 -19.364917 0 -19.364917 \n",
       "C -5.135636 -19.364917 -10.061621 -17.324507 -13.693064 -13.693064 \n",
       "C -17.324507 -10.061621 -19.364917 -5.135636 -19.364917 0 \n",
       "C -19.364917 5.135636 -17.324507 10.061621 -13.693064 13.693064 \n",
       "C -10.061621 17.324507 -5.135636 19.364917 0 19.364917 \n",
       "z\n",
       "\" style=\"stroke: #000000; stroke-width: 2\"/>\n",
       "    </defs>\n",
       "    <g clip-path=\"url(#p6c13dd77ea)\">\n",
       "     <use xlink:href=\"#m61ae9926f2\" x=\"84.305455\" y=\"215.856\" style=\"fill: #ffffff; stroke: #000000; stroke-width: 2\"/>\n",
       "     <use xlink:href=\"#m61ae9926f2\" x=\"84.305455\" y=\"64.656\" style=\"fill: #ffffff; stroke: #000000; stroke-width: 2\"/>\n",
       "     <use xlink:href=\"#m61ae9926f2\" x=\"287.214545\" y=\"64.656\" style=\"fill: #ffffff; stroke: #000000; stroke-width: 2\"/>\n",
       "    </g>\n",
       "   </g>\n",
       "   <g id=\"text_1\">\n",
       "    <g clip-path=\"url(#p6c13dd77ea)\">\n",
       "     <!-- $X$ -->\n",
       "     <g transform=\"translate(77.405455 221.37475) scale(0.2 -0.2)\">\n",
       "      <defs>\n",
       "       <path id=\"DejaVuSans-Oblique-58\" d=\"M 878 4666 \n",
       "L 1516 4666 \n",
       "L 2316 2981 \n",
       "L 3763 4666 \n",
       "L 4500 4666 \n",
       "L 2578 2438 \n",
       "L 3738 0 \n",
       "L 3103 0 \n",
       "L 2163 1966 \n",
       "L 459 0 \n",
       "L -275 0 \n",
       "L 1906 2509 \n",
       "L 878 4666 \n",
       "z\n",
       "\" transform=\"scale(0.015625)\"/>\n",
       "      </defs>\n",
       "      <use xlink:href=\"#DejaVuSans-Oblique-58\" transform=\"translate(0 0.09375)\"/>\n",
       "     </g>\n",
       "    </g>\n",
       "   </g>\n",
       "   <g id=\"text_2\">\n",
       "    <g clip-path=\"url(#p6c13dd77ea)\">\n",
       "     <!-- $Z$ -->\n",
       "     <g transform=\"translate(77.405455 70.17475) scale(0.2 -0.2)\">\n",
       "      <defs>\n",
       "       <path id=\"DejaVuSans-Oblique-5a\" d=\"M 838 4666 \n",
       "L 4500 4666 \n",
       "L 4409 4184 \n",
       "L 794 531 \n",
       "L 3769 531 \n",
       "L 3669 0 \n",
       "L -141 0 \n",
       "L -50 481 \n",
       "L 3566 4134 \n",
       "L 738 4134 \n",
       "L 838 4666 \n",
       "z\n",
       "\" transform=\"scale(0.015625)\"/>\n",
       "      </defs>\n",
       "      <use xlink:href=\"#DejaVuSans-Oblique-5a\" transform=\"translate(0 0.09375)\"/>\n",
       "     </g>\n",
       "    </g>\n",
       "   </g>\n",
       "   <g id=\"text_3\">\n",
       "    <g clip-path=\"url(#p6c13dd77ea)\">\n",
       "     <!-- $Y$ -->\n",
       "     <g transform=\"translate(281.014545 70.17475) scale(0.2 -0.2)\">\n",
       "      <defs>\n",
       "       <path id=\"DejaVuSans-Oblique-59\" d=\"M 403 4666 \n",
       "L 1081 4666 \n",
       "L 1953 2747 \n",
       "L 3616 4666 \n",
       "L 4325 4666 \n",
       "L 2209 2222 \n",
       "L 1778 0 \n",
       "L 1147 0 \n",
       "L 1575 2222 \n",
       "L 403 4666 \n",
       "z\n",
       "\" transform=\"scale(0.015625)\"/>\n",
       "      </defs>\n",
       "      <use xlink:href=\"#DejaVuSans-Oblique-59\" transform=\"translate(0 0.09375)\"/>\n",
       "     </g>\n",
       "    </g>\n",
       "   </g>\n",
       "  </g>\n",
       " </g>\n",
       " <defs>\n",
       "  <clipPath id=\"p6c13dd77ea\">\n",
       "   <rect x=\"7.2\" y=\"7.2\" width=\"357.12\" height=\"266.112\"/>\n",
       "  </clipPath>\n",
       " </defs>\n",
       "</svg>\n"
      ],
      "text/plain": [
       "<Figure size 640x480 with 1 Axes>"
      ]
     },
     "metadata": {},
     "output_type": "display_data"
    }
   ],
   "source": [
    "input_graph = tikka_figure_2.graph\n",
    "input_graph.draw()"
   ]
  },
  {
   "cell_type": "code",
   "execution_count": 38,
   "metadata": {},
   "outputs": [
    {
     "data": {
      "text/latex": [
       "$P({Y}_{X, Z})$"
      ],
      "text/plain": [
       "P(Y @ (-X, -Z))"
      ]
     },
     "execution_count": 38,
     "metadata": {},
     "output_type": "execute_result"
    }
   ],
   "source": [
    "input_outcome = {Y @ -x: -y}\n",
    "input_condition = {X: +x, Z @ -x: -z}\n",
    "idc_star(input_graph, input_outcome, input_condition)"
   ]
  },
  {
   "cell_type": "code",
   "execution_count": 39,
   "metadata": {},
   "outputs": [
    {
     "ename": "NameError",
     "evalue": "name 'CounterfactualVariable' is not defined",
     "output_type": "error",
     "traceback": [
      "\u001b[1;31m---------------------------------------------------------------------------\u001b[0m",
      "\u001b[1;31mNameError\u001b[0m                                 Traceback (most recent call last)",
      "Cell \u001b[1;32mIn[39], line 4\u001b[0m\n\u001b[0;32m      1\u001b[0m variables \u001b[38;5;241m=\u001b[39m {Z \u001b[38;5;241m@\u001b[39m \u001b[38;5;241m-\u001b[39md}\n\u001b[0;32m      3\u001b[0m variable \u001b[38;5;241m=\u001b[39m Z \u001b[38;5;241m@\u001b[39m \u001b[38;5;241m-\u001b[39md\n\u001b[1;32m----> 4\u001b[0m \u001b[38;5;28misinstance\u001b[39m(variable, \u001b[43mCounterfactualVariable\u001b[49m)\n\u001b[0;32m      5\u001b[0m \u001b[38;5;28mset\u001b[39m(\n\u001b[0;32m      6\u001b[0m     World(variable\u001b[38;5;241m.\u001b[39minterventions)\n\u001b[0;32m      7\u001b[0m     \u001b[38;5;28;01mfor\u001b[39;00m variable \u001b[38;5;129;01min\u001b[39;00m variables\n\u001b[0;32m      8\u001b[0m     \u001b[38;5;28;01mif\u001b[39;00m \u001b[38;5;28misinstance\u001b[39m(variable, CounterfactualVariable)\n\u001b[0;32m      9\u001b[0m )\n",
      "\u001b[1;31mNameError\u001b[0m: name 'CounterfactualVariable' is not defined"
     ]
    }
   ],
   "source": [
    "variables = {Z @ -d}\n",
    "\n",
    "variable = Z @ -d\n",
    "isinstance(variable, CounterfactualVariable)\n",
    "set(\n",
    "    World(variable.interventions)\n",
    "    for variable in variables\n",
    "    if isinstance(variable, CounterfactualVariable)\n",
    ")"
   ]
  },
  {
   "cell_type": "code",
   "execution_count": null,
   "metadata": {},
   "outputs": [],
   "source": [
    "set(\n",
    "    World(variable.interventions)\n",
    "    for variable in variables\n",
    "    if isinstance(variable, CounterfactualVariable)\n",
    ")"
   ]
  },
  {
   "cell_type": "code",
   "execution_count": null,
   "metadata": {},
   "outputs": [],
   "source": [
    "input_event5 = {Y @ (-D, -X): -Y, X: +X, Z: -Z}\n",
    "graph5 = NxMixedGraph.from_edges(\n",
    "    nodes=[Y @ (-D, -X), X, Z @ (-D, -X), Z, W @ (-D, -X), D @ (-D, -X), D, X @ (-D, -X)],\n",
    "    directed=[\n",
    "        (Z @ (-D, -X), Y @ (-D, -X)),\n",
    "        (W @ (-D, -X), Y @ (-D, -X)),\n",
    "        (D @ (-D, -X), Z @ (-D, -X)),\n",
    "        (D, Z),\n",
    "        (X @ (-D, -X), W @ (-D, -X)),\n",
    "    ],\n",
    "    undirected=[(Y @ (-D, -X), X), (Z @ (-D, -X), Z)],\n",
    ")\n",
    "district5 = {Z, Z @ (-D, -X)}\n",
    "graph5.draw()"
   ]
  },
  {
   "cell_type": "code",
   "execution_count": null,
   "metadata": {},
   "outputs": [],
   "source": [
    "figure_9c.graph.draw()"
   ]
  },
  {
   "cell_type": "code",
   "execution_count": null,
   "metadata": {},
   "outputs": [],
   "source": [
    "graph = figure_9a.graph\n",
    "event = {X: +x, D: -d, Z @ -d: -z}\n",
    "worlds = extract_interventions(event)\n",
    "pw_graph = make_parallel_worlds_graph(graph, worlds)\n",
    "new_event = dict(event)\n",
    "cf_graph = NxMixedGraph.from_edges(\n",
    "    nodes=pw_graph.nodes(),\n",
    "    directed=pw_graph.directed.edges(),\n",
    "    undirected=pw_graph.undirected.edges(),\n",
    ")\n",
    "pw_graph.draw()"
   ]
  },
  {
   "cell_type": "code",
   "execution_count": null,
   "metadata": {},
   "outputs": [],
   "source": [
    "worlds"
   ]
  },
  {
   "cell_type": "code",
   "execution_count": null,
   "metadata": {},
   "outputs": [],
   "source": [
    "make_counterfactual_graph(figure_9a.graph, {X: +x, D: -d, Z @ -d: -z})"
   ]
  },
  {
   "cell_type": "code",
   "execution_count": null,
   "metadata": {},
   "outputs": [],
   "source": [
    "id_star(figure_9a.graph, {Y @ -x: -y} | {X: +x, D: -d, Z @ -d: -z})"
   ]
  },
  {
   "cell_type": "code",
   "execution_count": null,
   "metadata": {},
   "outputs": [],
   "source": [
    "idc_star(figure_9a.graph, {Y @ -x: -y}, {X: +x, D: -d, Z @ -d: -z})"
   ]
  },
  {
   "cell_type": "code",
   "execution_count": null,
   "metadata": {},
   "outputs": [],
   "source": [
    "Z.intervene([D, D @ (-d, -x)])"
   ]
  },
  {
   "cell_type": "code",
   "execution_count": null,
   "metadata": {},
   "outputs": [],
   "source": [
    "_upgrade_ordering([D, D @ (-d, -x)])"
   ]
  },
  {
   "cell_type": "code",
   "execution_count": null,
   "metadata": {},
   "outputs": [],
   "source": [
    "_to_interventions((D @ (-D, -X), D))"
   ]
  },
  {
   "cell_type": "markdown",
   "metadata": {},
   "source": [
    "# Examples of Notation\n"
   ]
  },
  {
   "cell_type": "code",
   "execution_count": null,
   "metadata": {},
   "outputs": [],
   "source": [
    "W @ X"
   ]
  },
  {
   "cell_type": "code",
   "execution_count": null,
   "metadata": {},
   "outputs": [],
   "source": [
    "~W"
   ]
  },
  {
   "cell_type": "code",
   "execution_count": null,
   "metadata": {},
   "outputs": [],
   "source": [
    "P(Y @ X | ~X, Z @ D, D)"
   ]
  },
  {
   "cell_type": "code",
   "execution_count": null,
   "metadata": {},
   "outputs": [],
   "source": [
    "{Y @ X: y}, {Y @ X: ~y}"
   ]
  },
  {
   "cell_type": "code",
   "execution_count": null,
   "metadata": {},
   "outputs": [],
   "source": [
    "P(+Y @ +X)"
   ]
  },
  {
   "cell_type": "code",
   "execution_count": null,
   "metadata": {},
   "outputs": [],
   "source": [
    "P({Y @ +x: y})"
   ]
  },
  {
   "cell_type": "markdown",
   "metadata": {},
   "source": [
    "# Examples of `make_counterfactual_graph`"
   ]
  },
  {
   "cell_type": "code",
   "execution_count": null,
   "metadata": {},
   "outputs": [],
   "source": [
    "input_events = [{Y @ (-w, -z): -y, X @ (-w, -z): -x}, {Z @ -d: -z}, {W @ -x: -w}, {D: -d}]\n",
    "for input_event in input_events:\n",
    "    actual_graph, actual_event = make_counterfactual_graph(figure_9a.graph, input_event)\n",
    "    actual_graph.draw()\n",
    "    plt.show()"
   ]
  },
  {
   "cell_type": "code",
   "execution_count": null,
   "metadata": {},
   "outputs": [],
   "source": [
    "input_graph2 = figure_9a.graph\n",
    "input_event2 = {Y @ -x: -y, X: +x, Z @ -d: -d, D: -d}\n",
    "expected2 = Sum[W](P(Y @ (-z, -w), X @ (-z, -w)) * P(Z @ -d) * P(W @ -x) * P(D))\n",
    "display(expected2)\n",
    "display(id_star(input_graph2, input_event2))"
   ]
  },
  {
   "cell_type": "code",
   "execution_count": null,
   "metadata": {},
   "outputs": [],
   "source": [
    "P(+Y | -y)"
   ]
  },
  {
   "cell_type": "code",
   "execution_count": null,
   "metadata": {},
   "outputs": [],
   "source": [
    "str(idc_star(tikka_figure_2.graph, outcomes={Y @ -x: -y}, conditions={Z @ -x: -z, X: +x}))"
   ]
  },
  {
   "cell_type": "code",
   "execution_count": null,
   "metadata": {},
   "outputs": [],
   "source": [
    "P(X, Y).conditional([])"
   ]
  },
  {
   "cell_type": "code",
   "execution_count": null,
   "metadata": {},
   "outputs": [],
   "source": [
    "print(figure_9a.graph.nodes())\n",
    "print(figure_9a.graph.directed)\n",
    "print(figure_9a.graph.joint())\n",
    "figure_9a.graph.draw()"
   ]
  },
  {
   "cell_type": "markdown",
   "metadata": {},
   "source": [
    "# Counterfactual queries"
   ]
  },
  {
   "cell_type": "code",
   "execution_count": null,
   "metadata": {},
   "outputs": [],
   "source": []
  }
 ],
 "metadata": {
  "kernelspec": {
   "display_name": "y0-cg",
   "language": "python",
   "name": "y0-cg"
  },
  "language_info": {
   "codemirror_mode": {
    "name": "ipython",
    "version": 3
   },
   "file_extension": ".py",
   "mimetype": "text/x-python",
   "name": "python",
   "nbconvert_exporter": "python",
   "pygments_lexer": "ipython3",
   "version": "3.10.9"
  },
  "latex_envs": {
   "LaTeX_envs_menu_present": false,
   "autoclose": false,
   "autocomplete": false,
   "bibliofile": "biblio.bib",
   "cite_by": "apalike",
   "current_citInitial": 1,
   "eqLabelWithNumbers": true,
   "eqNumInitial": 1,
   "hotkeys": {
    "equation": "ctrl-q"
   },
   "labels_anchors": false,
   "latex_user_defs": false,
   "report_style_numbering": true,
   "user_envs_cfg": false
  },
  "toc": {
   "base_numbering": 1,
   "nav_menu": {},
   "number_sections": true,
   "sideBar": true,
   "skip_h1_title": false,
   "title_cell": "Table of Contents",
   "title_sidebar": "Contents",
   "toc_cell": true,
   "toc_position": {},
   "toc_section_display": true,
   "toc_window_display": true
  },
  "toc-autonumbering": true,
  "toc-showmarkdowntxt": false
 },
 "nbformat": 4,
 "nbformat_minor": 4
}
