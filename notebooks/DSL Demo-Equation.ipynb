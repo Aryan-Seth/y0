{
 "cells": [
  {
   "cell_type": "code",
   "execution_count": 1,
   "metadata": {},
   "outputs": [],
   "source": [
    "from y0.equation import Equation\n",
    "from y0.dsl import One, P, Sum, Variable\n",
    "import importlib\n",
    "import pdb"
   ]
  },
  {
   "cell_type": "code",
   "execution_count": 5,
   "metadata": {},
   "outputs": [],
   "source": [
    "class Test(Equation):\n",
    "    eq1 = One()\n",
    "    eq2 = P(A)\n",
    "    eq3 = P(A @ W)\n",
    "    eq4 = P(A @ ~W)\n",
    "    eq5 = P(A @ ~W @ X)\n",
    "    eq6 = P(A, B)\n",
    "    eq7 = P(A | B)\n",
    "    eq8 = One() / P(A | B)\n",
    "    eq9 = (One() / P(A | B)) * P(A)\n",
    "    eq10 = One() * P(A | B)\n",
    "    eq11 = P(A | B) * P(B)\n",
    "    eq12 = Sum[B](P(A | B))\n",
    "    eq13 = Sum(P(A | B) * Sum(P(C | D), [Q]), [S, T])\n",
    "    eq14 = Sum[W](P((Y @ ~Z @ W) & X) * P(D) * P(Z @ D) * P(W @ ~X))\n",
    "    eq15 = (P(A) / P(B)) / (P(C) / P(D))"
   ]
  },
  {
   "cell_type": "code",
   "execution_count": 6,
   "metadata": {},
   "outputs": [
    {
     "data": {
      "text/latex": [
       "$1$"
      ],
      "text/plain": [
       "<y0.dsl.One at 0x10e01be80>"
      ]
     },
     "execution_count": 6,
     "metadata": {},
     "output_type": "execute_result"
    }
   ],
   "source": [
    "Test.eq1"
   ]
  },
  {
   "cell_type": "code",
   "execution_count": 7,
   "metadata": {},
   "outputs": [
    {
     "data": {
      "text/latex": [
       "$P(A)$"
      ],
      "text/plain": [
       "P(Distribution(children=(Variable(name='A'),), parents=()))"
      ]
     },
     "execution_count": 7,
     "metadata": {},
     "output_type": "execute_result"
    }
   ],
   "source": [
    "Test.eq2"
   ]
  },
  {
   "cell_type": "code",
   "execution_count": 8,
   "metadata": {},
   "outputs": [
    {
     "data": {
      "text/latex": [
       "$P(A_{W})$"
      ],
      "text/plain": [
       "P(Distribution(children=(CounterfactualVariable(name='A', interventions=(Intervention(name='W', star=False),)),), parents=()))"
      ]
     },
     "execution_count": 8,
     "metadata": {},
     "output_type": "execute_result"
    }
   ],
   "source": [
    "Test.eq3"
   ]
  },
  {
   "cell_type": "code",
   "execution_count": 9,
   "metadata": {},
   "outputs": [
    {
     "data": {
      "text/latex": [
       "$P(A_{W^*})$"
      ],
      "text/plain": [
       "P(Distribution(children=(CounterfactualVariable(name='A', interventions=(Intervention(name='W', star=True),)),), parents=()))"
      ]
     },
     "execution_count": 9,
     "metadata": {},
     "output_type": "execute_result"
    }
   ],
   "source": [
    "Test.eq4"
   ]
  },
  {
   "cell_type": "code",
   "execution_count": 10,
   "metadata": {},
   "outputs": [
    {
     "data": {
      "text/latex": [
       "$P(A_{W^*,X})$"
      ],
      "text/plain": [
       "P(Distribution(children=(CounterfactualVariable(name='A', interventions=(Intervention(name='W', star=True), Intervention(name='X', star=False))),), parents=()))"
      ]
     },
     "execution_count": 10,
     "metadata": {},
     "output_type": "execute_result"
    }
   ],
   "source": [
    "Test.eq5"
   ]
  },
  {
   "cell_type": "code",
   "execution_count": 11,
   "metadata": {},
   "outputs": [
    {
     "data": {
      "text/latex": [
       "$P(A,B)$"
      ],
      "text/plain": [
       "P(Distribution(children=(Variable(name='A'), Variable(name='B')), parents=()))"
      ]
     },
     "execution_count": 11,
     "metadata": {},
     "output_type": "execute_result"
    }
   ],
   "source": [
    "Test.eq6"
   ]
  },
  {
   "cell_type": "code",
   "execution_count": 12,
   "metadata": {},
   "outputs": [
    {
     "data": {
      "text/latex": [
       "$P(A|B)$"
      ],
      "text/plain": [
       "P(Distribution(children=(Variable(name='A'),), parents=(Variable(name='B'),)))"
      ]
     },
     "execution_count": 12,
     "metadata": {},
     "output_type": "execute_result"
    }
   ],
   "source": [
    "Test.eq7"
   ]
  },
  {
   "cell_type": "code",
   "execution_count": 13,
   "metadata": {},
   "outputs": [
    {
     "data": {
      "text/latex": [
       "$\\frac{1}{P(A|B)}$"
      ],
      "text/plain": [
       "Fraction(numerator=<y0.dsl.One object at 0x10e01b370>, denominator=P(Distribution(children=(Variable(name='A'),), parents=(Variable(name='B'),))))"
      ]
     },
     "execution_count": 13,
     "metadata": {},
     "output_type": "execute_result"
    }
   ],
   "source": [
    "Test.eq8"
   ]
  },
  {
   "cell_type": "code",
   "execution_count": 14,
   "metadata": {},
   "outputs": [
    {
     "data": {
      "text/latex": [
       "$\\frac{P(A)}{P(A|B)}$"
      ],
      "text/plain": [
       "Fraction(numerator=P(Distribution(children=(Variable(name='A'),), parents=())), denominator=P(Distribution(children=(Variable(name='A'),), parents=(Variable(name='B'),))))"
      ]
     },
     "execution_count": 14,
     "metadata": {},
     "output_type": "execute_result"
    }
   ],
   "source": [
    "Test.eq9"
   ]
  },
  {
   "cell_type": "code",
   "execution_count": 15,
   "metadata": {},
   "outputs": [
    {
     "data": {
      "text/latex": [
       "$P(A|B)$"
      ],
      "text/plain": [
       "P(Distribution(children=(Variable(name='A'),), parents=(Variable(name='B'),)))"
      ]
     },
     "execution_count": 15,
     "metadata": {},
     "output_type": "execute_result"
    }
   ],
   "source": [
    "Test.eq10"
   ]
  },
  {
   "cell_type": "code",
   "execution_count": 16,
   "metadata": {},
   "outputs": [
    {
     "data": {
      "text/latex": [
       "$P(A|B) P(B)$"
      ],
      "text/plain": [
       "Product(expressions=(P(Distribution(children=(Variable(name='A'),), parents=(Variable(name='B'),))), P(Distribution(children=(Variable(name='B'),), parents=()))))"
      ]
     },
     "execution_count": 16,
     "metadata": {},
     "output_type": "execute_result"
    }
   ],
   "source": [
    "Test.eq11"
   ]
  },
  {
   "cell_type": "code",
   "execution_count": 17,
   "metadata": {},
   "outputs": [
    {
     "data": {
      "text/latex": [
       "$\\sum_{B} P(A|B)$"
      ],
      "text/plain": [
       "Sum(expression=P(Distribution(children=(Variable(name='A'),), parents=(Variable(name='B'),))), ranges=(Variable(name='B'),))"
      ]
     },
     "execution_count": 17,
     "metadata": {},
     "output_type": "execute_result"
    }
   ],
   "source": [
    "Test.eq12"
   ]
  },
  {
   "cell_type": "code",
   "execution_count": 18,
   "metadata": {},
   "outputs": [
    {
     "data": {
      "text/latex": [
       "$\\sum_{S,T} P(A|B) \\sum_{Q} P(C|D)$"
      ],
      "text/plain": [
       "Sum(expression=Product(expressions=(P(Distribution(children=(Variable(name='A'),), parents=(Variable(name='B'),))), Sum(expression=P(Distribution(children=(Variable(name='C'),), parents=(Variable(name='D'),))), ranges=[Variable(name='Q')]))), ranges=[Variable(name='S'), Variable(name='T')])"
      ]
     },
     "execution_count": 18,
     "metadata": {},
     "output_type": "execute_result"
    }
   ],
   "source": [
    "Test.eq13"
   ]
  },
  {
   "cell_type": "code",
   "execution_count": 19,
   "metadata": {},
   "outputs": [
    {
     "data": {
      "text/latex": [
       "$\\sum_{W} P(Y_{Z^*,W},X) P(D) P(Z_{D}) P(W_{X^*})$"
      ],
      "text/plain": [
       "Sum(expression=Product(expressions=(P(Distribution(children=(CounterfactualVariable(name='Y', interventions=(Intervention(name='Z', star=True), Intervention(name='W', star=False))), Variable(name='X')), parents=())), P(Distribution(children=(Variable(name='D'),), parents=())), P(Distribution(children=(CounterfactualVariable(name='Z', interventions=(Intervention(name='D', star=False),)),), parents=())), P(Distribution(children=(CounterfactualVariable(name='W', interventions=(Intervention(name='X', star=True),)),), parents=())))), ranges=(Variable(name='W'),))"
      ]
     },
     "execution_count": 19,
     "metadata": {},
     "output_type": "execute_result"
    }
   ],
   "source": [
    "Test.eq14"
   ]
  },
  {
   "cell_type": "code",
   "execution_count": 20,
   "metadata": {},
   "outputs": [
    {
     "data": {
      "text/latex": [
       "$\\frac{P(A) P(D)}{P(B) P(C)}$"
      ],
      "text/plain": [
       "Fraction(numerator=Product(expressions=(P(Distribution(children=(Variable(name='A'),), parents=())), P(Distribution(children=(Variable(name='D'),), parents=())))), denominator=Product(expressions=(P(Distribution(children=(Variable(name='B'),), parents=())), P(Distribution(children=(Variable(name='C'),), parents=())))))"
      ]
     },
     "execution_count": 20,
     "metadata": {},
     "output_type": "execute_result"
    }
   ],
   "source": [
    "Test.eq15"
   ]
  },
  {
   "cell_type": "code",
   "execution_count": null,
   "metadata": {},
   "outputs": [],
   "source": []
  }
 ],
 "metadata": {
  "kernelspec": {
   "display_name": "Python 3",
   "language": "python",
   "name": "python3"
  },
  "language_info": {
   "codemirror_mode": {
    "name": "ipython",
    "version": 3
   },
   "file_extension": ".py",
   "mimetype": "text/x-python",
   "name": "python",
   "nbconvert_exporter": "python",
   "pygments_lexer": "ipython3",
   "version": "3.8.5"
  },
  "toc": {
   "base_numbering": 1,
   "nav_menu": {},
   "number_sections": true,
   "sideBar": true,
   "skip_h1_title": false,
   "title_cell": "Table of Contents",
   "title_sidebar": "Contents",
   "toc_cell": false,
   "toc_position": {},
   "toc_section_display": true,
   "toc_window_display": false
  }
 },
 "nbformat": 4,
 "nbformat_minor": 4
}
