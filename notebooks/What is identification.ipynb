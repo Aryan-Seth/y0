{
 "cells": [
  {
   "cell_type": "markdown",
   "id": "0ffd55fe-0ddb-4e8e-95d8-12665ea55021",
   "metadata": {},
   "source": [
    "# Complete Identification Methods for the Causal Hierarchy\n",
    "\n",
    "## Background\n",
    "\n",
    "### Graphical models and Probability\n",
    "\n",
    "#### Example:  Smoking and cancer\n",
    "\n",
    "### D-separation and conditioning\n",
    "\n",
    "#### Example: D-separation without tears\n",
    "\n",
    "### Interventions and intervened models\n",
    "\n",
    "\n",
    "## What is the causal hierarchy?\n",
    "\n",
    "### Level 1: Associational queries and data\n",
    "\n",
    "\n",
    "\n",
    "### Level 2: Interventional queries and data\n",
    "\n",
    "\n",
    "### Level 3: Counterfactual queries and data"
   ]
  },
  {
   "cell_type": "markdown",
   "id": "d8275a6e-fb98-494f-a10a-450a054db6f5",
   "metadata": {},
   "source": [
    "##  What is identification?\n",
    "\n",
    "### Example: Back-door criterion\n",
    "### Example: Front-door criterion\n",
    "### Example: Napkin problem\n",
    "\n",
    "## What is the do-calculus?\n",
    "\n",
    "### What is an identification algorithm?\n",
    "\n",
    "### What is a sound and complete identification algorithm?\n",
    "\n"
   ]
  },
  {
   "cell_type": "markdown",
   "id": "5dd5623c-e292-4302-bab1-be9454d6970e",
   "metadata": {},
   "source": [
    "## Examples of identification\n",
    "\n",
    "### Example 1: ID\n",
    "\n",
    "\n",
    "### Example 2: IDC\n",
    "\n",
    "\n",
    "### Example 3: ID*\n",
    "\n",
    "\n",
    "### Example 4: IDC*\n",
    "\n",
    "\n"
   ]
  }
 ],
 "metadata": {
  "kernelspec": {
   "display_name": "Python 3 (ipykernel)",
   "language": "python",
   "name": "python3"
  },
  "language_info": {
   "codemirror_mode": {
    "name": "ipython",
    "version": 3
   },
   "file_extension": ".py",
   "mimetype": "text/x-python",
   "name": "python",
   "nbconvert_exporter": "python",
   "pygments_lexer": "ipython3",
   "version": "3.11.3"
  }
 },
 "nbformat": 4,
 "nbformat_minor": 5
}
